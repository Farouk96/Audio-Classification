{
  "cells": [
    {
      "cell_type": "markdown",
      "metadata": {
        "id": "view-in-github",
        "colab_type": "text"
      },
      "source": [
        "<a href=\"https://colab.research.google.com/github/Farouk96/Audio-Classification/blob/master/P7_02_02_New_methode.ipynb\" target=\"_parent\"><img src=\"https://colab.research.google.com/assets/colab-badge.svg\" alt=\"Open In Colab\"/></a>"
      ]
    },
    {
      "cell_type": "code",
      "execution_count": null,
      "metadata": {
        "id": "rUCIsvvMLtWi"
      },
      "outputs": [],
      "source": [
        "#!git clone https://github.com/Farouk96/Audio-Classification.git"
      ]
    },
    {
      "cell_type": "code",
      "execution_count": null,
      "metadata": {
        "id": "x1Qeo69IL3-3"
      },
      "outputs": [],
      "source": [
        "import torch\n",
        "import torchvision\n",
        "import torch.nn as nn\n",
        "import numpy as np\n",
        "import json\n",
        "import utils\n",
        "import validate\n",
        "import argparse\n",
        "import densenet\n",
        "import resnet\n",
        "import inception\n",
        "import time\n",
        "import datasetaug\n",
        "import datasetnormal\n",
        "import matplo\n",
        "\n",
        "from tqdm import tqdm\n",
        "#from tensorboardX import SummaryWriter"
      ]
    },
    {
      "cell_type": "code",
      "execution_count": null,
      "metadata": {
        "colab": {
          "base_uri": "https://localhost:8080/"
        },
        "id": "gs6DQDC3WNhJ",
        "outputId": "99b35e9a-3112-49b1-97e8-1a79f3c0596f"
      },
      "outputs": [
        {
          "output_type": "stream",
          "name": "stdout",
          "text": [
            "Collecting tensorboardX\n",
            "  Downloading tensorboardX-2.5-py2.py3-none-any.whl (125 kB)\n",
            "\u001b[?25l\r\u001b[K     |██▋                             | 10 kB 21.6 MB/s eta 0:00:01\r\u001b[K     |█████▎                          | 20 kB 26.5 MB/s eta 0:00:01\r\u001b[K     |███████▉                        | 30 kB 22.5 MB/s eta 0:00:01\r\u001b[K     |██████████▌                     | 40 kB 11.2 MB/s eta 0:00:01\r\u001b[K     |█████████████                   | 51 kB 11.5 MB/s eta 0:00:01\r\u001b[K     |███████████████▊                | 61 kB 13.3 MB/s eta 0:00:01\r\u001b[K     |██████████████████▎             | 71 kB 10.6 MB/s eta 0:00:01\r\u001b[K     |█████████████████████           | 81 kB 11.5 MB/s eta 0:00:01\r\u001b[K     |███████████████████████▌        | 92 kB 12.7 MB/s eta 0:00:01\r\u001b[K     |██████████████████████████▏     | 102 kB 11.9 MB/s eta 0:00:01\r\u001b[K     |████████████████████████████▊   | 112 kB 11.9 MB/s eta 0:00:01\r\u001b[K     |███████████████████████████████▍| 122 kB 11.9 MB/s eta 0:00:01\r\u001b[K     |████████████████████████████████| 125 kB 11.9 MB/s \n",
            "\u001b[?25hRequirement already satisfied: six in /usr/local/lib/python3.7/dist-packages (from tensorboardX) (1.15.0)\n",
            "Requirement already satisfied: protobuf>=3.8.0 in /usr/local/lib/python3.7/dist-packages (from tensorboardX) (3.17.3)\n",
            "Requirement already satisfied: numpy in /usr/local/lib/python3.7/dist-packages (from tensorboardX) (1.21.5)\n",
            "Installing collected packages: tensorboardX\n",
            "Successfully installed tensorboardX-2.5\n"
          ]
        }
      ],
      "source": [
        "!pip install tensorboardX"
      ]
    },
    {
      "cell_type": "code",
      "execution_count": null,
      "metadata": {
        "id": "E4N9pVpYWYAS"
      },
      "outputs": [],
      "source": [
        "from tensorboardX import SummaryWriter"
      ]
    },
    {
      "cell_type": "markdown",
      "source": [
        "#Audio preprocessing(normalisation-augmentation)"
      ],
      "metadata": {
        "id": "KvonA4I9i70I"
      }
    },
    {
      "cell_type": "code",
      "execution_count": null,
      "metadata": {
        "colab": {
          "base_uri": "https://localhost:8080/"
        },
        "id": "ajYZ3puQhLsv",
        "outputId": "ccadf534-4308-4087-a9d8-1b86e6ce1bc6"
      },
      "outputs": [
        {
          "output_type": "stream",
          "name": "stdout",
          "text": [
            "Finished audio {'name': '/content/drive/MyDrive/P07_ dog_cate_voice_classification/data/ cat_dogs/train/cat/cat_101.wav', 'class_idx': 0}\n",
            "Finished audio {'name': '/content/drive/MyDrive/P07_ dog_cate_voice_classification/data/ cat_dogs/train/cat/cat_107.wav', 'class_idx': 0}\n",
            "Finished audio {'name': '/content/drive/MyDrive/P07_ dog_cate_voice_classification/data/ cat_dogs/train/cat/cat_105.wav', 'class_idx': 0}\n",
            "Finished audio {'name': '/content/drive/MyDrive/P07_ dog_cate_voice_classification/data/ cat_dogs/train/cat/cat_141.wav', 'class_idx': 0}\n",
            "Finished audio {'name': '/content/drive/MyDrive/P07_ dog_cate_voice_classification/data/ cat_dogs/train/cat/cat_121.wav', 'class_idx': 0}\n",
            "Finished audio {'name': '/content/drive/MyDrive/P07_ dog_cate_voice_classification/data/ cat_dogs/train/cat/cat_122.wav', 'class_idx': 0}\n",
            "Finished audio {'name': '/content/drive/MyDrive/P07_ dog_cate_voice_classification/data/ cat_dogs/train/cat/cat_134.wav', 'class_idx': 0}\n",
            "Finished audio {'name': '/content/drive/MyDrive/P07_ dog_cate_voice_classification/data/ cat_dogs/train/cat/cat_100.wav', 'class_idx': 0}\n",
            "Finished audio {'name': '/content/drive/MyDrive/P07_ dog_cate_voice_classification/data/ cat_dogs/train/cat/cat_138.wav', 'class_idx': 0}\n",
            "Finished audio {'name': '/content/drive/MyDrive/P07_ dog_cate_voice_classification/data/ cat_dogs/train/cat/cat_142.wav', 'class_idx': 0}\n",
            "Finished audio {'name': '/content/drive/MyDrive/P07_ dog_cate_voice_classification/data/ cat_dogs/train/cat/cat_124.wav', 'class_idx': 0}\n",
            "Finished audio {'name': '/content/drive/MyDrive/P07_ dog_cate_voice_classification/data/ cat_dogs/train/cat/cat_113.wav', 'class_idx': 0}\n",
            "Finished audio {'name': '/content/drive/MyDrive/P07_ dog_cate_voice_classification/data/ cat_dogs/train/cat/cat_102.wav', 'class_idx': 0}\n",
            "Finished audio {'name': '/content/drive/MyDrive/P07_ dog_cate_voice_classification/data/ cat_dogs/train/cat/cat_146.wav', 'class_idx': 0}\n",
            "Finished audio {'name': '/content/drive/MyDrive/P07_ dog_cate_voice_classification/data/ cat_dogs/train/cat/cat_114.wav', 'class_idx': 0}\n",
            "Finished audio {'name': '/content/drive/MyDrive/P07_ dog_cate_voice_classification/data/ cat_dogs/train/cat/cat_119.wav', 'class_idx': 0}\n",
            "Finished audio {'name': '/content/drive/MyDrive/P07_ dog_cate_voice_classification/data/ cat_dogs/train/cat/cat_132.wav', 'class_idx': 0}\n",
            "Finished audio {'name': '/content/drive/MyDrive/P07_ dog_cate_voice_classification/data/ cat_dogs/train/cat/cat_103.wav', 'class_idx': 0}\n",
            "Finished audio {'name': '/content/drive/MyDrive/P07_ dog_cate_voice_classification/data/ cat_dogs/train/cat/cat_125.wav', 'class_idx': 0}\n",
            "Finished audio {'name': '/content/drive/MyDrive/P07_ dog_cate_voice_classification/data/ cat_dogs/train/cat/cat_117.wav', 'class_idx': 0}\n",
            "Finished audio {'name': '/content/drive/MyDrive/P07_ dog_cate_voice_classification/data/ cat_dogs/train/cat/cat_136.wav', 'class_idx': 0}\n",
            "Finished audio {'name': '/content/drive/MyDrive/P07_ dog_cate_voice_classification/data/ cat_dogs/train/cat/cat_128.wav', 'class_idx': 0}\n",
            "Finished audio {'name': '/content/drive/MyDrive/P07_ dog_cate_voice_classification/data/ cat_dogs/train/cat/cat_106.wav', 'class_idx': 0}\n",
            "Finished audio {'name': '/content/drive/MyDrive/P07_ dog_cate_voice_classification/data/ cat_dogs/train/cat/cat_140.wav', 'class_idx': 0}\n",
            "Finished audio {'name': '/content/drive/MyDrive/P07_ dog_cate_voice_classification/data/ cat_dogs/train/cat/cat_116.wav', 'class_idx': 0}\n",
            "Finished audio {'name': '/content/drive/MyDrive/P07_ dog_cate_voice_classification/data/ cat_dogs/train/cat/cat_118.wav', 'class_idx': 0}\n",
            "Finished audio {'name': '/content/drive/MyDrive/P07_ dog_cate_voice_classification/data/ cat_dogs/train/cat/cat_123.wav', 'class_idx': 0}\n",
            "Finished audio {'name': '/content/drive/MyDrive/P07_ dog_cate_voice_classification/data/ cat_dogs/train/cat/cat_108.wav', 'class_idx': 0}\n",
            "Finished audio {'name': '/content/drive/MyDrive/P07_ dog_cate_voice_classification/data/ cat_dogs/train/cat/cat_131.wav', 'class_idx': 0}\n",
            "Finished audio {'name': '/content/drive/MyDrive/P07_ dog_cate_voice_classification/data/ cat_dogs/train/cat/cat_109.wav', 'class_idx': 0}\n",
            "Finished audio {'name': '/content/drive/MyDrive/P07_ dog_cate_voice_classification/data/ cat_dogs/train/cat/cat_127.wav', 'class_idx': 0}\n",
            "Finished audio {'name': '/content/drive/MyDrive/P07_ dog_cate_voice_classification/data/ cat_dogs/train/cat/cat_147.wav', 'class_idx': 0}\n",
            "Finished audio {'name': '/content/drive/MyDrive/P07_ dog_cate_voice_classification/data/ cat_dogs/train/cat/cat_139.wav', 'class_idx': 0}\n",
            "Finished audio {'name': '/content/drive/MyDrive/P07_ dog_cate_voice_classification/data/ cat_dogs/train/cat/cat_120.wav', 'class_idx': 0}\n",
            "Finished audio {'name': '/content/drive/MyDrive/P07_ dog_cate_voice_classification/data/ cat_dogs/train/cat/cat_154.wav', 'class_idx': 0}\n",
            "Finished audio {'name': '/content/drive/MyDrive/P07_ dog_cate_voice_classification/data/ cat_dogs/train/cat/cat_163.wav', 'class_idx': 0}\n",
            "Finished audio {'name': '/content/drive/MyDrive/P07_ dog_cate_voice_classification/data/ cat_dogs/train/cat/cat_69.wav', 'class_idx': 0}\n",
            "Finished audio {'name': '/content/drive/MyDrive/P07_ dog_cate_voice_classification/data/ cat_dogs/train/cat/cat_72.wav', 'class_idx': 0}\n",
            "Finished audio {'name': '/content/drive/MyDrive/P07_ dog_cate_voice_classification/data/ cat_dogs/train/cat/cat_150.wav', 'class_idx': 0}\n",
            "Finished audio {'name': '/content/drive/MyDrive/P07_ dog_cate_voice_classification/data/ cat_dogs/train/cat/cat_161.wav', 'class_idx': 0}\n",
            "Finished audio {'name': '/content/drive/MyDrive/P07_ dog_cate_voice_classification/data/ cat_dogs/train/cat/cat_160.wav', 'class_idx': 0}\n",
            "Finished audio {'name': '/content/drive/MyDrive/P07_ dog_cate_voice_classification/data/ cat_dogs/train/cat/cat_157.wav', 'class_idx': 0}\n",
            "Finished audio {'name': '/content/drive/MyDrive/P07_ dog_cate_voice_classification/data/ cat_dogs/train/cat/cat_54.wav', 'class_idx': 0}\n",
            "Finished audio {'name': '/content/drive/MyDrive/P07_ dog_cate_voice_classification/data/ cat_dogs/train/cat/cat_78.wav', 'class_idx': 0}\n",
            "Finished audio {'name': '/content/drive/MyDrive/P07_ dog_cate_voice_classification/data/ cat_dogs/train/cat/cat_65.wav', 'class_idx': 0}\n",
            "Finished audio {'name': '/content/drive/MyDrive/P07_ dog_cate_voice_classification/data/ cat_dogs/train/cat/cat_166.wav', 'class_idx': 0}\n",
            "Finished audio {'name': '/content/drive/MyDrive/P07_ dog_cate_voice_classification/data/ cat_dogs/train/cat/cat_162.wav', 'class_idx': 0}\n",
            "Finished audio {'name': '/content/drive/MyDrive/P07_ dog_cate_voice_classification/data/ cat_dogs/train/cat/cat_77.wav', 'class_idx': 0}\n",
            "Finished audio {'name': '/content/drive/MyDrive/P07_ dog_cate_voice_classification/data/ cat_dogs/train/cat/cat_60.wav', 'class_idx': 0}\n",
            "Finished audio {'name': '/content/drive/MyDrive/P07_ dog_cate_voice_classification/data/ cat_dogs/train/cat/cat_156.wav', 'class_idx': 0}\n",
            "Finished audio {'name': '/content/drive/MyDrive/P07_ dog_cate_voice_classification/data/ cat_dogs/train/cat/cat_153.wav', 'class_idx': 0}\n",
            "Finished audio {'name': '/content/drive/MyDrive/P07_ dog_cate_voice_classification/data/ cat_dogs/train/cat/cat_151.wav', 'class_idx': 0}\n",
            "Finished audio {'name': '/content/drive/MyDrive/P07_ dog_cate_voice_classification/data/ cat_dogs/train/cat/cat_50.wav', 'class_idx': 0}\n",
            "Finished audio {'name': '/content/drive/MyDrive/P07_ dog_cate_voice_classification/data/ cat_dogs/train/cat/cat_74.wav', 'class_idx': 0}\n",
            "Finished audio {'name': '/content/drive/MyDrive/P07_ dog_cate_voice_classification/data/ cat_dogs/train/cat/cat_70.wav', 'class_idx': 0}\n",
            "Finished audio {'name': '/content/drive/MyDrive/P07_ dog_cate_voice_classification/data/ cat_dogs/train/cat/cat_64.wav', 'class_idx': 0}\n",
            "Finished audio {'name': '/content/drive/MyDrive/P07_ dog_cate_voice_classification/data/ cat_dogs/train/cat/cat_159.wav', 'class_idx': 0}\n",
            "Finished audio {'name': '/content/drive/MyDrive/P07_ dog_cate_voice_classification/data/ cat_dogs/train/cat/cat_71.wav', 'class_idx': 0}\n",
            "Finished audio {'name': '/content/drive/MyDrive/P07_ dog_cate_voice_classification/data/ cat_dogs/train/cat/cat_73.wav', 'class_idx': 0}\n",
            "Finished audio {'name': '/content/drive/MyDrive/P07_ dog_cate_voice_classification/data/ cat_dogs/train/cat/cat_68.wav', 'class_idx': 0}\n",
            "Finished audio {'name': '/content/drive/MyDrive/P07_ dog_cate_voice_classification/data/ cat_dogs/train/cat/cat_165.wav', 'class_idx': 0}\n",
            "Finished audio {'name': '/content/drive/MyDrive/P07_ dog_cate_voice_classification/data/ cat_dogs/train/cat/cat_167.wav', 'class_idx': 0}\n",
            "Finished audio {'name': '/content/drive/MyDrive/P07_ dog_cate_voice_classification/data/ cat_dogs/train/cat/cat_155.wav', 'class_idx': 0}\n",
            "Finished audio {'name': '/content/drive/MyDrive/P07_ dog_cate_voice_classification/data/ cat_dogs/train/cat/cat_164.wav', 'class_idx': 0}\n",
            "Finished audio {'name': '/content/drive/MyDrive/P07_ dog_cate_voice_classification/data/ cat_dogs/train/cat/cat_53.wav', 'class_idx': 0}\n",
            "Finished audio {'name': '/content/drive/MyDrive/P07_ dog_cate_voice_classification/data/ cat_dogs/train/cat/cat_63.wav', 'class_idx': 0}\n",
            "Finished audio {'name': '/content/drive/MyDrive/P07_ dog_cate_voice_classification/data/ cat_dogs/train/cat/cat_52.wav', 'class_idx': 0}\n",
            "Finished audio {'name': '/content/drive/MyDrive/P07_ dog_cate_voice_classification/data/ cat_dogs/train/cat/cat_149.wav', 'class_idx': 0}\n",
            "Finished audio {'name': '/content/drive/MyDrive/P07_ dog_cate_voice_classification/data/ cat_dogs/train/dog/dog_barking_6.wav', 'class_idx': 1}\n",
            "Finished audio {'name': '/content/drive/MyDrive/P07_ dog_cate_voice_classification/data/ cat_dogs/train/dog/dog_barking_32.wav', 'class_idx': 1}\n",
            "Finished audio {'name': '/content/drive/MyDrive/P07_ dog_cate_voice_classification/data/ cat_dogs/train/dog/dog_barking_47.wav', 'class_idx': 1}\n",
            "Finished audio {'name': '/content/drive/MyDrive/P07_ dog_cate_voice_classification/data/ cat_dogs/train/dog/dog_barking_88.wav', 'class_idx': 1}\n",
            "Finished audio {'name': '/content/drive/MyDrive/P07_ dog_cate_voice_classification/data/ cat_dogs/train/dog/dog_barking_110.wav', 'class_idx': 1}\n",
            "Finished audio {'name': '/content/drive/MyDrive/P07_ dog_cate_voice_classification/data/ cat_dogs/train/dog/dog_barking_58.wav', 'class_idx': 1}\n",
            "Finished audio {'name': '/content/drive/MyDrive/P07_ dog_cate_voice_classification/data/ cat_dogs/train/dog/dog_barking_28.wav', 'class_idx': 1}\n",
            "Finished audio {'name': '/content/drive/MyDrive/P07_ dog_cate_voice_classification/data/ cat_dogs/train/dog/dog_barking_29.wav', 'class_idx': 1}\n",
            "Finished audio {'name': '/content/drive/MyDrive/P07_ dog_cate_voice_classification/data/ cat_dogs/train/dog/dog_barking_21.wav', 'class_idx': 1}\n",
            "Finished audio {'name': '/content/drive/MyDrive/P07_ dog_cate_voice_classification/data/ cat_dogs/train/dog/dog_barking_101.wav', 'class_idx': 1}\n",
            "Finished audio {'name': '/content/drive/MyDrive/P07_ dog_cate_voice_classification/data/ cat_dogs/train/dog/dog_barking_56.wav', 'class_idx': 1}\n",
            "Finished audio {'name': '/content/drive/MyDrive/P07_ dog_cate_voice_classification/data/ cat_dogs/train/dog/dog_barking_25.wav', 'class_idx': 1}\n",
            "Finished audio {'name': '/content/drive/MyDrive/P07_ dog_cate_voice_classification/data/ cat_dogs/train/dog/dog_barking_79.wav', 'class_idx': 1}\n",
            "Finished audio {'name': '/content/drive/MyDrive/P07_ dog_cate_voice_classification/data/ cat_dogs/train/dog/dog_barking_36.wav', 'class_idx': 1}\n",
            "Finished audio {'name': '/content/drive/MyDrive/P07_ dog_cate_voice_classification/data/ cat_dogs/train/dog/dog_barking_41.wav', 'class_idx': 1}\n",
            "Finished audio {'name': '/content/drive/MyDrive/P07_ dog_cate_voice_classification/data/ cat_dogs/train/dog/dog_barking_67.wav', 'class_idx': 1}\n",
            "Finished audio {'name': '/content/drive/MyDrive/P07_ dog_cate_voice_classification/data/ cat_dogs/train/dog/dog_barking_11.wav', 'class_idx': 1}\n",
            "Finished audio {'name': '/content/drive/MyDrive/P07_ dog_cate_voice_classification/data/ cat_dogs/train/dog/dog_barking_52.wav', 'class_idx': 1}\n",
            "Finished audio {'name': '/content/drive/MyDrive/P07_ dog_cate_voice_classification/data/ cat_dogs/train/dog/dog_barking_86.wav', 'class_idx': 1}\n",
            "Finished audio {'name': '/content/drive/MyDrive/P07_ dog_cate_voice_classification/data/ cat_dogs/train/dog/dog_barking_72.wav', 'class_idx': 1}\n",
            "Finished audio {'name': '/content/drive/MyDrive/P07_ dog_cate_voice_classification/data/ cat_dogs/train/dog/dog_barking_65.wav', 'class_idx': 1}\n",
            "Finished audio {'name': '/content/drive/MyDrive/P07_ dog_cate_voice_classification/data/ cat_dogs/train/dog/dog_barking_55.wav', 'class_idx': 1}\n",
            "Finished audio {'name': '/content/drive/MyDrive/P07_ dog_cate_voice_classification/data/ cat_dogs/train/dog/dog_barking_87.wav', 'class_idx': 1}\n",
            "Finished audio {'name': '/content/drive/MyDrive/P07_ dog_cate_voice_classification/data/ cat_dogs/train/dog/dog_barking_85.wav', 'class_idx': 1}\n",
            "Finished audio {'name': '/content/drive/MyDrive/P07_ dog_cate_voice_classification/data/ cat_dogs/train/dog/dog_barking_2.wav', 'class_idx': 1}\n",
            "Finished audio {'name': '/content/drive/MyDrive/P07_ dog_cate_voice_classification/data/ cat_dogs/train/dog/dog_barking_97.wav', 'class_idx': 1}\n",
            "Finished audio {'name': '/content/drive/MyDrive/P07_ dog_cate_voice_classification/data/ cat_dogs/train/dog/dog_barking_51.wav', 'class_idx': 1}\n",
            "Finished audio {'name': '/content/drive/MyDrive/P07_ dog_cate_voice_classification/data/ cat_dogs/train/dog/dog_barking_37.wav', 'class_idx': 1}\n",
            "Finished audio {'name': '/content/drive/MyDrive/P07_ dog_cate_voice_classification/data/ cat_dogs/train/dog/dog_barking_20.wav', 'class_idx': 1}\n",
            "Finished audio {'name': '/content/drive/MyDrive/P07_ dog_cate_voice_classification/data/ cat_dogs/train/dog/dog_barking_63.wav', 'class_idx': 1}\n",
            "Finished audio {'name': '/content/drive/MyDrive/P07_ dog_cate_voice_classification/data/ cat_dogs/train/dog/dog_barking_103.wav', 'class_idx': 1}\n",
            "Finished audio {'name': '/content/drive/MyDrive/P07_ dog_cate_voice_classification/data/ cat_dogs/train/dog/dog_barking_53.wav', 'class_idx': 1}\n",
            "Finished audio {'name': '/content/drive/MyDrive/P07_ dog_cate_voice_classification/data/ cat_dogs/train/dog/dog_barking_81.wav', 'class_idx': 1}\n",
            "Finished audio {'name': '/content/drive/MyDrive/P07_ dog_cate_voice_classification/data/ cat_dogs/train/dog/dog_barking_95.wav', 'class_idx': 1}\n",
            "Finished audio {'name': '/content/drive/MyDrive/P07_ dog_cate_voice_classification/data/ cat_dogs/train/dog/dog_barking_105.wav', 'class_idx': 1}\n",
            "Finished audio {'name': '/content/drive/MyDrive/P07_ dog_cate_voice_classification/data/ cat_dogs/train/dog/dog_barking_5.wav', 'class_idx': 1}\n",
            "Finished audio {'name': '/content/drive/MyDrive/P07_ dog_cate_voice_classification/data/ cat_dogs/train/dog/dog_barking_70.wav', 'class_idx': 1}\n",
            "Finished audio {'name': '/content/drive/MyDrive/P07_ dog_cate_voice_classification/data/ cat_dogs/train/dog/dog_barking_31.wav', 'class_idx': 1}\n",
            "Finished audio {'name': '/content/drive/MyDrive/P07_ dog_cate_voice_classification/data/ cat_dogs/train/dog/dog_barking_93.wav', 'class_idx': 1}\n",
            "Finished audio {'name': '/content/drive/MyDrive/P07_ dog_cate_voice_classification/data/ cat_dogs/train/dog/dog_barking_23.wav', 'class_idx': 1}\n",
            "Finished audio {'name': '/content/drive/MyDrive/P07_ dog_cate_voice_classification/data/ cat_dogs/train/dog/dog_barking_76.wav', 'class_idx': 1}\n",
            "Finished audio {'name': '/content/drive/MyDrive/P07_ dog_cate_voice_classification/data/ cat_dogs/train/dog/dog_barking_71.wav', 'class_idx': 1}\n",
            "Finished audio {'name': '/content/drive/MyDrive/P07_ dog_cate_voice_classification/data/ cat_dogs/train/dog/dog_barking_0.wav', 'class_idx': 1}\n",
            "Finished audio {'name': '/content/drive/MyDrive/P07_ dog_cate_voice_classification/data/ cat_dogs/train/dog/dog_barking_38.wav', 'class_idx': 1}\n",
            "Finished audio {'name': '/content/drive/MyDrive/P07_ dog_cate_voice_classification/data/ cat_dogs/train/dog/dog_barking_35.wav', 'class_idx': 1}\n",
            "Finished audio {'name': '/content/drive/MyDrive/P07_ dog_cate_voice_classification/data/ cat_dogs/train/dog/dog_barking_16.wav', 'class_idx': 1}\n",
            "Finished audio {'name': '/content/drive/MyDrive/P07_ dog_cate_voice_classification/data/ cat_dogs/train/dog/dog_barking_14.wav', 'class_idx': 1}\n",
            "Finished audio {'name': '/content/drive/MyDrive/P07_ dog_cate_voice_classification/data/ cat_dogs/train/dog/dog_barking_74.wav', 'class_idx': 1}\n",
            "Finished audio {'name': '/content/drive/MyDrive/P07_ dog_cate_voice_classification/data/ cat_dogs/train/dog/dog_barking_80.wav', 'class_idx': 1}\n",
            "Finished audio {'name': '/content/drive/MyDrive/P07_ dog_cate_voice_classification/data/ cat_dogs/train/dog/dog_barking_92.wav', 'class_idx': 1}\n",
            "Finished audio {'name': '/content/drive/MyDrive/P07_ dog_cate_voice_classification/data/ cat_dogs/train/dog/dog_barking_57.wav', 'class_idx': 1}\n",
            "Finished audio {'name': '/content/drive/MyDrive/P07_ dog_cate_voice_classification/data/ cat_dogs/train/dog/dog_barking_104.wav', 'class_idx': 1}\n",
            "Finished audio {'name': '/content/drive/MyDrive/P07_ dog_cate_voice_classification/data/ cat_dogs/train/dog/dog_barking_4.wav', 'class_idx': 1}\n",
            "Finished audio {'name': '/content/drive/MyDrive/P07_ dog_cate_voice_classification/data/ cat_dogs/train/dog/dog_barking_68.wav', 'class_idx': 1}\n",
            "Finished audio {'name': '/content/drive/MyDrive/P07_ dog_cate_voice_classification/data/ cat_dogs/train/dog/dog_barking_106.wav', 'class_idx': 1}\n",
            "Finished audio {'name': '/content/drive/MyDrive/P07_ dog_cate_voice_classification/data/ cat_dogs/train/dog/dog_barking_50.wav', 'class_idx': 1}\n",
            "Finished audio {'name': '/content/drive/MyDrive/P07_ dog_cate_voice_classification/data/ cat_dogs/train/dog/dog_barking_96.wav', 'class_idx': 1}\n",
            "Finished audio {'name': '/content/drive/MyDrive/P07_ dog_cate_voice_classification/data/ cat_dogs/train/dog/dog_barking_83.wav', 'class_idx': 1}\n",
            "Finished audio {'name': '/content/drive/MyDrive/P07_ dog_cate_voice_classification/data/ cat_dogs/train/dog/dog_barking_40.wav', 'class_idx': 1}\n",
            "Finished audio {'name': '/content/drive/MyDrive/P07_ dog_cate_voice_classification/data/ cat_dogs/train/dog/dog_barking_61.wav', 'class_idx': 1}\n",
            "Finished audio {'name': '/content/drive/MyDrive/P07_ dog_cate_voice_classification/data/ cat_dogs/train/dog/dog_barking_17.wav', 'class_idx': 1}\n",
            "Finished audio {'name': '/content/drive/MyDrive/P07_ dog_cate_voice_classification/data/ cat_dogs/train/dog/dog_barking_60.wav', 'class_idx': 1}\n",
            "Finished audio {'name': '/content/drive/MyDrive/P07_ dog_cate_voice_classification/data/ cat_dogs/train/dog/dog_barking_13.wav', 'class_idx': 1}\n",
            "Finished audio {'name': '/content/drive/MyDrive/P07_ dog_cate_voice_classification/data/ cat_dogs/train/dog/dog_barking_111.wav', 'class_idx': 1}\n",
            "Finished audio {'name': '/content/drive/MyDrive/P07_ dog_cate_voice_classification/data/ cat_dogs/train/dog/dog_barking_22.wav', 'class_idx': 1}\n",
            "Finished audio {'name': '/content/drive/MyDrive/P07_ dog_cate_voice_classification/data/ cat_dogs/train/dog/dog_barking_42.wav', 'class_idx': 1}\n",
            "Finished audio {'name': '/content/drive/MyDrive/P07_ dog_cate_voice_classification/data/ cat_dogs/train/dog/dog_barking_77.wav', 'class_idx': 1}\n",
            "Finished audio {'name': '/content/drive/MyDrive/P07_ dog_cate_voice_classification/data/ cat_dogs/train/dog/dog_barking_75.wav', 'class_idx': 1}\n",
            "Finished audio {'name': '/content/drive/MyDrive/P07_ dog_cate_voice_classification/data/ cat_dogs/train/cat/cat_51.wav', 'class_idx': 0}\n",
            "Finished audio {'name': '/content/drive/MyDrive/P07_ dog_cate_voice_classification/data/ cat_dogs/train/cat/cat_62.wav', 'class_idx': 0}\n",
            "Finished audio {'name': '/content/drive/MyDrive/P07_ dog_cate_voice_classification/data/ cat_dogs/train/cat/cat_95.wav', 'class_idx': 0}\n",
            "Finished audio {'name': '/content/drive/MyDrive/P07_ dog_cate_voice_classification/data/ cat_dogs/train/cat/cat_80.wav', 'class_idx': 0}\n",
            "Finished audio {'name': '/content/drive/MyDrive/P07_ dog_cate_voice_classification/data/ cat_dogs/train/cat/cat_96.wav', 'class_idx': 0}\n",
            "Finished audio {'name': '/content/drive/MyDrive/P07_ dog_cate_voice_classification/data/ cat_dogs/train/cat/cat_99.wav', 'class_idx': 0}\n",
            "Finished audio {'name': '/content/drive/MyDrive/P07_ dog_cate_voice_classification/data/ cat_dogs/train/cat/cat_94.wav', 'class_idx': 0}\n",
            "Finished audio {'name': '/content/drive/MyDrive/P07_ dog_cate_voice_classification/data/ cat_dogs/train/cat/cat_91.wav', 'class_idx': 0}\n",
            "Finished audio {'name': '/content/drive/MyDrive/P07_ dog_cate_voice_classification/data/ cat_dogs/train/cat/cat_87.wav', 'class_idx': 0}\n",
            "Finished audio {'name': '/content/drive/MyDrive/P07_ dog_cate_voice_classification/data/ cat_dogs/train/cat/cat_81.wav', 'class_idx': 0}\n",
            "Finished audio {'name': '/content/drive/MyDrive/P07_ dog_cate_voice_classification/data/ cat_dogs/train/cat/cat_97.wav', 'class_idx': 0}\n",
            "Finished audio {'name': '/content/drive/MyDrive/P07_ dog_cate_voice_classification/data/ cat_dogs/train/cat/cat_93.wav', 'class_idx': 0}\n",
            "Finished audio {'name': '/content/drive/MyDrive/P07_ dog_cate_voice_classification/data/ cat_dogs/train/cat/cat_83.wav', 'class_idx': 0}\n",
            "Finished audio {'name': '/content/drive/MyDrive/P07_ dog_cate_voice_classification/data/ cat_dogs/train/cat/cat_84.wav', 'class_idx': 0}\n",
            "Finished audio {'name': '/content/drive/MyDrive/P07_ dog_cate_voice_classification/data/ cat_dogs/train/cat/cat_92.wav', 'class_idx': 0}\n",
            "Finished audio {'name': '/content/drive/MyDrive/P07_ dog_cate_voice_classification/data/ cat_dogs/train/cat/cat_98.wav', 'class_idx': 0}\n",
            "Finished audio {'name': '/content/drive/MyDrive/P07_ dog_cate_voice_classification/data/ cat_dogs/train/cat/cat_89.wav', 'class_idx': 0}\n",
            "Finished audio {'name': '/content/drive/MyDrive/P07_ dog_cate_voice_classification/data/ cat_dogs/train/dog/dog_barking_107.wav', 'class_idx': 1}\n",
            "Finished audio {'name': '/content/drive/MyDrive/P07_ dog_cate_voice_classification/data/ cat_dogs/train/dog/dog_barking_27.wav', 'class_idx': 1}\n",
            "Finished audio {'name': '/content/drive/MyDrive/P07_ dog_cate_voice_classification/data/ cat_dogs/train/dog/dog_barking_30.wav', 'class_idx': 1}\n",
            "Finished audio {'name': '/content/drive/MyDrive/P07_ dog_cate_voice_classification/data/ cat_dogs/train/dog/dog_barking_10.wav', 'class_idx': 1}\n",
            "Finished audio {'name': '/content/drive/MyDrive/P07_ dog_cate_voice_classification/data/ cat_dogs/train/dog/dog_barking_102.wav', 'class_idx': 1}\n",
            "Finished audio {'name': '/content/drive/MyDrive/P07_ dog_cate_voice_classification/data/ cat_dogs/train/dog/dog_barking_18.wav', 'class_idx': 1}\n",
            "Finished audio {'name': '/content/drive/MyDrive/P07_ dog_cate_voice_classification/data/ cat_dogs/train/dog/dog_barking_26.wav', 'class_idx': 1}\n",
            "Finished audio {'name': '/content/drive/MyDrive/P07_ dog_cate_voice_classification/data/ cat_dogs/train/dog/dog_barking_108.wav', 'class_idx': 1}\n",
            "Finished audio {'name': '/content/drive/MyDrive/P07_ dog_cate_voice_classification/data/ cat_dogs/train/dog/dog_barking_100.wav', 'class_idx': 1}\n",
            "Finished audio {'name': '/content/drive/MyDrive/P07_ dog_cate_voice_classification/data/ cat_dogs/train/dog/dog_barking_39.wav', 'class_idx': 1}\n",
            "Finished audio {'name': '/content/drive/MyDrive/P07_ dog_cate_voice_classification/data/ cat_dogs/train/dog/dog_barking_69.wav', 'class_idx': 1}\n",
            "Finished audio {'name': '/content/drive/MyDrive/P07_ dog_cate_voice_classification/data/ cat_dogs/train/dog/dog_barking_84.wav', 'class_idx': 1}\n",
            "Finished audio {'name': '/content/drive/MyDrive/P07_ dog_cate_voice_classification/data/ cat_dogs/train/dog/dog_barking_33.wav', 'class_idx': 1}\n",
            "Finished audio {'name': '/content/drive/MyDrive/P07_ dog_cate_voice_classification/data/ cat_dogs/train/dog/dog_barking_98.wav', 'class_idx': 1}\n",
            "Finished audio {'name': '/content/drive/MyDrive/P07_ dog_cate_voice_classification/data/ cat_dogs/train/dog/dog_barking_1.wav', 'class_idx': 1}\n",
            "Finished audio {'name': '/content/drive/MyDrive/P07_ dog_cate_voice_classification/data/ cat_dogs/train/dog/dog_barking_109.wav', 'class_idx': 1}\n",
            "Finished audio {'name': '/content/drive/MyDrive/P07_ dog_cate_voice_classification/data/ cat_dogs/train/dog/dog_barking_94.wav', 'class_idx': 1}\n"
          ]
        }
      ],
      "source": [
        "!python /content/preprocessingGTZAN.py   --sampling_rate 22050"
      ]
    },
    {
      "cell_type": "markdown",
      "source": [
        "#Deep learning with transfer learning methodes"
      ],
      "metadata": {
        "id": "5UgMa0enjWos"
      }
    },
    {
      "cell_type": "markdown",
      "source": [
        "##Densenet"
      ],
      "metadata": {
        "id": "R6KxN_cjjpS4"
      }
    },
    {
      "cell_type": "markdown",
      "source": [
        "###Pretrained"
      ],
      "metadata": {
        "id": "in_p51lejuVH"
      }
    },
    {
      "cell_type": "code",
      "execution_count": null,
      "metadata": {
        "colab": {
          "base_uri": "https://localhost:8080/"
        },
        "id": "lBntWSLAglXa",
        "outputId": "37bc6060-0e6b-4623-8d96-1cc3a1a8a1d1"
      },
      "outputs": [
        {
          "output_type": "stream",
          "name": "stdout",
          "text": [
            "100% 84/84 [01:26<00:00,  1.03s/it, loss=0.676]\n",
            "Epoch 0/20 Loss:0.6756492589289943 Valid Acc:83.33333333333333\n",
            "100% 84/84 [01:27<00:00,  1.04s/it, loss=0.302]\n",
            "Epoch 1/20 Loss:0.30200273712121306 Valid Acc:83.33333333333333\n",
            "100% 84/84 [01:24<00:00,  1.01s/it, loss=0.204]\n",
            "Epoch 2/20 Loss:0.20373235917317548 Valid Acc:80.95238095238095\n",
            "100% 84/84 [01:27<00:00,  1.04s/it, loss=0.188]\n",
            "Epoch 3/20 Loss:0.18784215167120455 Valid Acc:88.0952380952381\n",
            "100% 84/84 [01:26<00:00,  1.02s/it, loss=0.219]\n",
            "Epoch 4/20 Loss:0.2194781554862857 Valid Acc:83.33333333333333\n",
            "100% 84/84 [01:27<00:00,  1.04s/it, loss=0.126]\n",
            "Epoch 5/20 Loss:0.1262490794428491 Valid Acc:83.33333333333333\n",
            "100% 84/84 [01:25<00:00,  1.01s/it, loss=0.130]\n",
            "Epoch 6/20 Loss:0.12954515275556505 Valid Acc:88.0952380952381\n",
            "100% 84/84 [01:23<00:00,  1.01it/s, loss=0.074]\n",
            "Epoch 7/20 Loss:0.0744552226249306 Valid Acc:88.0952380952381\n",
            "100% 84/84 [01:27<00:00,  1.04s/it, loss=0.067]\n",
            "Epoch 8/20 Loss:0.06707235110003412 Valid Acc:85.71428571428571\n",
            "100% 84/84 [01:25<00:00,  1.01s/it, loss=0.057]\n",
            "Epoch 9/20 Loss:0.056818598099718134 Valid Acc:88.0952380952381\n",
            "100% 84/84 [01:26<00:00,  1.02s/it, loss=0.069]\n",
            "Epoch 10/20 Loss:0.06898018350364596 Valid Acc:85.71428571428571\n",
            "100% 84/84 [01:24<00:00,  1.01s/it, loss=0.025]\n",
            "Epoch 11/20 Loss:0.025105210107063784 Valid Acc:85.71428571428571\n",
            "100% 84/84 [01:26<00:00,  1.03s/it, loss=0.014]\n",
            "Epoch 12/20 Loss:0.014362089504304874 Valid Acc:88.0952380952381\n",
            "100% 84/84 [01:28<00:00,  1.05s/it, loss=0.026]\n",
            "Epoch 13/20 Loss:0.026491883743368645 Valid Acc:88.0952380952381\n",
            "100% 84/84 [01:27<00:00,  1.04s/it, loss=0.091]\n",
            "Epoch 14/20 Loss:0.09113544667516613 Valid Acc:83.33333333333333\n",
            "100% 84/84 [01:28<00:00,  1.05s/it, loss=0.037]\n",
            "Epoch 15/20 Loss:0.03746961715764233 Valid Acc:90.47619047619048\n",
            "100% 84/84 [01:26<00:00,  1.03s/it, loss=0.087]\n",
            "Epoch 16/20 Loss:0.08710406732730223 Valid Acc:85.71428571428571\n",
            "100% 84/84 [01:26<00:00,  1.03s/it, loss=0.109]\n",
            "Epoch 17/20 Loss:0.10888336090803412 Valid Acc:88.0952380952381\n",
            "100% 84/84 [01:27<00:00,  1.04s/it, loss=0.054]\n",
            "Epoch 18/20 Loss:0.05401875589173176 Valid Acc:85.71428571428571\n",
            "100% 84/84 [01:28<00:00,  1.06s/it, loss=0.079]\n",
            "Epoch 19/20 Loss:0.07919263982746218 Valid Acc:88.0952380952381\n"
          ]
        }
      ],
      "source": [
        "!python /content/train.py --config_path /content/gtzan_densenet.json"
      ]
    },
    {
      "cell_type": "markdown",
      "source": [
        "###Random"
      ],
      "metadata": {
        "id": "ts_I7yM3j4N3"
      }
    },
    {
      "cell_type": "code",
      "source": [
        "!python /content/train.py --config_path /content/_random_densenet.json"
      ],
      "metadata": {
        "colab": {
          "base_uri": "https://localhost:8080/"
        },
        "id": "QDN-vNge5Wx_",
        "outputId": "8f512d88-45bc-4525-eebd-2c5cdb1e69c2"
      },
      "execution_count": null,
      "outputs": [
        {
          "output_type": "stream",
          "name": "stdout",
          "text": [
            "100% 84/84 [01:26<00:00,  1.02s/it, loss=0.704]\n",
            "Epoch 0/20 Loss:0.7044380909452835 Valid Acc:80.95238095238095\n",
            "100% 84/84 [01:26<00:00,  1.02s/it, loss=0.290]\n",
            "Epoch 1/20 Loss:0.28969705550532254 Valid Acc:73.80952380952381\n",
            "100% 84/84 [01:26<00:00,  1.03s/it, loss=0.217]\n",
            "Epoch 2/20 Loss:0.2172006827313453 Valid Acc:80.95238095238095\n",
            "100% 84/84 [01:26<00:00,  1.03s/it, loss=0.187]\n",
            "Epoch 3/20 Loss:0.18687050975859165 Valid Acc:73.80952380952381\n",
            "100% 84/84 [01:28<00:00,  1.06s/it, loss=0.180]\n",
            "Epoch 4/20 Loss:0.18001406205197176 Valid Acc:85.71428571428571\n",
            "100% 84/84 [01:24<00:00,  1.01s/it, loss=0.183]\n",
            "Epoch 5/20 Loss:0.1826852174985799 Valid Acc:83.33333333333333\n",
            "100% 84/84 [01:26<00:00,  1.03s/it, loss=0.167]\n",
            "Epoch 6/20 Loss:0.16685955658266766 Valid Acc:80.95238095238095\n",
            "100% 84/84 [01:23<00:00,  1.00it/s, loss=0.118]\n",
            "Epoch 7/20 Loss:0.11784835681984467 Valid Acc:80.95238095238095\n",
            "100% 84/84 [01:21<00:00,  1.03it/s, loss=0.124]\n",
            "Epoch 8/20 Loss:0.12416497349650377 Valid Acc:85.71428571428571\n",
            "100% 84/84 [01:24<00:00,  1.00s/it, loss=0.115]\n",
            "Epoch 9/20 Loss:0.11528169392563757 Valid Acc:80.95238095238095\n",
            "100% 84/84 [01:23<00:00,  1.00it/s, loss=0.089]\n",
            "Epoch 10/20 Loss:0.08875984855971876 Valid Acc:80.95238095238095\n",
            "100% 84/84 [01:26<00:00,  1.03s/it, loss=0.047]\n",
            "Epoch 11/20 Loss:0.04707888048835143 Valid Acc:78.57142857142857\n",
            "100% 84/84 [01:26<00:00,  1.03s/it, loss=0.066]\n",
            "Epoch 12/20 Loss:0.06559858042358731 Valid Acc:83.33333333333333\n",
            "100% 84/84 [01:26<00:00,  1.03s/it, loss=0.073]\n",
            "Epoch 13/20 Loss:0.07305970304116186 Valid Acc:80.95238095238095\n",
            "100% 84/84 [01:26<00:00,  1.03s/it, loss=0.059]\n",
            "Epoch 14/20 Loss:0.05867310636676848 Valid Acc:80.95238095238095\n",
            "100% 84/84 [01:24<00:00,  1.00s/it, loss=0.051]\n",
            "Epoch 15/20 Loss:0.05082835033785419 Valid Acc:80.95238095238095\n",
            "100% 84/84 [01:26<00:00,  1.03s/it, loss=0.046]\n",
            "Epoch 16/20 Loss:0.0459010358172236 Valid Acc:85.71428571428571\n",
            "100% 84/84 [01:26<00:00,  1.03s/it, loss=0.019]\n",
            "Epoch 17/20 Loss:0.018582510873134846 Valid Acc:88.0952380952381\n",
            "100% 84/84 [01:26<00:00,  1.03s/it, loss=0.062]\n",
            "Epoch 18/20 Loss:0.06193073181341225 Valid Acc:83.33333333333333\n",
            "100% 84/84 [01:27<00:00,  1.04s/it, loss=0.040]\n",
            "Epoch 19/20 Loss:0.04019106459860008 Valid Acc:80.95238095238095\n"
          ]
        }
      ]
    },
    {
      "cell_type": "markdown",
      "source": [
        "##Resnet"
      ],
      "metadata": {
        "id": "ASHzeeP3j9vG"
      }
    },
    {
      "cell_type": "markdown",
      "source": [
        "###Random"
      ],
      "metadata": {
        "id": "ecmFE30AkOk9"
      }
    },
    {
      "cell_type": "code",
      "source": [
        "!python /content/train.py --config_path /content/random_resnet.json"
      ],
      "metadata": {
        "id": "qlHDRrf75juw",
        "colab": {
          "base_uri": "https://localhost:8080/"
        },
        "outputId": "7caa2f8e-23f8-4eb6-80d3-aeee4211fe63"
      },
      "execution_count": null,
      "outputs": [
        {
          "output_type": "stream",
          "name": "stdout",
          "text": [
            "100% 84/84 [01:18<00:00,  1.07it/s, loss=0.607]\n",
            "Epoch 0/20 Loss:0.6068018675293951 Valid Acc:73.80952380952381\n",
            "100% 84/84 [01:20<00:00,  1.04it/s, loss=0.310]\n",
            "Epoch 1/20 Loss:0.3101332749772285 Valid Acc:76.19047619047619\n",
            "100% 84/84 [01:19<00:00,  1.06it/s, loss=0.301]\n",
            "Epoch 2/20 Loss:0.3005037334029718 Valid Acc:69.04761904761905\n",
            "100% 84/84 [01:19<00:00,  1.06it/s, loss=0.184]\n",
            "Epoch 3/20 Loss:0.18355147912543976 Valid Acc:71.42857142857143\n",
            "100% 84/84 [01:18<00:00,  1.07it/s, loss=0.121]\n",
            "Epoch 4/20 Loss:0.1207052375296674 Valid Acc:69.04761904761905\n",
            "100% 84/84 [01:16<00:00,  1.10it/s, loss=0.154]\n",
            "Epoch 5/20 Loss:0.15441681164832385 Valid Acc:78.57142857142857\n",
            "100% 84/84 [01:17<00:00,  1.08it/s, loss=0.111]\n",
            "Epoch 6/20 Loss:0.11125332374996062 Valid Acc:83.33333333333333\n",
            "100% 84/84 [01:19<00:00,  1.06it/s, loss=0.079]\n",
            "Epoch 7/20 Loss:0.07889364591946582 Valid Acc:73.80952380952381\n",
            "100% 84/84 [01:19<00:00,  1.06it/s, loss=0.056]\n",
            "Epoch 8/20 Loss:0.05602130915143616 Valid Acc:83.33333333333333\n",
            "100% 84/84 [01:16<00:00,  1.10it/s, loss=0.118]\n",
            "Epoch 9/20 Loss:0.11849551813516189 Valid Acc:73.80952380952381\n",
            "100% 84/84 [01:18<00:00,  1.08it/s, loss=0.047]\n",
            "Epoch 10/20 Loss:0.04716430845118815 Valid Acc:78.57142857142857\n",
            "100% 84/84 [01:16<00:00,  1.10it/s, loss=0.067]\n",
            "Epoch 11/20 Loss:0.06747649199643915 Valid Acc:85.71428571428571\n",
            "100% 84/84 [01:19<00:00,  1.05it/s, loss=0.068]\n",
            "Epoch 12/20 Loss:0.06804302046761482 Valid Acc:90.47619047619048\n",
            "100% 84/84 [01:18<00:00,  1.07it/s, loss=0.032]\n",
            "Epoch 13/20 Loss:0.03192827656156234 Valid Acc:83.33333333333333\n",
            "100% 84/84 [01:17<00:00,  1.09it/s, loss=0.024]\n",
            "Epoch 14/20 Loss:0.02402857294544533 Valid Acc:83.33333333333333\n",
            "100% 84/84 [01:15<00:00,  1.11it/s, loss=0.028]\n",
            "Epoch 15/20 Loss:0.028357615249920594 Valid Acc:83.33333333333333\n",
            "100% 84/84 [01:14<00:00,  1.13it/s, loss=0.039]\n",
            "Epoch 16/20 Loss:0.039102838452804246 Valid Acc:73.80952380952381\n",
            "100% 84/84 [01:17<00:00,  1.09it/s, loss=0.105]\n",
            "Epoch 17/20 Loss:0.10450447151742992 Valid Acc:83.33333333333333\n",
            "100% 84/84 [01:15<00:00,  1.11it/s, loss=0.099]\n",
            "Epoch 18/20 Loss:0.09895113743845113 Valid Acc:83.33333333333333\n",
            "100% 84/84 [01:17<00:00,  1.08it/s, loss=0.056]\n",
            "Epoch 19/20 Loss:0.05587495803870081 Valid Acc:76.19047619047619\n"
          ]
        }
      ]
    },
    {
      "cell_type": "markdown",
      "source": [
        "###Pretrained"
      ],
      "metadata": {
        "id": "eKF5b76kkTAQ"
      }
    },
    {
      "cell_type": "code",
      "source": [
        "!python /content/train.py --config_path /content/Pretrained_resnet.json"
      ],
      "metadata": {
        "colab": {
          "base_uri": "https://localhost:8080/"
        },
        "id": "E4-DusQd59XW",
        "outputId": "e6aa633b-15b6-4468-9133-e65d7d7fd61e"
      },
      "execution_count": null,
      "outputs": [
        {
          "output_type": "stream",
          "name": "stdout",
          "text": [
            "Downloading: \"https://download.pytorch.org/models/resnet50-0676ba61.pth\" to /root/.cache/torch/hub/checkpoints/resnet50-0676ba61.pth\n",
            "100% 97.8M/97.8M [00:00<00:00, 153MB/s]\n",
            "100% 84/84 [01:13<00:00,  1.14it/s, loss=0.569]\n",
            "Epoch 0/20 Loss:0.5686742772924758 Valid Acc:83.33333333333333\n",
            "100% 84/84 [01:17<00:00,  1.08it/s, loss=0.281]\n",
            "Epoch 1/20 Loss:0.28079461133373634 Valid Acc:76.19047619047619\n",
            "100% 84/84 [01:13<00:00,  1.14it/s, loss=0.181]\n",
            "Epoch 2/20 Loss:0.18147596016171433 Valid Acc:88.0952380952381\n",
            "100% 84/84 [01:16<00:00,  1.09it/s, loss=0.151]\n",
            "Epoch 3/20 Loss:0.1510360849178618 Valid Acc:85.71428571428571\n",
            "100% 84/84 [01:14<00:00,  1.12it/s, loss=0.096]\n",
            "Epoch 4/20 Loss:0.09627104102401063 Valid Acc:90.47619047619048\n",
            "100% 84/84 [01:15<00:00,  1.11it/s, loss=0.055]\n",
            "Epoch 5/20 Loss:0.0549531704205687 Valid Acc:85.71428571428571\n",
            "100% 84/84 [01:13<00:00,  1.14it/s, loss=0.064]\n",
            "Epoch 6/20 Loss:0.0644221903431961 Valid Acc:90.47619047619048\n",
            "100% 84/84 [01:15<00:00,  1.11it/s, loss=0.037]\n",
            "Epoch 7/20 Loss:0.037408592710562516 Valid Acc:90.47619047619048\n",
            "100% 84/84 [01:13<00:00,  1.14it/s, loss=0.020]\n",
            "Epoch 8/20 Loss:0.019900454418911112 Valid Acc:88.0952380952381\n",
            "100% 84/84 [01:13<00:00,  1.14it/s, loss=0.013]\n",
            "Epoch 9/20 Loss:0.012568053373321337 Valid Acc:85.71428571428571\n",
            "100% 84/84 [01:11<00:00,  1.18it/s, loss=0.105]\n",
            "Epoch 10/20 Loss:0.10545224575409 Valid Acc:85.71428571428571\n",
            "100% 84/84 [01:15<00:00,  1.12it/s, loss=0.036]\n",
            "Epoch 11/20 Loss:0.036431805032840374 Valid Acc:76.19047619047619\n",
            "100% 84/84 [01:13<00:00,  1.15it/s, loss=0.040]\n",
            "Epoch 12/20 Loss:0.0404662704569914 Valid Acc:80.95238095238095\n",
            "100% 84/84 [01:16<00:00,  1.10it/s, loss=0.032]\n",
            "Epoch 13/20 Loss:0.03199535892053973 Valid Acc:78.57142857142857\n",
            "100% 84/84 [01:18<00:00,  1.07it/s, loss=0.069]\n",
            "Epoch 14/20 Loss:0.06920262779021868 Valid Acc:85.71428571428571\n",
            "100% 84/84 [01:16<00:00,  1.10it/s, loss=0.054]\n",
            "Epoch 15/20 Loss:0.05404312128181724 Valid Acc:80.95238095238095\n",
            "100% 84/84 [01:16<00:00,  1.10it/s, loss=0.009]\n",
            "Epoch 16/20 Loss:0.008739901470280961 Valid Acc:85.71428571428571\n",
            "100% 84/84 [01:16<00:00,  1.09it/s, loss=0.004]\n",
            "Epoch 17/20 Loss:0.0035704572513904644 Valid Acc:88.0952380952381\n",
            "100% 84/84 [01:16<00:00,  1.11it/s, loss=0.002]\n",
            "Epoch 18/20 Loss:0.002103386438431612 Valid Acc:88.0952380952381\n",
            "100% 84/84 [01:16<00:00,  1.11it/s, loss=0.007]\n",
            "Epoch 19/20 Loss:0.006979168106183698 Valid Acc:88.0952380952381\n"
          ]
        }
      ]
    },
    {
      "cell_type": "markdown",
      "source": [
        "##Inception"
      ],
      "metadata": {
        "id": "8bXfTiubkaHR"
      }
    },
    {
      "cell_type": "markdown",
      "source": [
        "###Random"
      ],
      "metadata": {
        "id": "GCFtOVrCkgJ5"
      }
    },
    {
      "cell_type": "code",
      "source": [
        "!python /content/train.py --config_path /content/random_inception.json"
      ],
      "metadata": {
        "id": "QD7m_57Z815G",
        "colab": {
          "base_uri": "https://localhost:8080/"
        },
        "outputId": "f3771936-c559-430c-9033-c0822f8d5b62"
      },
      "execution_count": null,
      "outputs": [
        {
          "output_type": "stream",
          "name": "stdout",
          "text": [
            "/usr/local/lib/python3.7/dist-packages/torchvision/models/inception.py:83: FutureWarning: The default weight initialization of inception_v3 will be changed in future releases of torchvision. If you wish to keep the old behavior (which leads to long initialization times due to scipy/scipy#11299), please set init_weights=True.\n",
            "  ' due to scipy/scipy#11299), please set init_weights=True.', FutureWarning)\n",
            "100% 84/84 [01:17<00:00,  1.09it/s, loss=0.877]\n",
            "Epoch 0/20 Loss:0.8774094051193624 Valid Acc:76.19047619047619\n",
            "100% 84/84 [01:14<00:00,  1.13it/s, loss=0.399]\n",
            "Epoch 1/20 Loss:0.39917244717833544 Valid Acc:76.19047619047619\n",
            "100% 84/84 [01:14<00:00,  1.13it/s, loss=0.345]\n",
            "Epoch 2/20 Loss:0.34478039755707696 Valid Acc:85.71428571428571\n",
            "100% 84/84 [01:20<00:00,  1.04it/s, loss=0.343]\n",
            "Epoch 3/20 Loss:0.3426009215237129 Valid Acc:83.33333333333333\n",
            "100% 84/84 [01:18<00:00,  1.06it/s, loss=0.288]\n",
            "Epoch 4/20 Loss:0.28789407209981055 Valid Acc:78.57142857142857\n",
            "100% 84/84 [01:13<00:00,  1.14it/s, loss=0.259]\n",
            "Epoch 5/20 Loss:0.25867821443604216 Valid Acc:78.57142857142857\n",
            "100% 84/84 [01:14<00:00,  1.12it/s, loss=0.266]\n",
            "Epoch 6/20 Loss:0.26592531422197463 Valid Acc:80.95238095238095\n",
            "100% 84/84 [01:16<00:00,  1.10it/s, loss=0.258]\n",
            "Epoch 7/20 Loss:0.25840980524108526 Valid Acc:80.95238095238095\n",
            "100% 84/84 [01:17<00:00,  1.08it/s, loss=0.210]\n",
            "Epoch 8/20 Loss:0.20995196828707344 Valid Acc:83.33333333333333\n",
            "100% 84/84 [01:16<00:00,  1.10it/s, loss=0.294]\n",
            "Epoch 9/20 Loss:0.2937705511493342 Valid Acc:85.71428571428571\n",
            "100% 84/84 [01:14<00:00,  1.13it/s, loss=0.286]\n",
            "Epoch 10/20 Loss:0.2856679457195458 Valid Acc:73.80952380952381\n",
            "100% 84/84 [01:17<00:00,  1.08it/s, loss=0.157]\n",
            "Epoch 11/20 Loss:0.15748579039548835 Valid Acc:80.95238095238095\n",
            "100% 84/84 [01:16<00:00,  1.10it/s, loss=0.157]\n",
            "Epoch 12/20 Loss:0.15742911306110077 Valid Acc:80.95238095238095\n",
            "100% 84/84 [01:17<00:00,  1.09it/s, loss=0.275]\n",
            "Epoch 13/20 Loss:0.27543844232180464 Valid Acc:83.33333333333333\n",
            "100% 84/84 [01:18<00:00,  1.07it/s, loss=0.217]\n",
            "Epoch 14/20 Loss:0.21714772061178728 Valid Acc:73.80952380952381\n",
            "100% 84/84 [01:16<00:00,  1.10it/s, loss=0.203]\n",
            "Epoch 15/20 Loss:0.20289449489653288 Valid Acc:73.80952380952381\n",
            "100% 84/84 [01:19<00:00,  1.06it/s, loss=0.189]\n",
            "Epoch 16/20 Loss:0.18873730417856546 Valid Acc:80.95238095238095\n",
            "100% 84/84 [01:15<00:00,  1.11it/s, loss=0.121]\n",
            "Epoch 17/20 Loss:0.12090991334047257 Valid Acc:73.80952380952381\n",
            "100% 84/84 [01:18<00:00,  1.07it/s, loss=0.241]\n",
            "Epoch 18/20 Loss:0.24074416643720942 Valid Acc:85.71428571428571\n",
            "100% 84/84 [01:17<00:00,  1.08it/s, loss=0.146]\n",
            "Epoch 19/20 Loss:0.14579521322767028 Valid Acc:85.71428571428571\n"
          ]
        }
      ]
    },
    {
      "cell_type": "markdown",
      "source": [
        "###Pretrained"
      ],
      "metadata": {
        "id": "9FFojtoXklUg"
      }
    },
    {
      "cell_type": "code",
      "source": [
        "!python /content/train.py --config_path  /content/Pretrained_inception.json"
      ],
      "metadata": {
        "colab": {
          "base_uri": "https://localhost:8080/"
        },
        "id": "jBPQ9owb82Ou",
        "outputId": "e26fdaf2-3266-4d50-e3ec-7782907a6f75"
      },
      "execution_count": null,
      "outputs": [
        {
          "output_type": "stream",
          "name": "stdout",
          "text": [
            "100% 84/84 [01:19<00:00,  1.06it/s, loss=0.828]\n",
            "Epoch 0/20 Loss:0.8280370514839888 Valid Acc:88.0952380952381\n",
            "100% 84/84 [01:19<00:00,  1.05it/s, loss=0.299]\n",
            "Epoch 1/20 Loss:0.2994197599501127 Valid Acc:88.0952380952381\n",
            "100% 84/84 [01:16<00:00,  1.10it/s, loss=0.167]\n",
            "Epoch 2/20 Loss:0.16746170965156384 Valid Acc:92.85714285714286\n",
            "100% 84/84 [01:17<00:00,  1.08it/s, loss=0.171]\n",
            "Epoch 3/20 Loss:0.17091196181995438 Valid Acc:76.19047619047619\n",
            "100% 84/84 [01:16<00:00,  1.10it/s, loss=0.170]\n",
            "Epoch 4/20 Loss:0.17017426805215932 Valid Acc:80.95238095238095\n",
            "100% 84/84 [01:18<00:00,  1.07it/s, loss=0.123]\n",
            "Epoch 5/20 Loss:0.12335970234735646 Valid Acc:88.0952380952381\n",
            "100% 84/84 [01:20<00:00,  1.04it/s, loss=0.149]\n",
            "Epoch 6/20 Loss:0.1485633547196076 Valid Acc:83.33333333333333\n",
            "100% 84/84 [01:17<00:00,  1.09it/s, loss=0.144]\n",
            "Epoch 7/20 Loss:0.1440118643194659 Valid Acc:88.0952380952381\n",
            "100% 84/84 [01:16<00:00,  1.10it/s, loss=0.273]\n",
            "Epoch 8/20 Loss:0.27336830233356785 Valid Acc:92.85714285714286\n",
            "100% 84/84 [01:15<00:00,  1.12it/s, loss=0.143]\n",
            "Epoch 9/20 Loss:0.1432624913619033 Valid Acc:88.0952380952381\n",
            "100% 84/84 [01:15<00:00,  1.11it/s, loss=0.108]\n",
            "Epoch 10/20 Loss:0.10775174978992991 Valid Acc:90.47619047619048\n",
            "100% 84/84 [01:14<00:00,  1.13it/s, loss=0.111]\n",
            "Epoch 11/20 Loss:0.1106269054968531 Valid Acc:83.33333333333333\n",
            "100% 84/84 [01:17<00:00,  1.08it/s, loss=0.071]\n",
            "Epoch 12/20 Loss:0.07146501568370565 Valid Acc:88.0952380952381\n",
            "100% 84/84 [01:16<00:00,  1.10it/s, loss=0.079]\n",
            "Epoch 13/20 Loss:0.07873300435312558 Valid Acc:83.33333333333333\n",
            "100% 84/84 [01:17<00:00,  1.09it/s, loss=0.097]\n",
            "Epoch 14/20 Loss:0.09702737977550853 Valid Acc:78.57142857142857\n",
            "100% 84/84 [01:16<00:00,  1.10it/s, loss=0.052]\n",
            "Epoch 15/20 Loss:0.052287693180481994 Valid Acc:85.71428571428571\n",
            "100% 84/84 [01:20<00:00,  1.05it/s, loss=0.045]\n",
            "Epoch 16/20 Loss:0.04504572840406105 Valid Acc:83.33333333333333\n",
            "100% 84/84 [01:18<00:00,  1.07it/s, loss=0.021]\n",
            "Epoch 17/20 Loss:0.020877775455509045 Valid Acc:85.71428571428571\n",
            "100% 84/84 [01:16<00:00,  1.09it/s, loss=0.015]\n",
            "Epoch 18/20 Loss:0.015390274814264904 Valid Acc:90.47619047619048\n",
            "100% 84/84 [01:19<00:00,  1.06it/s, loss=0.027]\n",
            "Epoch 19/20 Loss:0.026521754319782348 Valid Acc:85.71428571428571\n"
          ]
        }
      ]
    }
  ],
  "metadata": {
    "colab": {
      "name": "P7_02_02_New methode.ipynb",
      "provenance": [],
      "collapsed_sections": [],
      "toc_visible": true,
      "mount_file_id": "1dHFZ3U6iNMvFBdEaLopegnLN9o3IsOI8",
      "authorship_tag": "ABX9TyNUEiEy0hRv0nlmVGDxjLsS",
      "include_colab_link": true
    },
    "kernelspec": {
      "display_name": "Python 3",
      "name": "python3"
    },
    "language_info": {
      "name": "python"
    },
    "accelerator": "GPU"
  },
  "nbformat": 4,
  "nbformat_minor": 0
}