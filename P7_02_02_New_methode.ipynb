{
  "cells": [
    {
      "cell_type": "markdown",
      "metadata": {
        "id": "view-in-github",
        "colab_type": "text"
      },
      "source": [
        "<a href=\"https://colab.research.google.com/github/Farouk96/Audio-Classification/blob/master/P7_02_02_New_methode.ipynb\" target=\"_parent\"><img src=\"https://colab.research.google.com/assets/colab-badge.svg\" alt=\"Open In Colab\"/></a>"
      ]
    },
    {
      "cell_type": "code",
      "execution_count": 1,
      "metadata": {
        "id": "rUCIsvvMLtWi"
      },
      "outputs": [],
      "source": [
        "#!git clone https://github.com/Farouk96/Audio-Classification.git"
      ]
    },
    {
      "cell_type": "code",
      "execution_count": 2,
      "metadata": {
        "id": "x1Qeo69IL3-3"
      },
      "outputs": [],
      "source": [
        "import torch\n",
        "import torchvision\n",
        "import torch.nn as nn\n",
        "import numpy as np\n",
        "import json\n",
        "import utils\n",
        "import validate\n",
        "import argparse\n",
        "import densenet\n",
        "import resnet\n",
        "import inception\n",
        "import time\n",
        "import datasetaug\n",
        "import datasetnormal\n",
        "import matplotlib.pyplot as plt\n",
        "\n",
        "from tqdm import tqdm"
      ]
    },
    {
      "cell_type": "code",
      "execution_count": 3,
      "metadata": {
        "colab": {
          "base_uri": "https://localhost:8080/"
        },
        "id": "gs6DQDC3WNhJ",
        "outputId": "62d9c58e-f211-491d-faba-5b26d6f3b47e"
      },
      "outputs": [
        {
          "output_type": "stream",
          "name": "stdout",
          "text": [
            "Collecting tensorboardX\n",
            "  Downloading tensorboardX-2.5-py2.py3-none-any.whl (125 kB)\n",
            "\u001b[?25l\r\u001b[K     |██▋                             | 10 kB 26.2 MB/s eta 0:00:01\r\u001b[K     |█████▎                          | 20 kB 30.0 MB/s eta 0:00:01\r\u001b[K     |███████▉                        | 30 kB 15.3 MB/s eta 0:00:01\r\u001b[K     |██████████▌                     | 40 kB 11.4 MB/s eta 0:00:01\r\u001b[K     |█████████████                   | 51 kB 6.0 MB/s eta 0:00:01\r\u001b[K     |███████████████▊                | 61 kB 7.1 MB/s eta 0:00:01\r\u001b[K     |██████████████████▎             | 71 kB 7.6 MB/s eta 0:00:01\r\u001b[K     |█████████████████████           | 81 kB 7.0 MB/s eta 0:00:01\r\u001b[K     |███████████████████████▌        | 92 kB 7.8 MB/s eta 0:00:01\r\u001b[K     |██████████████████████████▏     | 102 kB 6.9 MB/s eta 0:00:01\r\u001b[K     |████████████████████████████▊   | 112 kB 6.9 MB/s eta 0:00:01\r\u001b[K     |███████████████████████████████▍| 122 kB 6.9 MB/s eta 0:00:01\r\u001b[K     |████████████████████████████████| 125 kB 6.9 MB/s \n",
            "\u001b[?25hRequirement already satisfied: six in /usr/local/lib/python3.7/dist-packages (from tensorboardX) (1.15.0)\n",
            "Requirement already satisfied: numpy in /usr/local/lib/python3.7/dist-packages (from tensorboardX) (1.21.5)\n",
            "Requirement already satisfied: protobuf>=3.8.0 in /usr/local/lib/python3.7/dist-packages (from tensorboardX) (3.17.3)\n",
            "Installing collected packages: tensorboardX\n",
            "Successfully installed tensorboardX-2.5\n"
          ]
        }
      ],
      "source": [
        "!pip install tensorboardX"
      ]
    },
    {
      "cell_type": "code",
      "execution_count": 4,
      "metadata": {
        "id": "E4N9pVpYWYAS"
      },
      "outputs": [],
      "source": [
        "from tensorboardX import SummaryWriter"
      ]
    },
    {
      "cell_type": "markdown",
      "metadata": {
        "id": "KvonA4I9i70I"
      },
      "source": [
        "#Audio preprocessing(normalisation-augmentation)"
      ]
    },
    {
      "cell_type": "code",
      "execution_count": null,
      "metadata": {
        "colab": {
          "base_uri": "https://localhost:8080/"
        },
        "id": "ajYZ3puQhLsv",
        "outputId": "ccadf534-4308-4087-a9d8-1b86e6ce1bc6"
      },
      "outputs": [
        {
          "name": "stdout",
          "output_type": "stream",
          "text": [
            "Finished audio {'name': '/content/drive/MyDrive/P07_ dog_cate_voice_classification/data/ cat_dogs/train/cat/cat_101.wav', 'class_idx': 0}\n",
            "Finished audio {'name': '/content/drive/MyDrive/P07_ dog_cate_voice_classification/data/ cat_dogs/train/cat/cat_107.wav', 'class_idx': 0}\n",
            "Finished audio {'name': '/content/drive/MyDrive/P07_ dog_cate_voice_classification/data/ cat_dogs/train/cat/cat_105.wav', 'class_idx': 0}\n",
            "Finished audio {'name': '/content/drive/MyDrive/P07_ dog_cate_voice_classification/data/ cat_dogs/train/cat/cat_141.wav', 'class_idx': 0}\n",
            "Finished audio {'name': '/content/drive/MyDrive/P07_ dog_cate_voice_classification/data/ cat_dogs/train/cat/cat_121.wav', 'class_idx': 0}\n",
            "Finished audio {'name': '/content/drive/MyDrive/P07_ dog_cate_voice_classification/data/ cat_dogs/train/cat/cat_122.wav', 'class_idx': 0}\n",
            "Finished audio {'name': '/content/drive/MyDrive/P07_ dog_cate_voice_classification/data/ cat_dogs/train/cat/cat_134.wav', 'class_idx': 0}\n",
            "Finished audio {'name': '/content/drive/MyDrive/P07_ dog_cate_voice_classification/data/ cat_dogs/train/cat/cat_100.wav', 'class_idx': 0}\n",
            "Finished audio {'name': '/content/drive/MyDrive/P07_ dog_cate_voice_classification/data/ cat_dogs/train/cat/cat_138.wav', 'class_idx': 0}\n",
            "Finished audio {'name': '/content/drive/MyDrive/P07_ dog_cate_voice_classification/data/ cat_dogs/train/cat/cat_142.wav', 'class_idx': 0}\n",
            "Finished audio {'name': '/content/drive/MyDrive/P07_ dog_cate_voice_classification/data/ cat_dogs/train/cat/cat_124.wav', 'class_idx': 0}\n",
            "Finished audio {'name': '/content/drive/MyDrive/P07_ dog_cate_voice_classification/data/ cat_dogs/train/cat/cat_113.wav', 'class_idx': 0}\n",
            "Finished audio {'name': '/content/drive/MyDrive/P07_ dog_cate_voice_classification/data/ cat_dogs/train/cat/cat_102.wav', 'class_idx': 0}\n",
            "Finished audio {'name': '/content/drive/MyDrive/P07_ dog_cate_voice_classification/data/ cat_dogs/train/cat/cat_146.wav', 'class_idx': 0}\n",
            "Finished audio {'name': '/content/drive/MyDrive/P07_ dog_cate_voice_classification/data/ cat_dogs/train/cat/cat_114.wav', 'class_idx': 0}\n",
            "Finished audio {'name': '/content/drive/MyDrive/P07_ dog_cate_voice_classification/data/ cat_dogs/train/cat/cat_119.wav', 'class_idx': 0}\n",
            "Finished audio {'name': '/content/drive/MyDrive/P07_ dog_cate_voice_classification/data/ cat_dogs/train/cat/cat_132.wav', 'class_idx': 0}\n",
            "Finished audio {'name': '/content/drive/MyDrive/P07_ dog_cate_voice_classification/data/ cat_dogs/train/cat/cat_103.wav', 'class_idx': 0}\n",
            "Finished audio {'name': '/content/drive/MyDrive/P07_ dog_cate_voice_classification/data/ cat_dogs/train/cat/cat_125.wav', 'class_idx': 0}\n",
            "Finished audio {'name': '/content/drive/MyDrive/P07_ dog_cate_voice_classification/data/ cat_dogs/train/cat/cat_117.wav', 'class_idx': 0}\n",
            "Finished audio {'name': '/content/drive/MyDrive/P07_ dog_cate_voice_classification/data/ cat_dogs/train/cat/cat_136.wav', 'class_idx': 0}\n",
            "Finished audio {'name': '/content/drive/MyDrive/P07_ dog_cate_voice_classification/data/ cat_dogs/train/cat/cat_128.wav', 'class_idx': 0}\n",
            "Finished audio {'name': '/content/drive/MyDrive/P07_ dog_cate_voice_classification/data/ cat_dogs/train/cat/cat_106.wav', 'class_idx': 0}\n",
            "Finished audio {'name': '/content/drive/MyDrive/P07_ dog_cate_voice_classification/data/ cat_dogs/train/cat/cat_140.wav', 'class_idx': 0}\n",
            "Finished audio {'name': '/content/drive/MyDrive/P07_ dog_cate_voice_classification/data/ cat_dogs/train/cat/cat_116.wav', 'class_idx': 0}\n",
            "Finished audio {'name': '/content/drive/MyDrive/P07_ dog_cate_voice_classification/data/ cat_dogs/train/cat/cat_118.wav', 'class_idx': 0}\n",
            "Finished audio {'name': '/content/drive/MyDrive/P07_ dog_cate_voice_classification/data/ cat_dogs/train/cat/cat_123.wav', 'class_idx': 0}\n",
            "Finished audio {'name': '/content/drive/MyDrive/P07_ dog_cate_voice_classification/data/ cat_dogs/train/cat/cat_108.wav', 'class_idx': 0}\n",
            "Finished audio {'name': '/content/drive/MyDrive/P07_ dog_cate_voice_classification/data/ cat_dogs/train/cat/cat_131.wav', 'class_idx': 0}\n",
            "Finished audio {'name': '/content/drive/MyDrive/P07_ dog_cate_voice_classification/data/ cat_dogs/train/cat/cat_109.wav', 'class_idx': 0}\n",
            "Finished audio {'name': '/content/drive/MyDrive/P07_ dog_cate_voice_classification/data/ cat_dogs/train/cat/cat_127.wav', 'class_idx': 0}\n",
            "Finished audio {'name': '/content/drive/MyDrive/P07_ dog_cate_voice_classification/data/ cat_dogs/train/cat/cat_147.wav', 'class_idx': 0}\n",
            "Finished audio {'name': '/content/drive/MyDrive/P07_ dog_cate_voice_classification/data/ cat_dogs/train/cat/cat_139.wav', 'class_idx': 0}\n",
            "Finished audio {'name': '/content/drive/MyDrive/P07_ dog_cate_voice_classification/data/ cat_dogs/train/cat/cat_120.wav', 'class_idx': 0}\n",
            "Finished audio {'name': '/content/drive/MyDrive/P07_ dog_cate_voice_classification/data/ cat_dogs/train/cat/cat_154.wav', 'class_idx': 0}\n",
            "Finished audio {'name': '/content/drive/MyDrive/P07_ dog_cate_voice_classification/data/ cat_dogs/train/cat/cat_163.wav', 'class_idx': 0}\n",
            "Finished audio {'name': '/content/drive/MyDrive/P07_ dog_cate_voice_classification/data/ cat_dogs/train/cat/cat_69.wav', 'class_idx': 0}\n",
            "Finished audio {'name': '/content/drive/MyDrive/P07_ dog_cate_voice_classification/data/ cat_dogs/train/cat/cat_72.wav', 'class_idx': 0}\n",
            "Finished audio {'name': '/content/drive/MyDrive/P07_ dog_cate_voice_classification/data/ cat_dogs/train/cat/cat_150.wav', 'class_idx': 0}\n",
            "Finished audio {'name': '/content/drive/MyDrive/P07_ dog_cate_voice_classification/data/ cat_dogs/train/cat/cat_161.wav', 'class_idx': 0}\n",
            "Finished audio {'name': '/content/drive/MyDrive/P07_ dog_cate_voice_classification/data/ cat_dogs/train/cat/cat_160.wav', 'class_idx': 0}\n",
            "Finished audio {'name': '/content/drive/MyDrive/P07_ dog_cate_voice_classification/data/ cat_dogs/train/cat/cat_157.wav', 'class_idx': 0}\n",
            "Finished audio {'name': '/content/drive/MyDrive/P07_ dog_cate_voice_classification/data/ cat_dogs/train/cat/cat_54.wav', 'class_idx': 0}\n",
            "Finished audio {'name': '/content/drive/MyDrive/P07_ dog_cate_voice_classification/data/ cat_dogs/train/cat/cat_78.wav', 'class_idx': 0}\n",
            "Finished audio {'name': '/content/drive/MyDrive/P07_ dog_cate_voice_classification/data/ cat_dogs/train/cat/cat_65.wav', 'class_idx': 0}\n",
            "Finished audio {'name': '/content/drive/MyDrive/P07_ dog_cate_voice_classification/data/ cat_dogs/train/cat/cat_166.wav', 'class_idx': 0}\n",
            "Finished audio {'name': '/content/drive/MyDrive/P07_ dog_cate_voice_classification/data/ cat_dogs/train/cat/cat_162.wav', 'class_idx': 0}\n",
            "Finished audio {'name': '/content/drive/MyDrive/P07_ dog_cate_voice_classification/data/ cat_dogs/train/cat/cat_77.wav', 'class_idx': 0}\n",
            "Finished audio {'name': '/content/drive/MyDrive/P07_ dog_cate_voice_classification/data/ cat_dogs/train/cat/cat_60.wav', 'class_idx': 0}\n",
            "Finished audio {'name': '/content/drive/MyDrive/P07_ dog_cate_voice_classification/data/ cat_dogs/train/cat/cat_156.wav', 'class_idx': 0}\n",
            "Finished audio {'name': '/content/drive/MyDrive/P07_ dog_cate_voice_classification/data/ cat_dogs/train/cat/cat_153.wav', 'class_idx': 0}\n",
            "Finished audio {'name': '/content/drive/MyDrive/P07_ dog_cate_voice_classification/data/ cat_dogs/train/cat/cat_151.wav', 'class_idx': 0}\n",
            "Finished audio {'name': '/content/drive/MyDrive/P07_ dog_cate_voice_classification/data/ cat_dogs/train/cat/cat_50.wav', 'class_idx': 0}\n",
            "Finished audio {'name': '/content/drive/MyDrive/P07_ dog_cate_voice_classification/data/ cat_dogs/train/cat/cat_74.wav', 'class_idx': 0}\n",
            "Finished audio {'name': '/content/drive/MyDrive/P07_ dog_cate_voice_classification/data/ cat_dogs/train/cat/cat_70.wav', 'class_idx': 0}\n",
            "Finished audio {'name': '/content/drive/MyDrive/P07_ dog_cate_voice_classification/data/ cat_dogs/train/cat/cat_64.wav', 'class_idx': 0}\n",
            "Finished audio {'name': '/content/drive/MyDrive/P07_ dog_cate_voice_classification/data/ cat_dogs/train/cat/cat_159.wav', 'class_idx': 0}\n",
            "Finished audio {'name': '/content/drive/MyDrive/P07_ dog_cate_voice_classification/data/ cat_dogs/train/cat/cat_71.wav', 'class_idx': 0}\n",
            "Finished audio {'name': '/content/drive/MyDrive/P07_ dog_cate_voice_classification/data/ cat_dogs/train/cat/cat_73.wav', 'class_idx': 0}\n",
            "Finished audio {'name': '/content/drive/MyDrive/P07_ dog_cate_voice_classification/data/ cat_dogs/train/cat/cat_68.wav', 'class_idx': 0}\n",
            "Finished audio {'name': '/content/drive/MyDrive/P07_ dog_cate_voice_classification/data/ cat_dogs/train/cat/cat_165.wav', 'class_idx': 0}\n",
            "Finished audio {'name': '/content/drive/MyDrive/P07_ dog_cate_voice_classification/data/ cat_dogs/train/cat/cat_167.wav', 'class_idx': 0}\n",
            "Finished audio {'name': '/content/drive/MyDrive/P07_ dog_cate_voice_classification/data/ cat_dogs/train/cat/cat_155.wav', 'class_idx': 0}\n",
            "Finished audio {'name': '/content/drive/MyDrive/P07_ dog_cate_voice_classification/data/ cat_dogs/train/cat/cat_164.wav', 'class_idx': 0}\n",
            "Finished audio {'name': '/content/drive/MyDrive/P07_ dog_cate_voice_classification/data/ cat_dogs/train/cat/cat_53.wav', 'class_idx': 0}\n",
            "Finished audio {'name': '/content/drive/MyDrive/P07_ dog_cate_voice_classification/data/ cat_dogs/train/cat/cat_63.wav', 'class_idx': 0}\n",
            "Finished audio {'name': '/content/drive/MyDrive/P07_ dog_cate_voice_classification/data/ cat_dogs/train/cat/cat_52.wav', 'class_idx': 0}\n",
            "Finished audio {'name': '/content/drive/MyDrive/P07_ dog_cate_voice_classification/data/ cat_dogs/train/cat/cat_149.wav', 'class_idx': 0}\n",
            "Finished audio {'name': '/content/drive/MyDrive/P07_ dog_cate_voice_classification/data/ cat_dogs/train/dog/dog_barking_6.wav', 'class_idx': 1}\n",
            "Finished audio {'name': '/content/drive/MyDrive/P07_ dog_cate_voice_classification/data/ cat_dogs/train/dog/dog_barking_32.wav', 'class_idx': 1}\n",
            "Finished audio {'name': '/content/drive/MyDrive/P07_ dog_cate_voice_classification/data/ cat_dogs/train/dog/dog_barking_47.wav', 'class_idx': 1}\n",
            "Finished audio {'name': '/content/drive/MyDrive/P07_ dog_cate_voice_classification/data/ cat_dogs/train/dog/dog_barking_88.wav', 'class_idx': 1}\n",
            "Finished audio {'name': '/content/drive/MyDrive/P07_ dog_cate_voice_classification/data/ cat_dogs/train/dog/dog_barking_110.wav', 'class_idx': 1}\n",
            "Finished audio {'name': '/content/drive/MyDrive/P07_ dog_cate_voice_classification/data/ cat_dogs/train/dog/dog_barking_58.wav', 'class_idx': 1}\n",
            "Finished audio {'name': '/content/drive/MyDrive/P07_ dog_cate_voice_classification/data/ cat_dogs/train/dog/dog_barking_28.wav', 'class_idx': 1}\n",
            "Finished audio {'name': '/content/drive/MyDrive/P07_ dog_cate_voice_classification/data/ cat_dogs/train/dog/dog_barking_29.wav', 'class_idx': 1}\n",
            "Finished audio {'name': '/content/drive/MyDrive/P07_ dog_cate_voice_classification/data/ cat_dogs/train/dog/dog_barking_21.wav', 'class_idx': 1}\n",
            "Finished audio {'name': '/content/drive/MyDrive/P07_ dog_cate_voice_classification/data/ cat_dogs/train/dog/dog_barking_101.wav', 'class_idx': 1}\n",
            "Finished audio {'name': '/content/drive/MyDrive/P07_ dog_cate_voice_classification/data/ cat_dogs/train/dog/dog_barking_56.wav', 'class_idx': 1}\n",
            "Finished audio {'name': '/content/drive/MyDrive/P07_ dog_cate_voice_classification/data/ cat_dogs/train/dog/dog_barking_25.wav', 'class_idx': 1}\n",
            "Finished audio {'name': '/content/drive/MyDrive/P07_ dog_cate_voice_classification/data/ cat_dogs/train/dog/dog_barking_79.wav', 'class_idx': 1}\n",
            "Finished audio {'name': '/content/drive/MyDrive/P07_ dog_cate_voice_classification/data/ cat_dogs/train/dog/dog_barking_36.wav', 'class_idx': 1}\n",
            "Finished audio {'name': '/content/drive/MyDrive/P07_ dog_cate_voice_classification/data/ cat_dogs/train/dog/dog_barking_41.wav', 'class_idx': 1}\n",
            "Finished audio {'name': '/content/drive/MyDrive/P07_ dog_cate_voice_classification/data/ cat_dogs/train/dog/dog_barking_67.wav', 'class_idx': 1}\n",
            "Finished audio {'name': '/content/drive/MyDrive/P07_ dog_cate_voice_classification/data/ cat_dogs/train/dog/dog_barking_11.wav', 'class_idx': 1}\n",
            "Finished audio {'name': '/content/drive/MyDrive/P07_ dog_cate_voice_classification/data/ cat_dogs/train/dog/dog_barking_52.wav', 'class_idx': 1}\n",
            "Finished audio {'name': '/content/drive/MyDrive/P07_ dog_cate_voice_classification/data/ cat_dogs/train/dog/dog_barking_86.wav', 'class_idx': 1}\n",
            "Finished audio {'name': '/content/drive/MyDrive/P07_ dog_cate_voice_classification/data/ cat_dogs/train/dog/dog_barking_72.wav', 'class_idx': 1}\n",
            "Finished audio {'name': '/content/drive/MyDrive/P07_ dog_cate_voice_classification/data/ cat_dogs/train/dog/dog_barking_65.wav', 'class_idx': 1}\n",
            "Finished audio {'name': '/content/drive/MyDrive/P07_ dog_cate_voice_classification/data/ cat_dogs/train/dog/dog_barking_55.wav', 'class_idx': 1}\n",
            "Finished audio {'name': '/content/drive/MyDrive/P07_ dog_cate_voice_classification/data/ cat_dogs/train/dog/dog_barking_87.wav', 'class_idx': 1}\n",
            "Finished audio {'name': '/content/drive/MyDrive/P07_ dog_cate_voice_classification/data/ cat_dogs/train/dog/dog_barking_85.wav', 'class_idx': 1}\n",
            "Finished audio {'name': '/content/drive/MyDrive/P07_ dog_cate_voice_classification/data/ cat_dogs/train/dog/dog_barking_2.wav', 'class_idx': 1}\n",
            "Finished audio {'name': '/content/drive/MyDrive/P07_ dog_cate_voice_classification/data/ cat_dogs/train/dog/dog_barking_97.wav', 'class_idx': 1}\n",
            "Finished audio {'name': '/content/drive/MyDrive/P07_ dog_cate_voice_classification/data/ cat_dogs/train/dog/dog_barking_51.wav', 'class_idx': 1}\n",
            "Finished audio {'name': '/content/drive/MyDrive/P07_ dog_cate_voice_classification/data/ cat_dogs/train/dog/dog_barking_37.wav', 'class_idx': 1}\n",
            "Finished audio {'name': '/content/drive/MyDrive/P07_ dog_cate_voice_classification/data/ cat_dogs/train/dog/dog_barking_20.wav', 'class_idx': 1}\n",
            "Finished audio {'name': '/content/drive/MyDrive/P07_ dog_cate_voice_classification/data/ cat_dogs/train/dog/dog_barking_63.wav', 'class_idx': 1}\n",
            "Finished audio {'name': '/content/drive/MyDrive/P07_ dog_cate_voice_classification/data/ cat_dogs/train/dog/dog_barking_103.wav', 'class_idx': 1}\n",
            "Finished audio {'name': '/content/drive/MyDrive/P07_ dog_cate_voice_classification/data/ cat_dogs/train/dog/dog_barking_53.wav', 'class_idx': 1}\n",
            "Finished audio {'name': '/content/drive/MyDrive/P07_ dog_cate_voice_classification/data/ cat_dogs/train/dog/dog_barking_81.wav', 'class_idx': 1}\n",
            "Finished audio {'name': '/content/drive/MyDrive/P07_ dog_cate_voice_classification/data/ cat_dogs/train/dog/dog_barking_95.wav', 'class_idx': 1}\n",
            "Finished audio {'name': '/content/drive/MyDrive/P07_ dog_cate_voice_classification/data/ cat_dogs/train/dog/dog_barking_105.wav', 'class_idx': 1}\n",
            "Finished audio {'name': '/content/drive/MyDrive/P07_ dog_cate_voice_classification/data/ cat_dogs/train/dog/dog_barking_5.wav', 'class_idx': 1}\n",
            "Finished audio {'name': '/content/drive/MyDrive/P07_ dog_cate_voice_classification/data/ cat_dogs/train/dog/dog_barking_70.wav', 'class_idx': 1}\n",
            "Finished audio {'name': '/content/drive/MyDrive/P07_ dog_cate_voice_classification/data/ cat_dogs/train/dog/dog_barking_31.wav', 'class_idx': 1}\n",
            "Finished audio {'name': '/content/drive/MyDrive/P07_ dog_cate_voice_classification/data/ cat_dogs/train/dog/dog_barking_93.wav', 'class_idx': 1}\n",
            "Finished audio {'name': '/content/drive/MyDrive/P07_ dog_cate_voice_classification/data/ cat_dogs/train/dog/dog_barking_23.wav', 'class_idx': 1}\n",
            "Finished audio {'name': '/content/drive/MyDrive/P07_ dog_cate_voice_classification/data/ cat_dogs/train/dog/dog_barking_76.wav', 'class_idx': 1}\n",
            "Finished audio {'name': '/content/drive/MyDrive/P07_ dog_cate_voice_classification/data/ cat_dogs/train/dog/dog_barking_71.wav', 'class_idx': 1}\n",
            "Finished audio {'name': '/content/drive/MyDrive/P07_ dog_cate_voice_classification/data/ cat_dogs/train/dog/dog_barking_0.wav', 'class_idx': 1}\n",
            "Finished audio {'name': '/content/drive/MyDrive/P07_ dog_cate_voice_classification/data/ cat_dogs/train/dog/dog_barking_38.wav', 'class_idx': 1}\n",
            "Finished audio {'name': '/content/drive/MyDrive/P07_ dog_cate_voice_classification/data/ cat_dogs/train/dog/dog_barking_35.wav', 'class_idx': 1}\n",
            "Finished audio {'name': '/content/drive/MyDrive/P07_ dog_cate_voice_classification/data/ cat_dogs/train/dog/dog_barking_16.wav', 'class_idx': 1}\n",
            "Finished audio {'name': '/content/drive/MyDrive/P07_ dog_cate_voice_classification/data/ cat_dogs/train/dog/dog_barking_14.wav', 'class_idx': 1}\n",
            "Finished audio {'name': '/content/drive/MyDrive/P07_ dog_cate_voice_classification/data/ cat_dogs/train/dog/dog_barking_74.wav', 'class_idx': 1}\n",
            "Finished audio {'name': '/content/drive/MyDrive/P07_ dog_cate_voice_classification/data/ cat_dogs/train/dog/dog_barking_80.wav', 'class_idx': 1}\n",
            "Finished audio {'name': '/content/drive/MyDrive/P07_ dog_cate_voice_classification/data/ cat_dogs/train/dog/dog_barking_92.wav', 'class_idx': 1}\n",
            "Finished audio {'name': '/content/drive/MyDrive/P07_ dog_cate_voice_classification/data/ cat_dogs/train/dog/dog_barking_57.wav', 'class_idx': 1}\n",
            "Finished audio {'name': '/content/drive/MyDrive/P07_ dog_cate_voice_classification/data/ cat_dogs/train/dog/dog_barking_104.wav', 'class_idx': 1}\n",
            "Finished audio {'name': '/content/drive/MyDrive/P07_ dog_cate_voice_classification/data/ cat_dogs/train/dog/dog_barking_4.wav', 'class_idx': 1}\n",
            "Finished audio {'name': '/content/drive/MyDrive/P07_ dog_cate_voice_classification/data/ cat_dogs/train/dog/dog_barking_68.wav', 'class_idx': 1}\n",
            "Finished audio {'name': '/content/drive/MyDrive/P07_ dog_cate_voice_classification/data/ cat_dogs/train/dog/dog_barking_106.wav', 'class_idx': 1}\n",
            "Finished audio {'name': '/content/drive/MyDrive/P07_ dog_cate_voice_classification/data/ cat_dogs/train/dog/dog_barking_50.wav', 'class_idx': 1}\n",
            "Finished audio {'name': '/content/drive/MyDrive/P07_ dog_cate_voice_classification/data/ cat_dogs/train/dog/dog_barking_96.wav', 'class_idx': 1}\n",
            "Finished audio {'name': '/content/drive/MyDrive/P07_ dog_cate_voice_classification/data/ cat_dogs/train/dog/dog_barking_83.wav', 'class_idx': 1}\n",
            "Finished audio {'name': '/content/drive/MyDrive/P07_ dog_cate_voice_classification/data/ cat_dogs/train/dog/dog_barking_40.wav', 'class_idx': 1}\n",
            "Finished audio {'name': '/content/drive/MyDrive/P07_ dog_cate_voice_classification/data/ cat_dogs/train/dog/dog_barking_61.wav', 'class_idx': 1}\n",
            "Finished audio {'name': '/content/drive/MyDrive/P07_ dog_cate_voice_classification/data/ cat_dogs/train/dog/dog_barking_17.wav', 'class_idx': 1}\n",
            "Finished audio {'name': '/content/drive/MyDrive/P07_ dog_cate_voice_classification/data/ cat_dogs/train/dog/dog_barking_60.wav', 'class_idx': 1}\n",
            "Finished audio {'name': '/content/drive/MyDrive/P07_ dog_cate_voice_classification/data/ cat_dogs/train/dog/dog_barking_13.wav', 'class_idx': 1}\n",
            "Finished audio {'name': '/content/drive/MyDrive/P07_ dog_cate_voice_classification/data/ cat_dogs/train/dog/dog_barking_111.wav', 'class_idx': 1}\n",
            "Finished audio {'name': '/content/drive/MyDrive/P07_ dog_cate_voice_classification/data/ cat_dogs/train/dog/dog_barking_22.wav', 'class_idx': 1}\n",
            "Finished audio {'name': '/content/drive/MyDrive/P07_ dog_cate_voice_classification/data/ cat_dogs/train/dog/dog_barking_42.wav', 'class_idx': 1}\n",
            "Finished audio {'name': '/content/drive/MyDrive/P07_ dog_cate_voice_classification/data/ cat_dogs/train/dog/dog_barking_77.wav', 'class_idx': 1}\n",
            "Finished audio {'name': '/content/drive/MyDrive/P07_ dog_cate_voice_classification/data/ cat_dogs/train/dog/dog_barking_75.wav', 'class_idx': 1}\n",
            "Finished audio {'name': '/content/drive/MyDrive/P07_ dog_cate_voice_classification/data/ cat_dogs/train/cat/cat_51.wav', 'class_idx': 0}\n",
            "Finished audio {'name': '/content/drive/MyDrive/P07_ dog_cate_voice_classification/data/ cat_dogs/train/cat/cat_62.wav', 'class_idx': 0}\n",
            "Finished audio {'name': '/content/drive/MyDrive/P07_ dog_cate_voice_classification/data/ cat_dogs/train/cat/cat_95.wav', 'class_idx': 0}\n",
            "Finished audio {'name': '/content/drive/MyDrive/P07_ dog_cate_voice_classification/data/ cat_dogs/train/cat/cat_80.wav', 'class_idx': 0}\n",
            "Finished audio {'name': '/content/drive/MyDrive/P07_ dog_cate_voice_classification/data/ cat_dogs/train/cat/cat_96.wav', 'class_idx': 0}\n",
            "Finished audio {'name': '/content/drive/MyDrive/P07_ dog_cate_voice_classification/data/ cat_dogs/train/cat/cat_99.wav', 'class_idx': 0}\n",
            "Finished audio {'name': '/content/drive/MyDrive/P07_ dog_cate_voice_classification/data/ cat_dogs/train/cat/cat_94.wav', 'class_idx': 0}\n",
            "Finished audio {'name': '/content/drive/MyDrive/P07_ dog_cate_voice_classification/data/ cat_dogs/train/cat/cat_91.wav', 'class_idx': 0}\n",
            "Finished audio {'name': '/content/drive/MyDrive/P07_ dog_cate_voice_classification/data/ cat_dogs/train/cat/cat_87.wav', 'class_idx': 0}\n",
            "Finished audio {'name': '/content/drive/MyDrive/P07_ dog_cate_voice_classification/data/ cat_dogs/train/cat/cat_81.wav', 'class_idx': 0}\n",
            "Finished audio {'name': '/content/drive/MyDrive/P07_ dog_cate_voice_classification/data/ cat_dogs/train/cat/cat_97.wav', 'class_idx': 0}\n",
            "Finished audio {'name': '/content/drive/MyDrive/P07_ dog_cate_voice_classification/data/ cat_dogs/train/cat/cat_93.wav', 'class_idx': 0}\n",
            "Finished audio {'name': '/content/drive/MyDrive/P07_ dog_cate_voice_classification/data/ cat_dogs/train/cat/cat_83.wav', 'class_idx': 0}\n",
            "Finished audio {'name': '/content/drive/MyDrive/P07_ dog_cate_voice_classification/data/ cat_dogs/train/cat/cat_84.wav', 'class_idx': 0}\n",
            "Finished audio {'name': '/content/drive/MyDrive/P07_ dog_cate_voice_classification/data/ cat_dogs/train/cat/cat_92.wav', 'class_idx': 0}\n",
            "Finished audio {'name': '/content/drive/MyDrive/P07_ dog_cate_voice_classification/data/ cat_dogs/train/cat/cat_98.wav', 'class_idx': 0}\n",
            "Finished audio {'name': '/content/drive/MyDrive/P07_ dog_cate_voice_classification/data/ cat_dogs/train/cat/cat_89.wav', 'class_idx': 0}\n",
            "Finished audio {'name': '/content/drive/MyDrive/P07_ dog_cate_voice_classification/data/ cat_dogs/train/dog/dog_barking_107.wav', 'class_idx': 1}\n",
            "Finished audio {'name': '/content/drive/MyDrive/P07_ dog_cate_voice_classification/data/ cat_dogs/train/dog/dog_barking_27.wav', 'class_idx': 1}\n",
            "Finished audio {'name': '/content/drive/MyDrive/P07_ dog_cate_voice_classification/data/ cat_dogs/train/dog/dog_barking_30.wav', 'class_idx': 1}\n",
            "Finished audio {'name': '/content/drive/MyDrive/P07_ dog_cate_voice_classification/data/ cat_dogs/train/dog/dog_barking_10.wav', 'class_idx': 1}\n",
            "Finished audio {'name': '/content/drive/MyDrive/P07_ dog_cate_voice_classification/data/ cat_dogs/train/dog/dog_barking_102.wav', 'class_idx': 1}\n",
            "Finished audio {'name': '/content/drive/MyDrive/P07_ dog_cate_voice_classification/data/ cat_dogs/train/dog/dog_barking_18.wav', 'class_idx': 1}\n",
            "Finished audio {'name': '/content/drive/MyDrive/P07_ dog_cate_voice_classification/data/ cat_dogs/train/dog/dog_barking_26.wav', 'class_idx': 1}\n",
            "Finished audio {'name': '/content/drive/MyDrive/P07_ dog_cate_voice_classification/data/ cat_dogs/train/dog/dog_barking_108.wav', 'class_idx': 1}\n",
            "Finished audio {'name': '/content/drive/MyDrive/P07_ dog_cate_voice_classification/data/ cat_dogs/train/dog/dog_barking_100.wav', 'class_idx': 1}\n",
            "Finished audio {'name': '/content/drive/MyDrive/P07_ dog_cate_voice_classification/data/ cat_dogs/train/dog/dog_barking_39.wav', 'class_idx': 1}\n",
            "Finished audio {'name': '/content/drive/MyDrive/P07_ dog_cate_voice_classification/data/ cat_dogs/train/dog/dog_barking_69.wav', 'class_idx': 1}\n",
            "Finished audio {'name': '/content/drive/MyDrive/P07_ dog_cate_voice_classification/data/ cat_dogs/train/dog/dog_barking_84.wav', 'class_idx': 1}\n",
            "Finished audio {'name': '/content/drive/MyDrive/P07_ dog_cate_voice_classification/data/ cat_dogs/train/dog/dog_barking_33.wav', 'class_idx': 1}\n",
            "Finished audio {'name': '/content/drive/MyDrive/P07_ dog_cate_voice_classification/data/ cat_dogs/train/dog/dog_barking_98.wav', 'class_idx': 1}\n",
            "Finished audio {'name': '/content/drive/MyDrive/P07_ dog_cate_voice_classification/data/ cat_dogs/train/dog/dog_barking_1.wav', 'class_idx': 1}\n",
            "Finished audio {'name': '/content/drive/MyDrive/P07_ dog_cate_voice_classification/data/ cat_dogs/train/dog/dog_barking_109.wav', 'class_idx': 1}\n",
            "Finished audio {'name': '/content/drive/MyDrive/P07_ dog_cate_voice_classification/data/ cat_dogs/train/dog/dog_barking_94.wav', 'class_idx': 1}\n"
          ]
        }
      ],
      "source": [
        "!python /content/preprocessingGTZAN.py   --sampling_rate 22050"
      ]
    },
    {
      "cell_type": "markdown",
      "metadata": {
        "id": "5UgMa0enjWos"
      },
      "source": [
        "#Deep learning with transfer learning methodes"
      ]
    },
    {
      "cell_type": "markdown",
      "metadata": {
        "id": "R6KxN_cjjpS4"
      },
      "source": [
        "##Densenet"
      ]
    },
    {
      "cell_type": "markdown",
      "metadata": {
        "id": "in_p51lejuVH"
      },
      "source": [
        "###Pretrained"
      ]
    },
    {
      "cell_type": "code",
      "execution_count": null,
      "metadata": {
        "colab": {
          "base_uri": "https://localhost:8080/"
        },
        "id": "lBntWSLAglXa",
        "outputId": "37bc6060-0e6b-4623-8d96-1cc3a1a8a1d1"
      },
      "outputs": [
        {
          "name": "stdout",
          "output_type": "stream",
          "text": [
            "100% 84/84 [01:26<00:00,  1.03s/it, loss=0.676]\n",
            "Epoch 0/20 Loss:0.6756492589289943 Valid Acc:83.33333333333333\n",
            "100% 84/84 [01:27<00:00,  1.04s/it, loss=0.302]\n",
            "Epoch 1/20 Loss:0.30200273712121306 Valid Acc:83.33333333333333\n",
            "100% 84/84 [01:24<00:00,  1.01s/it, loss=0.204]\n",
            "Epoch 2/20 Loss:0.20373235917317548 Valid Acc:80.95238095238095\n",
            "100% 84/84 [01:27<00:00,  1.04s/it, loss=0.188]\n",
            "Epoch 3/20 Loss:0.18784215167120455 Valid Acc:88.0952380952381\n",
            "100% 84/84 [01:26<00:00,  1.02s/it, loss=0.219]\n",
            "Epoch 4/20 Loss:0.2194781554862857 Valid Acc:83.33333333333333\n",
            "100% 84/84 [01:27<00:00,  1.04s/it, loss=0.126]\n",
            "Epoch 5/20 Loss:0.1262490794428491 Valid Acc:83.33333333333333\n",
            "100% 84/84 [01:25<00:00,  1.01s/it, loss=0.130]\n",
            "Epoch 6/20 Loss:0.12954515275556505 Valid Acc:88.0952380952381\n",
            "100% 84/84 [01:23<00:00,  1.01it/s, loss=0.074]\n",
            "Epoch 7/20 Loss:0.0744552226249306 Valid Acc:88.0952380952381\n",
            "100% 84/84 [01:27<00:00,  1.04s/it, loss=0.067]\n",
            "Epoch 8/20 Loss:0.06707235110003412 Valid Acc:85.71428571428571\n",
            "100% 84/84 [01:25<00:00,  1.01s/it, loss=0.057]\n",
            "Epoch 9/20 Loss:0.056818598099718134 Valid Acc:88.0952380952381\n",
            "100% 84/84 [01:26<00:00,  1.02s/it, loss=0.069]\n",
            "Epoch 10/20 Loss:0.06898018350364596 Valid Acc:85.71428571428571\n",
            "100% 84/84 [01:24<00:00,  1.01s/it, loss=0.025]\n",
            "Epoch 11/20 Loss:0.025105210107063784 Valid Acc:85.71428571428571\n",
            "100% 84/84 [01:26<00:00,  1.03s/it, loss=0.014]\n",
            "Epoch 12/20 Loss:0.014362089504304874 Valid Acc:88.0952380952381\n",
            "100% 84/84 [01:28<00:00,  1.05s/it, loss=0.026]\n",
            "Epoch 13/20 Loss:0.026491883743368645 Valid Acc:88.0952380952381\n",
            "100% 84/84 [01:27<00:00,  1.04s/it, loss=0.091]\n",
            "Epoch 14/20 Loss:0.09113544667516613 Valid Acc:83.33333333333333\n",
            "100% 84/84 [01:28<00:00,  1.05s/it, loss=0.037]\n",
            "Epoch 15/20 Loss:0.03746961715764233 Valid Acc:90.47619047619048\n",
            "100% 84/84 [01:26<00:00,  1.03s/it, loss=0.087]\n",
            "Epoch 16/20 Loss:0.08710406732730223 Valid Acc:85.71428571428571\n",
            "100% 84/84 [01:26<00:00,  1.03s/it, loss=0.109]\n",
            "Epoch 17/20 Loss:0.10888336090803412 Valid Acc:88.0952380952381\n",
            "100% 84/84 [01:27<00:00,  1.04s/it, loss=0.054]\n",
            "Epoch 18/20 Loss:0.05401875589173176 Valid Acc:85.71428571428571\n",
            "100% 84/84 [01:28<00:00,  1.06s/it, loss=0.079]\n",
            "Epoch 19/20 Loss:0.07919263982746218 Valid Acc:88.0952380952381\n"
          ]
        }
      ],
      "source": [
        "!python /content/train.py --config_path /content/gtzan_densenet.json"
      ]
    },
    {
      "cell_type": "code",
      "execution_count": null,
      "metadata": {
        "colab": {
          "base_uri": "https://localhost:8080/"
        },
        "id": "IJrCisrrtnss",
        "outputId": "20ec7efc-f971-4c83-c893-64ae5bf1ffb1"
      },
      "outputs": [
        {
          "data": {
            "text/plain": [
              "20"
            ]
          },
          "execution_count": 4,
          "metadata": {},
          "output_type": "execute_result"
        }
      ],
      "source": [
        "val_loss=[0.676,0.302,0.204,0.188,0.219,0.126,0.130,0.074,0.067,0.057,0.069,0.025,0.014,0.026,0.091,0.037,0.087,0.109,0.054,0.079]\n",
        "len(val_loss)"
      ]
    },
    {
      "cell_type": "code",
      "execution_count": null,
      "metadata": {
        "colab": {
          "base_uri": "https://localhost:8080/"
        },
        "id": "lq7gdaBBverU",
        "outputId": "067b603a-95b4-435b-c98d-a43321142acf"
      },
      "outputs": [
        {
          "data": {
            "text/plain": [
              "20"
            ]
          },
          "execution_count": 28,
          "metadata": {},
          "output_type": "execute_result"
        }
      ],
      "source": [
        "val_acc=[83.33,83.33,80.95,88.09,83.33,83.33,88.09,88.09,85.71,85.71,88.09,85.71,88.09,88.09,83.33,90.47,85.71,88.09,85.71,88.09]\n",
        "len(val_acc)"
      ]
    },
    {
      "cell_type": "code",
      "execution_count": null,
      "metadata": {
        "colab": {
          "base_uri": "https://localhost:8080/",
          "height": 337
        },
        "id": "xnlKrBlZ-sIT",
        "outputId": "a946a7e1-beb8-4a05-808d-e6cf32b4eecc"
      },
      "outputs": [
        {
          "data": {
            "text/plain": [
              "<matplotlib.legend.Legend at 0x7f41db9ac190>"
            ]
          },
          "execution_count": 29,
          "metadata": {},
          "output_type": "execute_result"
        },
        {
          "data": {
            "image/png": "[encoded data removed]",
            "text/plain": [
              "<Figure size 720x360 with 1 Axes>"
            ]
          },
          "metadata": {},
          "output_type": "display_data"
        }
      ],
      "source": [
        "fig, ax = plt.subplots(figsize=(10,5))\n",
        "\n",
        "plt.plot(Epoch,val_acc)\n",
        "plt.legend(['val_acc'])"
      ]
    },
    {
      "cell_type": "code",
      "execution_count": null,
      "metadata": {
        "colab": {
          "background_save": true,
          "base_uri": "https://localhost:8080/"
        },
        "id": "9DftIp0JuBe9",
        "outputId": "a9ccc86a-0918-45a3-dd75-8a362c7e6b22"
      },
      "outputs": [
        {
          "name": "stdout",
          "output_type": "stream",
          "text": [
            "100% 84/84 [01:32<00:00,  1.10s/it, loss=2.015]\n",
            "Epoch 0/20 Loss:2.0152207087902796 Valid Acc:78.57142857142857\n",
            "100% 84/84 [01:32<00:00,  1.10s/it, loss=1.156]\n",
            "Epoch 1/20 Loss:1.1559591140775454 Valid Acc:83.33333333333333\n",
            "100% 84/84 [01:32<00:00,  1.10s/it, loss=0.724]\n",
            "Epoch 2/20 Loss:0.7243603381017844 Valid Acc:85.71428571428571\n",
            "100% 84/84 [01:34<00:00,  1.12s/it, loss=0.456]\n",
            "Epoch 3/20 Loss:0.4556239195877597 Valid Acc:88.0952380952381\n",
            "100% 84/84 [01:31<00:00,  1.09s/it, loss=0.424]\n",
            "Epoch 4/20 Loss:0.4240851785455431 Valid Acc:88.0952380952381\n",
            "100% 84/84 [01:31<00:00,  1.09s/it, loss=0.353]\n",
            "Epoch 5/20 Loss:0.3534320866955178 Valid Acc:88.0952380952381\n",
            "100% 84/84 [01:31<00:00,  1.08s/it, loss=0.286]\n",
            "Epoch 6/20 Loss:0.2862810381200342 Valid Acc:88.0952380952381\n",
            "100% 84/84 [01:28<00:00,  1.05s/it, loss=0.211]\n",
            "Epoch 7/20 Loss:0.21074521723425105 Valid Acc:88.0952380952381\n",
            "100% 84/84 [01:30<00:00,  1.08s/it, loss=0.272]\n",
            "Epoch 8/20 Loss:0.27188426772842095 Valid Acc:88.0952380952381\n",
            "100% 84/84 [01:31<00:00,  1.09s/it, loss=0.276]\n",
            "Epoch 9/20 Loss:0.2755570222534949 Valid Acc:85.71428571428571\n",
            "100% 84/84 [01:29<00:00,  1.07s/it, loss=0.270]\n",
            "Epoch 10/20 Loss:0.2696547579862887 Valid Acc:85.71428571428571\n",
            "100% 84/84 [01:29<00:00,  1.07s/it, loss=0.164]\n",
            "Epoch 11/20 Loss:0.1638336408927682 Valid Acc:85.71428571428571\n",
            "100% 84/84 [01:30<00:00,  1.08s/it, loss=0.171]\n",
            "Epoch 12/20 Loss:0.17086162684219225 Valid Acc:85.71428571428571\n",
            "100% 84/84 [01:29<00:00,  1.07s/it, loss=0.172]\n",
            "Epoch 13/20 Loss:0.17226248660257884 Valid Acc:85.71428571428571\n",
            "100% 84/84 [01:26<00:00,  1.03s/it, loss=0.181]\n",
            "Epoch 14/20 Loss:0.18129146116830053 Valid Acc:85.71428571428571\n",
            "100% 84/84 [01:31<00:00,  1.09s/it, loss=0.100]\n",
            "Epoch 15/20 Loss:0.10035893502866938 Valid Acc:88.0952380952381\n",
            "100% 84/84 [01:29<00:00,  1.07s/it, loss=0.166]\n",
            "Epoch 16/20 Loss:0.16614846889639184 Valid Acc:85.71428571428571\n",
            "100% 84/84 [01:27<00:00,  1.04s/it, loss=0.106]\n",
            "Epoch 17/20 Loss:0.10613180617136615 Valid Acc:85.71428571428571\n",
            "100% 84/84 [01:29<00:00,  1.06s/it, loss=0.098]\n",
            "Epoch 18/20 Loss:0.09842062893412298 Valid Acc:88.0952380952381\n",
            "100% 84/84 [01:29<00:00,  1.07s/it, loss=0.120]\n",
            "Epoch 19/20 Loss:0.11954530871783693 Valid Acc:83.33333333333333\n",
            "val_acc: [78.57142857142857, 83.33333333333333, 85.71428571428571, 88.0952380952381, 88.0952380952381, 88.0952380952381, 88.0952380952381, 88.0952380952381, 88.0952380952381, 85.71428571428571, 85.71428571428571, 85.71428571428571, 85.71428571428571, 85.71428571428571, 85.71428571428571, 88.0952380952381, 85.71428571428571, 85.71428571428571, 88.0952380952381, 83.33333333333333]\n"
          ]
        }
      ],
      "source": [
        "#\"lr\": 1e-5\n",
        "!python /content/train.py --config_path /content/gtzan_densenet.json"
      ]
    },
    {
      "cell_type": "code",
      "execution_count": null,
      "metadata": {
        "colab": {
          "base_uri": "https://localhost:8080/",
          "height": 165
        },
        "id": "-iHPeDEW3Y5i",
        "outputId": "027f2b53-add3-46ab-eb86-b01abbb6834e"
      },
      "outputs": [
        {
          "ename": "NameError",
          "evalue": "ignored",
          "output_type": "error",
          "traceback": [
            "\u001b[0;31m---------------------------------------------------------------------------\u001b[0m",
            "\u001b[0;31mNameError\u001b[0m                                 Traceback (most recent call last)",
            "\u001b[0;32m<ipython-input-8-b26ff9b14205>\u001b[0m in \u001b[0;36m<module>\u001b[0;34m()\u001b[0m\n\u001b[0;32m----> 1\u001b[0;31m \u001b[0mepochs\u001b[0m\u001b[0;34m\u001b[0m\u001b[0;34m\u001b[0m\u001b[0m\n\u001b[0m",
            "\u001b[0;31mNameError\u001b[0m: name 'epochs' is not defined"
          ]
        }
      ],
      "source": [
        ""
      ]
    },
    {
      "cell_type": "markdown",
      "metadata": {
        "id": "ts_I7yM3j4N3"
      },
      "source": [
        "###Random"
      ]
    },
    {
      "cell_type": "code",
      "execution_count": null,
      "metadata": {
        "colab": {
          "base_uri": "https://localhost:8080/"
        },
        "id": "QDN-vNge5Wx_",
        "outputId": "8f512d88-45bc-4525-eebd-2c5cdb1e69c2"
      },
      "outputs": [
        {
          "name": "stdout",
          "output_type": "stream",
          "text": [
            "100% 84/84 [01:26<00:00,  1.02s/it, loss=0.704]\n",
            "Epoch 0/20 Loss:0.7044380909452835 Valid Acc:80.95238095238095\n",
            "100% 84/84 [01:26<00:00,  1.02s/it, loss=0.290]\n",
            "Epoch 1/20 Loss:0.28969705550532254 Valid Acc:73.80952380952381\n",
            "100% 84/84 [01:26<00:00,  1.03s/it, loss=0.217]\n",
            "Epoch 2/20 Loss:0.2172006827313453 Valid Acc:80.95238095238095\n",
            "100% 84/84 [01:26<00:00,  1.03s/it, loss=0.187]\n",
            "Epoch 3/20 Loss:0.18687050975859165 Valid Acc:73.80952380952381\n",
            "100% 84/84 [01:28<00:00,  1.06s/it, loss=0.180]\n",
            "Epoch 4/20 Loss:0.18001406205197176 Valid Acc:85.71428571428571\n",
            "100% 84/84 [01:24<00:00,  1.01s/it, loss=0.183]\n",
            "Epoch 5/20 Loss:0.1826852174985799 Valid Acc:83.33333333333333\n",
            "100% 84/84 [01:26<00:00,  1.03s/it, loss=0.167]\n",
            "Epoch 6/20 Loss:0.16685955658266766 Valid Acc:80.95238095238095\n",
            "100% 84/84 [01:23<00:00,  1.00it/s, loss=0.118]\n",
            "Epoch 7/20 Loss:0.11784835681984467 Valid Acc:80.95238095238095\n",
            "100% 84/84 [01:21<00:00,  1.03it/s, loss=0.124]\n",
            "Epoch 8/20 Loss:0.12416497349650377 Valid Acc:85.71428571428571\n",
            "100% 84/84 [01:24<00:00,  1.00s/it, loss=0.115]\n",
            "Epoch 9/20 Loss:0.11528169392563757 Valid Acc:80.95238095238095\n",
            "100% 84/84 [01:23<00:00,  1.00it/s, loss=0.089]\n",
            "Epoch 10/20 Loss:0.08875984855971876 Valid Acc:80.95238095238095\n",
            "100% 84/84 [01:26<00:00,  1.03s/it, loss=0.047]\n",
            "Epoch 11/20 Loss:0.04707888048835143 Valid Acc:78.57142857142857\n",
            "100% 84/84 [01:26<00:00,  1.03s/it, loss=0.066]\n",
            "Epoch 12/20 Loss:0.06559858042358731 Valid Acc:83.33333333333333\n",
            "100% 84/84 [01:26<00:00,  1.03s/it, loss=0.073]\n",
            "Epoch 13/20 Loss:0.07305970304116186 Valid Acc:80.95238095238095\n",
            "100% 84/84 [01:26<00:00,  1.03s/it, loss=0.059]\n",
            "Epoch 14/20 Loss:0.05867310636676848 Valid Acc:80.95238095238095\n",
            "100% 84/84 [01:24<00:00,  1.00s/it, loss=0.051]\n",
            "Epoch 15/20 Loss:0.05082835033785419 Valid Acc:80.95238095238095\n",
            "100% 84/84 [01:26<00:00,  1.03s/it, loss=0.046]\n",
            "Epoch 16/20 Loss:0.0459010358172236 Valid Acc:85.71428571428571\n",
            "100% 84/84 [01:26<00:00,  1.03s/it, loss=0.019]\n",
            "Epoch 17/20 Loss:0.018582510873134846 Valid Acc:88.0952380952381\n",
            "100% 84/84 [01:26<00:00,  1.03s/it, loss=0.062]\n",
            "Epoch 18/20 Loss:0.06193073181341225 Valid Acc:83.33333333333333\n",
            "100% 84/84 [01:27<00:00,  1.04s/it, loss=0.040]\n",
            "Epoch 19/20 Loss:0.04019106459860008 Valid Acc:80.95238095238095\n"
          ]
        }
      ],
      "source": [
        "!python /content/train.py --config_path /content/_random_densenet.json\n",
        "#[0.704,0.290,0.217,0.187,0.180,0.180,0.183,0.167,0.118,0.124,0.115,0.089,0.047,0.073,0.059,0.051,"
      ]
    },
    {
      "cell_type": "code",
      "execution_count": null,
      "metadata": {
        "colab": {
          "base_uri": "https://localhost:8080/"
        },
        "id": "VUpsqJH91_f1",
        "outputId": "f9d86709-46e9-4cdc-c9c5-50af01824c55"
      },
      "outputs": [
        {
          "data": {
            "text/plain": [
              "20"
            ]
          },
          "execution_count": 10,
          "metadata": {},
          "output_type": "execute_result"
        }
      ],
      "source": [
        "Val_loss=[0.704,0.290,0.217,0.187,0.180,0.180,0.183,0.167,0.118,0.124,0.115,0.089,0.047,0.073,0.059,0.051,0.046,0.019,0.062,0.040]\n",
        "len(val_loss)"
      ]
    },
    {
      "cell_type": "code",
      "execution_count": null,
      "metadata": {
        "colab": {
          "base_uri": "https://localhost:8080/"
        },
        "id": "njKaDHdQ0Ekx",
        "outputId": "4a233417-be86-47bb-91b4-ec0a1f9bf13f"
      },
      "outputs": [
        {
          "data": {
            "text/plain": [
              "20"
            ]
          },
          "execution_count": 26,
          "metadata": {},
          "output_type": "execute_result"
        }
      ],
      "source": [
        "val_acc=[80.95,73.80,80.95,73.80,85.71,80.95,83.33,80.95,80.95,85.71,80.95,80.95,78.57,83.33,80.95,80.95,85.71,88.09,83.33,80.95]\n",
        "len(val_acc)"
      ]
    },
    {
      "cell_type": "code",
      "execution_count": null,
      "metadata": {
        "colab": {
          "base_uri": "https://localhost:8080/",
          "height": 337
        },
        "id": "MSAvpkFD-oLS",
        "outputId": "e4f11846-b65b-4ff7-82b7-d3be665e709a"
      },
      "outputs": [
        {
          "data": {
            "text/plain": [
              "<matplotlib.legend.Legend at 0x7f41dba99990>"
            ]
          },
          "execution_count": 27,
          "metadata": {},
          "output_type": "execute_result"
        },
        {
          "data": {
            "image/png": "[encoded data removed]",
            "text/plain": [
              "<Figure size 720x360 with 1 Axes>"
            ]
          },
          "metadata": {},
          "output_type": "display_data"
        }
      ],
      "source": [
        "fig, ax = plt.subplots(figsize=(10,5))\n",
        "\n",
        "plt.plot(Epoch,val_acc)\n",
        "plt.legend(['val_acc'])"
      ]
    },
    {
      "cell_type": "code",
      "execution_count": null,
      "metadata": {
        "colab": {
          "base_uri": "https://localhost:8080/"
        },
        "id": "C9g4BSA94mMX",
        "outputId": "32c50aec-a28e-4393-dcb6-120247645dac"
      },
      "outputs": [
        {
          "name": "stdout",
          "output_type": "stream",
          "text": [
            "100% 84/84 [01:29<00:00,  1.06s/it, loss=1.799]\n",
            "Epoch 0/20 Loss:1.7985555756659735 Valid Acc:57.142857142857146\n",
            "100% 84/84 [01:28<00:00,  1.05s/it, loss=1.059]\n",
            "Epoch 1/20 Loss:1.058608933928467 Valid Acc:59.523809523809526\n",
            "100% 84/84 [01:32<00:00,  1.10s/it, loss=0.704]\n",
            "Epoch 2/20 Loss:0.7040681008781705 Valid Acc:66.66666666666667\n",
            "100% 84/84 [01:33<00:00,  1.11s/it, loss=0.529]\n",
            "Epoch 3/20 Loss:0.5287842771836689 Valid Acc:69.04761904761905\n",
            "100% 84/84 [01:30<00:00,  1.08s/it, loss=0.437]\n",
            "Epoch 4/20 Loss:0.4371587555145934 Valid Acc:76.19047619047619\n",
            "100% 84/84 [01:31<00:00,  1.09s/it, loss=0.416]\n",
            "Epoch 5/20 Loss:0.41623910223799093 Valid Acc:80.95238095238095\n",
            "100% 84/84 [01:31<00:00,  1.08s/it, loss=0.335]\n",
            "Epoch 6/20 Loss:0.3350112908298061 Valid Acc:88.0952380952381\n",
            "100% 84/84 [01:30<00:00,  1.08s/it, loss=0.235]\n",
            "Epoch 7/20 Loss:0.23548723553263007 Valid Acc:85.71428571428571\n",
            "100% 84/84 [01:30<00:00,  1.08s/it, loss=0.193]\n",
            "Epoch 8/20 Loss:0.1930444946823021 Valid Acc:80.95238095238095\n",
            "100% 84/84 [01:30<00:00,  1.08s/it, loss=0.222]\n",
            "Epoch 9/20 Loss:0.22238762521495423 Valid Acc:85.71428571428571\n",
            "100% 84/84 [01:30<00:00,  1.08s/it, loss=0.233]\n",
            "Epoch 10/20 Loss:0.23291983694902488 Valid Acc:85.71428571428571\n",
            "100% 84/84 [01:30<00:00,  1.08s/it, loss=0.188]\n",
            "Epoch 11/20 Loss:0.1879482769983865 Valid Acc:88.0952380952381\n",
            "100% 84/84 [01:29<00:00,  1.07s/it, loss=0.199]\n",
            "Epoch 12/20 Loss:0.19879475897843285 Valid Acc:90.47619047619048\n",
            "100% 84/84 [01:30<00:00,  1.08s/it, loss=0.211]\n",
            "Epoch 13/20 Loss:0.2111491545524803 Valid Acc:88.0952380952381\n",
            "100% 84/84 [01:28<00:00,  1.06s/it, loss=0.150]\n",
            "Epoch 14/20 Loss:0.1501137926575861 Valid Acc:88.0952380952381\n",
            "100% 84/84 [01:28<00:00,  1.06s/it, loss=0.160]\n",
            "Epoch 15/20 Loss:0.1604974988648402 Valid Acc:88.0952380952381\n",
            "100% 84/84 [01:29<00:00,  1.06s/it, loss=0.182]\n",
            "Epoch 16/20 Loss:0.18165001162283478 Valid Acc:88.0952380952381\n",
            "100% 84/84 [01:31<00:00,  1.09s/it, loss=0.148]\n",
            "Epoch 17/20 Loss:0.1476474151990953 Valid Acc:80.95238095238095\n",
            "100% 84/84 [01:31<00:00,  1.09s/it, loss=0.175]\n",
            "Epoch 18/20 Loss:0.17520277226521147 Valid Acc:80.95238095238095\n",
            "100% 84/84 [01:29<00:00,  1.07s/it, loss=0.167]\n",
            "Epoch 19/20 Loss:0.16729652601116823 Valid Acc:85.71428571428571\n",
            "val_acc: [57.142857142857146, 59.523809523809526, 66.66666666666667, 69.04761904761905, 76.19047619047619, 80.95238095238095, 88.0952380952381, 85.71428571428571, 80.95238095238095, 85.71428571428571, 85.71428571428571, 88.0952380952381, 90.47619047619048, 88.0952380952381, 88.0952380952381, 88.0952380952381, 88.0952380952381, 80.95238095238095, 80.95238095238095, 85.71428571428571]\n"
          ]
        }
      ],
      "source": [
        "#\"lr\": 1e-5\n",
        "!python /content/train.py --config_path /content/_random_densenet.json"
      ]
    },
    {
      "cell_type": "markdown",
      "metadata": {
        "id": "ASHzeeP3j9vG"
      },
      "source": [
        "##Resnet"
      ]
    },
    {
      "cell_type": "markdown",
      "metadata": {
        "id": "ecmFE30AkOk9"
      },
      "source": [
        "###Random"
      ]
    },
    {
      "cell_type": "code",
      "execution_count": null,
      "metadata": {
        "colab": {
          "base_uri": "https://localhost:8080/"
        },
        "id": "qlHDRrf75juw",
        "outputId": "7caa2f8e-23f8-4eb6-80d3-aeee4211fe63"
      },
      "outputs": [
        {
          "name": "stdout",
          "output_type": "stream",
          "text": [
            "100% 84/84 [01:18<00:00,  1.07it/s, loss=0.607]\n",
            "Epoch 0/20 Loss:0.6068018675293951 Valid Acc:73.80952380952381\n",
            "100% 84/84 [01:20<00:00,  1.04it/s, loss=0.310]\n",
            "Epoch 1/20 Loss:0.3101332749772285 Valid Acc:76.19047619047619\n",
            "100% 84/84 [01:19<00:00,  1.06it/s, loss=0.301]\n",
            "Epoch 2/20 Loss:0.3005037334029718 Valid Acc:69.04761904761905\n",
            "100% 84/84 [01:19<00:00,  1.06it/s, loss=0.184]\n",
            "Epoch 3/20 Loss:0.18355147912543976 Valid Acc:71.42857142857143\n",
            "100% 84/84 [01:18<00:00,  1.07it/s, loss=0.121]\n",
            "Epoch 4/20 Loss:0.1207052375296674 Valid Acc:69.04761904761905\n",
            "100% 84/84 [01:16<00:00,  1.10it/s, loss=0.154]\n",
            "Epoch 5/20 Loss:0.15441681164832385 Valid Acc:78.57142857142857\n",
            "100% 84/84 [01:17<00:00,  1.08it/s, loss=0.111]\n",
            "Epoch 6/20 Loss:0.11125332374996062 Valid Acc:83.33333333333333\n",
            "100% 84/84 [01:19<00:00,  1.06it/s, loss=0.079]\n",
            "Epoch 7/20 Loss:0.07889364591946582 Valid Acc:73.80952380952381\n",
            "100% 84/84 [01:19<00:00,  1.06it/s, loss=0.056]\n",
            "Epoch 8/20 Loss:0.05602130915143616 Valid Acc:83.33333333333333\n",
            "100% 84/84 [01:16<00:00,  1.10it/s, loss=0.118]\n",
            "Epoch 9/20 Loss:0.11849551813516189 Valid Acc:73.80952380952381\n",
            "100% 84/84 [01:18<00:00,  1.08it/s, loss=0.047]\n",
            "Epoch 10/20 Loss:0.04716430845118815 Valid Acc:78.57142857142857\n",
            "100% 84/84 [01:16<00:00,  1.10it/s, loss=0.067]\n",
            "Epoch 11/20 Loss:0.06747649199643915 Valid Acc:85.71428571428571\n",
            "100% 84/84 [01:19<00:00,  1.05it/s, loss=0.068]\n",
            "Epoch 12/20 Loss:0.06804302046761482 Valid Acc:90.47619047619048\n",
            "100% 84/84 [01:18<00:00,  1.07it/s, loss=0.032]\n",
            "Epoch 13/20 Loss:0.03192827656156234 Valid Acc:83.33333333333333\n",
            "100% 84/84 [01:17<00:00,  1.09it/s, loss=0.024]\n",
            "Epoch 14/20 Loss:0.02402857294544533 Valid Acc:83.33333333333333\n",
            "100% 84/84 [01:15<00:00,  1.11it/s, loss=0.028]\n",
            "Epoch 15/20 Loss:0.028357615249920594 Valid Acc:83.33333333333333\n",
            "100% 84/84 [01:14<00:00,  1.13it/s, loss=0.039]\n",
            "Epoch 16/20 Loss:0.039102838452804246 Valid Acc:73.80952380952381\n",
            "100% 84/84 [01:17<00:00,  1.09it/s, loss=0.105]\n",
            "Epoch 17/20 Loss:0.10450447151742992 Valid Acc:83.33333333333333\n",
            "100% 84/84 [01:15<00:00,  1.11it/s, loss=0.099]\n",
            "Epoch 18/20 Loss:0.09895113743845113 Valid Acc:83.33333333333333\n",
            "100% 84/84 [01:17<00:00,  1.08it/s, loss=0.056]\n",
            "Epoch 19/20 Loss:0.05587495803870081 Valid Acc:76.19047619047619\n"
          ]
        }
      ],
      "source": [
        "!python /content/train.py --config_path /content/random_resnet.json\n",
        "#[73.80,76.19,69.04,71.42,69.04,78.57,83.33,73.80,83.33,73.80,78.57,85.71,90.47,83.33,83.33,83.33]"
      ]
    },
    {
      "cell_type": "code",
      "execution_count": null,
      "metadata": {
        "colab": {
          "base_uri": "https://localhost:8080/"
        },
        "id": "ohouD1Ud3XBN",
        "outputId": "67fcea05-ba09-4d7c-d25e-e91027dfc0c6"
      },
      "outputs": [
        {
          "data": {
            "text/plain": [
              "20"
            ]
          },
          "execution_count": 11,
          "metadata": {},
          "output_type": "execute_result"
        }
      ],
      "source": [
        "val_acc=[73.80,76.19,69.04,71.42,69.04,78.57,83.33,73.80,83.33,73.80,78.57,85.71,90.47,83.33,83.33,83.33,73.80,83.33,83.33,76.19]\n",
        "len(val_acc)"
      ]
    },
    {
      "cell_type": "code",
      "execution_count": null,
      "metadata": {
        "colab": {
          "base_uri": "https://localhost:8080/",
          "height": 337
        },
        "id": "cSMG0lUr-j_i",
        "outputId": "2d03e0b5-6ef4-4fe0-944d-02dffceb8fa8"
      },
      "outputs": [
        {
          "data": {
            "text/plain": [
              "<matplotlib.legend.Legend at 0x7f41dba9c490>"
            ]
          },
          "execution_count": 25,
          "metadata": {},
          "output_type": "execute_result"
        },
        {
          "data": {
            "image/png": "[encoded data removed]",
            "text/plain": [
              "<Figure size 720x360 with 1 Axes>"
            ]
          },
          "metadata": {},
          "output_type": "display_data"
        }
      ],
      "source": [
        "fig, ax = plt.subplots(figsize=(10,5))\n",
        "\n",
        "plt.plot(Epoch,val_acc)\n",
        "plt.legend(['val_acc'])"
      ]
    },
    {
      "cell_type": "code",
      "source": [
        "#lr=1e-5\n",
        "!python /content/train.py --config_path /content/random_resnet.json"
      ],
      "metadata": {
        "colab": {
          "base_uri": "https://localhost:8080/"
        },
        "id": "-roMlG53rh5g",
        "outputId": "ccbe5b4c-4edd-41f8-9c2d-0e424718990e"
      },
      "execution_count": 6,
      "outputs": [
        {
          "output_type": "stream",
          "name": "stdout",
          "text": [
            "100% 84/84 [01:20<00:00,  1.05it/s, loss=1.134]\n",
            "Epoch 0/20 Loss:1.1343898656112807 Valid Acc:66.66666666666667\n",
            "100% 84/84 [01:21<00:00,  1.03it/s, loss=0.580]\n",
            "Epoch 1/20 Loss:0.5797498227939719 Valid Acc:69.04761904761905\n",
            "100% 84/84 [01:18<00:00,  1.06it/s, loss=0.512]\n",
            "Epoch 2/20 Loss:0.5120657061537107 Valid Acc:76.19047619047619\n",
            "100% 84/84 [01:14<00:00,  1.12it/s, loss=0.418]\n",
            "Epoch 3/20 Loss:0.4176021428069189 Valid Acc:69.04761904761905\n",
            "100% 84/84 [01:14<00:00,  1.13it/s, loss=0.384]\n",
            "Epoch 4/20 Loss:0.38403831976687625 Valid Acc:71.42857142857143\n",
            "100% 84/84 [01:16<00:00,  1.10it/s, loss=0.334]\n",
            "Epoch 5/20 Loss:0.33380370848767815 Valid Acc:69.04761904761905\n",
            "100% 84/84 [01:14<00:00,  1.13it/s, loss=0.337]\n",
            "Epoch 6/20 Loss:0.33697876436192364 Valid Acc:71.42857142857143\n",
            "100% 84/84 [01:15<00:00,  1.12it/s, loss=0.290]\n",
            "Epoch 7/20 Loss:0.2899276791583924 Valid Acc:69.04761904761905\n",
            "100% 84/84 [01:14<00:00,  1.13it/s, loss=0.293]\n",
            "Epoch 8/20 Loss:0.2928679106712696 Valid Acc:76.19047619047619\n",
            "100% 84/84 [01:17<00:00,  1.09it/s, loss=0.274]\n",
            "Epoch 9/20 Loss:0.274274256590399 Valid Acc:78.57142857142857\n",
            "100% 84/84 [01:18<00:00,  1.07it/s, loss=0.274]\n",
            "Epoch 10/20 Loss:0.27430247424525167 Valid Acc:78.57142857142857\n",
            "100% 84/84 [01:16<00:00,  1.10it/s, loss=0.274]\n",
            "Epoch 11/20 Loss:0.27406796203216627 Valid Acc:76.19047619047619\n",
            "100% 84/84 [01:16<00:00,  1.10it/s, loss=0.194]\n",
            "Epoch 12/20 Loss:0.19361422186539995 Valid Acc:76.19047619047619\n",
            "100% 84/84 [01:16<00:00,  1.10it/s, loss=0.195]\n",
            "Epoch 13/20 Loss:0.19456889229782282 Valid Acc:80.95238095238095\n",
            "100% 84/84 [01:14<00:00,  1.13it/s, loss=0.212]\n",
            "Epoch 14/20 Loss:0.21193665467269188 Valid Acc:73.80952380952381\n",
            "100% 84/84 [01:12<00:00,  1.16it/s, loss=0.190]\n",
            "Epoch 15/20 Loss:0.19036839878563547 Valid Acc:83.33333333333333\n",
            "100% 84/84 [01:17<00:00,  1.08it/s, loss=0.180]\n",
            "Epoch 16/20 Loss:0.18007341271732002 Valid Acc:69.04761904761905\n",
            "100% 84/84 [01:16<00:00,  1.10it/s, loss=0.180]\n",
            "Epoch 17/20 Loss:0.1802038966035027 Valid Acc:80.95238095238095\n",
            "100% 84/84 [01:13<00:00,  1.15it/s, loss=0.187]\n",
            "Epoch 18/20 Loss:0.18732938631105103 Valid Acc:71.42857142857143\n",
            "100% 84/84 [01:14<00:00,  1.12it/s, loss=0.107]\n",
            "Epoch 19/20 Loss:0.1072761599207297 Valid Acc:78.57142857142857\n",
            "val_acc= [66.66666666666667, 69.04761904761905, 76.19047619047619, 69.04761904761905, 71.42857142857143, 69.04761904761905, 71.42857142857143, 69.04761904761905, 76.19047619047619, 78.57142857142857, 78.57142857142857, 76.19047619047619, 76.19047619047619, 80.95238095238095, 73.80952380952381, 83.33333333333333, 69.04761904761905, 80.95238095238095, 71.42857142857143, 78.57142857142857]\n"
          ]
        }
      ]
    },
    {
      "cell_type": "markdown",
      "metadata": {
        "id": "eKF5b76kkTAQ"
      },
      "source": [
        "###Pretrained"
      ]
    },
    {
      "cell_type": "code",
      "execution_count": null,
      "metadata": {
        "colab": {
          "base_uri": "https://localhost:8080/"
        },
        "id": "E4-DusQd59XW",
        "outputId": "e6aa633b-15b6-4468-9133-e65d7d7fd61e"
      },
      "outputs": [
        {
          "name": "stdout",
          "output_type": "stream",
          "text": [
            "Downloading: \"https://download.pytorch.org/models/resnet50-0676ba61.pth\" to /root/.cache/torch/hub/checkpoints/resnet50-0676ba61.pth\n",
            "100% 97.8M/97.8M [00:00<00:00, 153MB/s]\n",
            "100% 84/84 [01:13<00:00,  1.14it/s, loss=0.569]\n",
            "Epoch 0/20 Loss:0.5686742772924758 Valid Acc:83.33333333333333\n",
            "100% 84/84 [01:17<00:00,  1.08it/s, loss=0.281]\n",
            "Epoch 1/20 Loss:0.28079461133373634 Valid Acc:76.19047619047619\n",
            "100% 84/84 [01:13<00:00,  1.14it/s, loss=0.181]\n",
            "Epoch 2/20 Loss:0.18147596016171433 Valid Acc:88.0952380952381\n",
            "100% 84/84 [01:16<00:00,  1.09it/s, loss=0.151]\n",
            "Epoch 3/20 Loss:0.1510360849178618 Valid Acc:85.71428571428571\n",
            "100% 84/84 [01:14<00:00,  1.12it/s, loss=0.096]\n",
            "Epoch 4/20 Loss:0.09627104102401063 Valid Acc:90.47619047619048\n",
            "100% 84/84 [01:15<00:00,  1.11it/s, loss=0.055]\n",
            "Epoch 5/20 Loss:0.0549531704205687 Valid Acc:85.71428571428571\n",
            "100% 84/84 [01:13<00:00,  1.14it/s, loss=0.064]\n",
            "Epoch 6/20 Loss:0.0644221903431961 Valid Acc:90.47619047619048\n",
            "100% 84/84 [01:15<00:00,  1.11it/s, loss=0.037]\n",
            "Epoch 7/20 Loss:0.037408592710562516 Valid Acc:90.47619047619048\n",
            "100% 84/84 [01:13<00:00,  1.14it/s, loss=0.020]\n",
            "Epoch 8/20 Loss:0.019900454418911112 Valid Acc:88.0952380952381\n",
            "100% 84/84 [01:13<00:00,  1.14it/s, loss=0.013]\n",
            "Epoch 9/20 Loss:0.012568053373321337 Valid Acc:85.71428571428571\n",
            "100% 84/84 [01:11<00:00,  1.18it/s, loss=0.105]\n",
            "Epoch 10/20 Loss:0.10545224575409 Valid Acc:85.71428571428571\n",
            "100% 84/84 [01:15<00:00,  1.12it/s, loss=0.036]\n",
            "Epoch 11/20 Loss:0.036431805032840374 Valid Acc:76.19047619047619\n",
            "100% 84/84 [01:13<00:00,  1.15it/s, loss=0.040]\n",
            "Epoch 12/20 Loss:0.0404662704569914 Valid Acc:80.95238095238095\n",
            "100% 84/84 [01:16<00:00,  1.10it/s, loss=0.032]\n",
            "Epoch 13/20 Loss:0.03199535892053973 Valid Acc:78.57142857142857\n",
            "100% 84/84 [01:18<00:00,  1.07it/s, loss=0.069]\n",
            "Epoch 14/20 Loss:0.06920262779021868 Valid Acc:85.71428571428571\n",
            "100% 84/84 [01:16<00:00,  1.10it/s, loss=0.054]\n",
            "Epoch 15/20 Loss:0.05404312128181724 Valid Acc:80.95238095238095\n",
            "100% 84/84 [01:16<00:00,  1.10it/s, loss=0.009]\n",
            "Epoch 16/20 Loss:0.008739901470280961 Valid Acc:85.71428571428571\n",
            "100% 84/84 [01:16<00:00,  1.09it/s, loss=0.004]\n",
            "Epoch 17/20 Loss:0.0035704572513904644 Valid Acc:88.0952380952381\n",
            "100% 84/84 [01:16<00:00,  1.11it/s, loss=0.002]\n",
            "Epoch 18/20 Loss:0.002103386438431612 Valid Acc:88.0952380952381\n",
            "100% 84/84 [01:16<00:00,  1.11it/s, loss=0.007]\n",
            "Epoch 19/20 Loss:0.006979168106183698 Valid Acc:88.0952380952381\n"
          ]
        }
      ],
      "source": [
        "!python /content/train.py --config_path /content/Pretrained_resnet.json\n",
        "#[83.33,76.19,88.09,85.71,90.47,85.71,90.47,90.47,88.09,85.71,85.71,76.19,80.95,78.57]"
      ]
    },
    {
      "cell_type": "code",
      "execution_count": null,
      "metadata": {
        "colab": {
          "base_uri": "https://localhost:8080/"
        },
        "id": "GQJGdDDN4oSo",
        "outputId": "9004e7e4-9330-47ae-ed08-a65d3a6fe673"
      },
      "outputs": [
        {
          "data": {
            "text/plain": [
              "20"
            ]
          },
          "execution_count": 23,
          "metadata": {},
          "output_type": "execute_result"
        }
      ],
      "source": [
        "val_acc=[83.33,76.19,88.09,85.71,90.47,85.71,90.47,90.47,88.09,85.71,85.71,76.19,80.95,78.57,85.71,80.95,85.71,88.09,88.09,88.09]\n",
        "len(val_acc)"
      ]
    },
    {
      "cell_type": "code",
      "execution_count": null,
      "metadata": {
        "colab": {
          "base_uri": "https://localhost:8080/",
          "height": 337
        },
        "id": "0w8f_nlw-e5q",
        "outputId": "a065f5f7-dbf0-44f2-a279-bd06709ce2a5"
      },
      "outputs": [
        {
          "data": {
            "text/plain": [
              "<matplotlib.legend.Legend at 0x7f41dbb95fd0>"
            ]
          },
          "execution_count": 24,
          "metadata": {},
          "output_type": "execute_result"
        },
        {
          "data": {
            "image/png": "[encoded data removed]",
            "text/plain": [
              "<Figure size 720x360 with 1 Axes>"
            ]
          },
          "metadata": {},
          "output_type": "display_data"
        }
      ],
      "source": [
        "fig, ax = plt.subplots(figsize=(10,5))\n",
        "\n",
        "plt.plot(Epoch,val_acc)\n",
        "plt.legend(['val_acc'])"
      ]
    },
    {
      "cell_type": "code",
      "source": [
        "#lr=1e-5\n",
        "!python /content/train.py --config_path /content/Pretrained_resnet.json"
      ],
      "metadata": {
        "colab": {
          "base_uri": "https://localhost:8080/"
        },
        "id": "JiD0UnXg7tCx",
        "outputId": "d47a187a-4159-4c35-e2e2-e0fe3d48e02b"
      },
      "execution_count": 7,
      "outputs": [
        {
          "output_type": "stream",
          "name": "stdout",
          "text": [
            "Downloading: \"https://download.pytorch.org/models/resnet50-0676ba61.pth\" to /root/.cache/torch/hub/checkpoints/resnet50-0676ba61.pth\n",
            "100% 97.8M/97.8M [00:00<00:00, 177MB/s]\n",
            "100% 84/84 [01:16<00:00,  1.09it/s, loss=1.648]\n",
            "Epoch 0/20 Loss:1.6479083136433648 Valid Acc:69.04761904761905\n",
            "100% 84/84 [01:18<00:00,  1.07it/s, loss=0.766]\n",
            "Epoch 1/20 Loss:0.7663900646425429 Valid Acc:83.33333333333333\n",
            "100% 84/84 [01:16<00:00,  1.10it/s, loss=0.414]\n",
            "Epoch 2/20 Loss:0.41426640358709155 Valid Acc:85.71428571428571\n",
            "100% 84/84 [01:17<00:00,  1.08it/s, loss=0.274]\n",
            "Epoch 3/20 Loss:0.27350031469194663 Valid Acc:85.71428571428571\n",
            "100% 84/84 [01:18<00:00,  1.07it/s, loss=0.199]\n",
            "Epoch 4/20 Loss:0.1991617596442146 Valid Acc:85.71428571428571\n",
            "100% 84/84 [01:16<00:00,  1.10it/s, loss=0.183]\n",
            "Epoch 5/20 Loss:0.1829822538864045 Valid Acc:88.0952380952381\n",
            "100% 84/84 [01:15<00:00,  1.11it/s, loss=0.208]\n",
            "Epoch 6/20 Loss:0.20820074476346018 Valid Acc:85.71428571428571\n",
            "100% 84/84 [01:18<00:00,  1.07it/s, loss=0.191]\n",
            "Epoch 7/20 Loss:0.19083800976208987 Valid Acc:85.71428571428571\n",
            "100% 84/84 [01:17<00:00,  1.09it/s, loss=0.250]\n",
            "Epoch 8/20 Loss:0.249609291021313 Valid Acc:85.71428571428571\n",
            "100% 84/84 [01:16<00:00,  1.10it/s, loss=0.090]\n",
            "Epoch 9/20 Loss:0.09024846304341086 Valid Acc:83.33333333333333\n",
            "100% 84/84 [01:14<00:00,  1.13it/s, loss=0.133]\n",
            "Epoch 10/20 Loss:0.13261882025038912 Valid Acc:83.33333333333333\n",
            "100% 84/84 [01:17<00:00,  1.08it/s, loss=0.164]\n",
            "Epoch 11/20 Loss:0.1644589531490402 Valid Acc:83.33333333333333\n",
            "100% 84/84 [01:18<00:00,  1.08it/s, loss=0.088]\n",
            "Epoch 12/20 Loss:0.0884352081338875 Valid Acc:85.71428571428571\n",
            "100% 84/84 [01:14<00:00,  1.12it/s, loss=0.168]\n",
            "Epoch 13/20 Loss:0.16822712033865087 Valid Acc:83.33333333333333\n",
            "100% 84/84 [01:19<00:00,  1.06it/s, loss=0.115]\n",
            "Epoch 14/20 Loss:0.11459124381543093 Valid Acc:85.71428571428571\n",
            "100% 84/84 [01:15<00:00,  1.12it/s, loss=0.052]\n",
            "Epoch 15/20 Loss:0.05217290983446652 Valid Acc:83.33333333333333\n",
            "100% 84/84 [01:16<00:00,  1.10it/s, loss=0.086]\n",
            "Epoch 16/20 Loss:0.08612484259841342 Valid Acc:88.0952380952381\n",
            "100% 84/84 [01:16<00:00,  1.10it/s, loss=0.103]\n",
            "Epoch 17/20 Loss:0.10349967969869751 Valid Acc:83.33333333333333\n",
            "100% 84/84 [01:14<00:00,  1.12it/s, loss=0.057]\n",
            "Epoch 18/20 Loss:0.05724727903171221 Valid Acc:88.0952380952381\n",
            "100% 84/84 [01:15<00:00,  1.11it/s, loss=0.167]\n",
            "Epoch 19/20 Loss:0.1668495568834866 Valid Acc:88.0952380952381\n",
            "val_acc= [69.04761904761905, 83.33333333333333, 85.71428571428571, 85.71428571428571, 85.71428571428571, 88.0952380952381, 85.71428571428571, 85.71428571428571, 85.71428571428571, 83.33333333333333, 83.33333333333333, 83.33333333333333, 85.71428571428571, 83.33333333333333, 85.71428571428571, 83.33333333333333, 88.0952380952381, 83.33333333333333, 88.0952380952381, 88.0952380952381]\n"
          ]
        }
      ]
    },
    {
      "cell_type": "markdown",
      "metadata": {
        "id": "8bXfTiubkaHR"
      },
      "source": [
        "##Inception"
      ]
    },
    {
      "cell_type": "markdown",
      "metadata": {
        "id": "GCFtOVrCkgJ5"
      },
      "source": [
        "###Random"
      ]
    },
    {
      "cell_type": "code",
      "execution_count": null,
      "metadata": {
        "colab": {
          "base_uri": "https://localhost:8080/"
        },
        "id": "QD7m_57Z815G",
        "outputId": "f3771936-c559-430c-9033-c0822f8d5b62"
      },
      "outputs": [
        {
          "name": "stdout",
          "output_type": "stream",
          "text": [
            "/usr/local/lib/python3.7/dist-packages/torchvision/models/inception.py:83: FutureWarning: The default weight initialization of inception_v3 will be changed in future releases of torchvision. If you wish to keep the old behavior (which leads to long initialization times due to scipy/scipy#11299), please set init_weights=True.\n",
            "  ' due to scipy/scipy#11299), please set init_weights=True.', FutureWarning)\n",
            "100% 84/84 [01:17<00:00,  1.09it/s, loss=0.877]\n",
            "Epoch 0/20 Loss:0.8774094051193624 Valid Acc:76.19047619047619\n",
            "100% 84/84 [01:14<00:00,  1.13it/s, loss=0.399]\n",
            "Epoch 1/20 Loss:0.39917244717833544 Valid Acc:76.19047619047619\n",
            "100% 84/84 [01:14<00:00,  1.13it/s, loss=0.345]\n",
            "Epoch 2/20 Loss:0.34478039755707696 Valid Acc:85.71428571428571\n",
            "100% 84/84 [01:20<00:00,  1.04it/s, loss=0.343]\n",
            "Epoch 3/20 Loss:0.3426009215237129 Valid Acc:83.33333333333333\n",
            "100% 84/84 [01:18<00:00,  1.06it/s, loss=0.288]\n",
            "Epoch 4/20 Loss:0.28789407209981055 Valid Acc:78.57142857142857\n",
            "100% 84/84 [01:13<00:00,  1.14it/s, loss=0.259]\n",
            "Epoch 5/20 Loss:0.25867821443604216 Valid Acc:78.57142857142857\n",
            "100% 84/84 [01:14<00:00,  1.12it/s, loss=0.266]\n",
            "Epoch 6/20 Loss:0.26592531422197463 Valid Acc:80.95238095238095\n",
            "100% 84/84 [01:16<00:00,  1.10it/s, loss=0.258]\n",
            "Epoch 7/20 Loss:0.25840980524108526 Valid Acc:80.95238095238095\n",
            "100% 84/84 [01:17<00:00,  1.08it/s, loss=0.210]\n",
            "Epoch 8/20 Loss:0.20995196828707344 Valid Acc:83.33333333333333\n",
            "100% 84/84 [01:16<00:00,  1.10it/s, loss=0.294]\n",
            "Epoch 9/20 Loss:0.2937705511493342 Valid Acc:85.71428571428571\n",
            "100% 84/84 [01:14<00:00,  1.13it/s, loss=0.286]\n",
            "Epoch 10/20 Loss:0.2856679457195458 Valid Acc:73.80952380952381\n",
            "100% 84/84 [01:17<00:00,  1.08it/s, loss=0.157]\n",
            "Epoch 11/20 Loss:0.15748579039548835 Valid Acc:80.95238095238095\n",
            "100% 84/84 [01:16<00:00,  1.10it/s, loss=0.157]\n",
            "Epoch 12/20 Loss:0.15742911306110077 Valid Acc:80.95238095238095\n",
            "100% 84/84 [01:17<00:00,  1.09it/s, loss=0.275]\n",
            "Epoch 13/20 Loss:0.27543844232180464 Valid Acc:83.33333333333333\n",
            "100% 84/84 [01:18<00:00,  1.07it/s, loss=0.217]\n",
            "Epoch 14/20 Loss:0.21714772061178728 Valid Acc:73.80952380952381\n",
            "100% 84/84 [01:16<00:00,  1.10it/s, loss=0.203]\n",
            "Epoch 15/20 Loss:0.20289449489653288 Valid Acc:73.80952380952381\n",
            "100% 84/84 [01:19<00:00,  1.06it/s, loss=0.189]\n",
            "Epoch 16/20 Loss:0.18873730417856546 Valid Acc:80.95238095238095\n",
            "100% 84/84 [01:15<00:00,  1.11it/s, loss=0.121]\n",
            "Epoch 17/20 Loss:0.12090991334047257 Valid Acc:73.80952380952381\n",
            "100% 84/84 [01:18<00:00,  1.07it/s, loss=0.241]\n",
            "Epoch 18/20 Loss:0.24074416643720942 Valid Acc:85.71428571428571\n",
            "100% 84/84 [01:17<00:00,  1.08it/s, loss=0.146]\n",
            "Epoch 19/20 Loss:0.14579521322767028 Valid Acc:85.71428571428571\n"
          ]
        }
      ],
      "source": [
        "!python /content/train.py --config_path /content/random_inception.json\n",
        "#[76.19,76.19,85.71,83.33,78.57,78.57,80.95,80.95,83.33,85.71,73.80,80.95,80.95,]"
      ]
    },
    {
      "cell_type": "code",
      "execution_count": null,
      "metadata": {
        "colab": {
          "base_uri": "https://localhost:8080/"
        },
        "id": "6LIs-Znq6lhX",
        "outputId": "4fbf6c65-b40b-4610-f4d1-ae5b9552eaac"
      },
      "outputs": [
        {
          "data": {
            "text/plain": [
              "20"
            ]
          },
          "execution_count": 21,
          "metadata": {},
          "output_type": "execute_result"
        }
      ],
      "source": [
        "val_acc=[76.19,76.19,85.71,83.33,78.57,78.57,80.95,80.95,83.33,85.71,73.80,80.95,80.95,83.33,73.8,73.8,80.95,73.8,85.71,85.71]\n",
        "len(val_acc)"
      ]
    },
    {
      "cell_type": "code",
      "execution_count": null,
      "metadata": {
        "colab": {
          "base_uri": "https://localhost:8080/",
          "height": 337
        },
        "id": "sURteRhS-T1g",
        "outputId": "4989aade-d5d9-4fc8-d744-a7046b43e0d1"
      },
      "outputs": [
        {
          "data": {
            "text/plain": [
              "<matplotlib.legend.Legend at 0x7f41dbba1290>"
            ]
          },
          "execution_count": 22,
          "metadata": {},
          "output_type": "execute_result"
        },
        {
          "data": {
            "image/png": "[encoded data removed]",
            "text/plain": [
              "<Figure size 720x360 with 1 Axes>"
            ]
          },
          "metadata": {},
          "output_type": "display_data"
        }
      ],
      "source": [
        "fig, ax = plt.subplots(figsize=(10,5))\n",
        "\n",
        "plt.plot(Epoch,val_acc)\n",
        "plt.legend(['val_acc'])"
      ]
    },
    {
      "cell_type": "code",
      "source": [
        "#lr=1e-5\n",
        "!python /content/train.py --config_path /content/random_inception.json"
      ],
      "metadata": {
        "colab": {
          "base_uri": "https://localhost:8080/"
        },
        "id": "0kxjs6s3DZqe",
        "outputId": "5ce467b5-e87a-4d32-fc2b-21dbbdf3cc04"
      },
      "execution_count": 8,
      "outputs": [
        {
          "output_type": "stream",
          "name": "stdout",
          "text": [
            "/usr/local/lib/python3.7/dist-packages/torchvision/models/inception.py:83: FutureWarning: The default weight initialization of inception_v3 will be changed in future releases of torchvision. If you wish to keep the old behavior (which leads to long initialization times due to scipy/scipy#11299), please set init_weights=True.\n",
            "  ' due to scipy/scipy#11299), please set init_weights=True.', FutureWarning)\n",
            "100% 84/84 [01:14<00:00,  1.12it/s, loss=1.926]\n",
            "Epoch 0/20 Loss:1.9257173467250097 Valid Acc:47.61904761904762\n",
            "100% 84/84 [01:13<00:00,  1.14it/s, loss=1.374]\n",
            "Epoch 1/20 Loss:1.373543871300561 Valid Acc:59.523809523809526\n",
            "100% 84/84 [01:15<00:00,  1.11it/s, loss=1.010]\n",
            "Epoch 2/20 Loss:1.0099420703592754 Valid Acc:64.28571428571429\n",
            "100% 84/84 [01:16<00:00,  1.09it/s, loss=0.823]\n",
            "Epoch 3/20 Loss:0.8225650688012441 Valid Acc:71.42857142857143\n",
            "100% 84/84 [01:13<00:00,  1.14it/s, loss=0.692]\n",
            "Epoch 4/20 Loss:0.6917971734489713 Valid Acc:71.42857142857143\n",
            "100% 84/84 [01:15<00:00,  1.12it/s, loss=0.608]\n",
            "Epoch 5/20 Loss:0.6081406502496629 Valid Acc:71.42857142857143\n",
            "100% 84/84 [01:17<00:00,  1.08it/s, loss=0.550]\n",
            "Epoch 6/20 Loss:0.5500576755120641 Valid Acc:71.42857142857143\n",
            "100% 84/84 [01:14<00:00,  1.13it/s, loss=0.462]\n",
            "Epoch 7/20 Loss:0.46181512091841015 Valid Acc:73.80952380952381\n",
            "100% 84/84 [01:16<00:00,  1.09it/s, loss=0.445]\n",
            "Epoch 8/20 Loss:0.4453680490454038 Valid Acc:78.57142857142857\n",
            "100% 84/84 [01:17<00:00,  1.08it/s, loss=0.439]\n",
            "Epoch 9/20 Loss:0.43873937977921396 Valid Acc:73.80952380952381\n",
            "100% 84/84 [01:14<00:00,  1.13it/s, loss=0.418]\n",
            "Epoch 10/20 Loss:0.41782414061682566 Valid Acc:76.19047619047619\n",
            "100% 84/84 [01:15<00:00,  1.11it/s, loss=0.404]\n",
            "Epoch 11/20 Loss:0.4039117100515536 Valid Acc:76.19047619047619\n",
            "100% 84/84 [01:14<00:00,  1.13it/s, loss=0.358]\n",
            "Epoch 12/20 Loss:0.35824664912763093 Valid Acc:76.19047619047619\n",
            "100% 84/84 [01:13<00:00,  1.14it/s, loss=0.312]\n",
            "Epoch 13/20 Loss:0.3121632706551325 Valid Acc:73.80952380952381\n",
            "100% 84/84 [01:15<00:00,  1.11it/s, loss=0.395]\n",
            "Epoch 14/20 Loss:0.3946263777712981 Valid Acc:78.57142857142857\n",
            "100% 84/84 [01:17<00:00,  1.09it/s, loss=0.371]\n",
            "Epoch 15/20 Loss:0.37137522406521295 Valid Acc:78.57142857142857\n",
            "100% 84/84 [01:16<00:00,  1.10it/s, loss=0.326]\n",
            "Epoch 16/20 Loss:0.32623439619228956 Valid Acc:78.57142857142857\n",
            "100% 84/84 [01:16<00:00,  1.10it/s, loss=0.281]\n",
            "Epoch 17/20 Loss:0.2814935031125233 Valid Acc:76.19047619047619\n",
            "100% 84/84 [01:16<00:00,  1.10it/s, loss=0.265]\n",
            "Epoch 18/20 Loss:0.26521401164964553 Valid Acc:80.95238095238095\n",
            "100% 84/84 [01:18<00:00,  1.08it/s, loss=0.307]\n",
            "Epoch 19/20 Loss:0.30736805281291407 Valid Acc:78.57142857142857\n",
            "val_acc= [47.61904761904762, 59.523809523809526, 64.28571428571429, 71.42857142857143, 71.42857142857143, 71.42857142857143, 71.42857142857143, 73.80952380952381, 78.57142857142857, 73.80952380952381, 76.19047619047619, 76.19047619047619, 76.19047619047619, 73.80952380952381, 78.57142857142857, 78.57142857142857, 78.57142857142857, 76.19047619047619, 80.95238095238095, 78.57142857142857]\n"
          ]
        }
      ]
    },
    {
      "cell_type": "markdown",
      "metadata": {
        "id": "9FFojtoXklUg"
      },
      "source": [
        "###Pretrained"
      ]
    },
    {
      "cell_type": "code",
      "execution_count": null,
      "metadata": {
        "colab": {
          "base_uri": "https://localhost:8080/"
        },
        "id": "jBPQ9owb82Ou",
        "outputId": "e26fdaf2-3266-4d50-e3ec-7782907a6f75"
      },
      "outputs": [
        {
          "name": "stdout",
          "output_type": "stream",
          "text": [
            "100% 84/84 [01:19<00:00,  1.06it/s, loss=0.828]\n",
            "Epoch 0/20 Loss:0.8280370514839888 Valid Acc:88.0952380952381\n",
            "100% 84/84 [01:19<00:00,  1.05it/s, loss=0.299]\n",
            "Epoch 1/20 Loss:0.2994197599501127 Valid Acc:88.0952380952381\n",
            "100% 84/84 [01:16<00:00,  1.10it/s, loss=0.167]\n",
            "Epoch 2/20 Loss:0.16746170965156384 Valid Acc:92.85714285714286\n",
            "100% 84/84 [01:17<00:00,  1.08it/s, loss=0.171]\n",
            "Epoch 3/20 Loss:0.17091196181995438 Valid Acc:76.19047619047619\n",
            "100% 84/84 [01:16<00:00,  1.10it/s, loss=0.170]\n",
            "Epoch 4/20 Loss:0.17017426805215932 Valid Acc:80.95238095238095\n",
            "100% 84/84 [01:18<00:00,  1.07it/s, loss=0.123]\n",
            "Epoch 5/20 Loss:0.12335970234735646 Valid Acc:88.0952380952381\n",
            "100% 84/84 [01:20<00:00,  1.04it/s, loss=0.149]\n",
            "Epoch 6/20 Loss:0.1485633547196076 Valid Acc:83.33333333333333\n",
            "100% 84/84 [01:17<00:00,  1.09it/s, loss=0.144]\n",
            "Epoch 7/20 Loss:0.1440118643194659 Valid Acc:88.0952380952381\n",
            "100% 84/84 [01:16<00:00,  1.10it/s, loss=0.273]\n",
            "Epoch 8/20 Loss:0.27336830233356785 Valid Acc:92.85714285714286\n",
            "100% 84/84 [01:15<00:00,  1.12it/s, loss=0.143]\n",
            "Epoch 9/20 Loss:0.1432624913619033 Valid Acc:88.0952380952381\n",
            "100% 84/84 [01:15<00:00,  1.11it/s, loss=0.108]\n",
            "Epoch 10/20 Loss:0.10775174978992991 Valid Acc:90.47619047619048\n",
            "100% 84/84 [01:14<00:00,  1.13it/s, loss=0.111]\n",
            "Epoch 11/20 Loss:0.1106269054968531 Valid Acc:83.33333333333333\n",
            "100% 84/84 [01:17<00:00,  1.08it/s, loss=0.071]\n",
            "Epoch 12/20 Loss:0.07146501568370565 Valid Acc:88.0952380952381\n",
            "100% 84/84 [01:16<00:00,  1.10it/s, loss=0.079]\n",
            "Epoch 13/20 Loss:0.07873300435312558 Valid Acc:83.33333333333333\n",
            "100% 84/84 [01:17<00:00,  1.09it/s, loss=0.097]\n",
            "Epoch 14/20 Loss:0.09702737977550853 Valid Acc:78.57142857142857\n",
            "100% 84/84 [01:16<00:00,  1.10it/s, loss=0.052]\n",
            "Epoch 15/20 Loss:0.052287693180481994 Valid Acc:85.71428571428571\n",
            "100% 84/84 [01:20<00:00,  1.05it/s, loss=0.045]\n",
            "Epoch 16/20 Loss:0.04504572840406105 Valid Acc:83.33333333333333\n",
            "100% 84/84 [01:18<00:00,  1.07it/s, loss=0.021]\n",
            "Epoch 17/20 Loss:0.020877775455509045 Valid Acc:85.71428571428571\n",
            "100% 84/84 [01:16<00:00,  1.09it/s, loss=0.015]\n",
            "Epoch 18/20 Loss:0.015390274814264904 Valid Acc:90.47619047619048\n",
            "100% 84/84 [01:19<00:00,  1.06it/s, loss=0.027]\n",
            "Epoch 19/20 Loss:0.026521754319782348 Valid Acc:85.71428571428571\n"
          ]
        }
      ],
      "source": [
        "!python /content/train.py --config_path  /content/Pretrained_inception.json\n",
        "#[88.09,88.09,92.85,76.19,80.95,88.09,83.33,88.09,92.85,88.09,83.33,88.09,83.33,78.57,85.71,]"
      ]
    },
    {
      "cell_type": "code",
      "execution_count": null,
      "metadata": {
        "colab": {
          "base_uri": "https://localhost:8080/"
        },
        "id": "_r7VG1PT7-Gc",
        "outputId": "dbeed70d-38eb-4704-906a-1791fc028142"
      },
      "outputs": [
        {
          "name": "stdout",
          "output_type": "stream",
          "text": [
            "20\n"
          ]
        }
      ],
      "source": [
        "val_acc=[88.09,88.09,92.85,76.19,80.95,88.09,83.33,88.09,92.85,88.09,90.47,83.33,88.09,83.33,78.57,85.71,83.33,85.71,90.47,85.71]\n",
        "print(len(val_acc))\n",
        "Epoch=[0,1,2,3,4,5,6,7,8,9,10,11,12,13,14,15,16,17,18,19]"
      ]
    },
    {
      "cell_type": "code",
      "execution_count": null,
      "metadata": {
        "colab": {
          "base_uri": "https://localhost:8080/",
          "height": 337
        },
        "id": "qZeisZi48pep",
        "outputId": "5026c692-5422-49d8-e468-b0c91a62bac2"
      },
      "outputs": [
        {
          "data": {
            "text/plain": [
              "<matplotlib.legend.Legend at 0x7f41dbc1d6d0>"
            ]
          },
          "execution_count": 20,
          "metadata": {},
          "output_type": "execute_result"
        },
        {
          "data": {
            "image/png": "[encoded data removed]",
            "text/plain": [
              "<Figure size 720x360 with 1 Axes>"
            ]
          },
          "metadata": {},
          "output_type": "display_data"
        }
      ],
      "source": [
        "fig, ax = plt.subplots(figsize=(10,5))\n",
        "\n",
        "plt.plot(Epoch,val_acc)\n",
        "plt.legend(['val_acc'])"
      ]
    },
    {
      "cell_type": "code",
      "source": [
        "#lr=1e-5\n",
        "!python /content/train.py --config_path  /content/Pretrained_inception.json"
      ],
      "metadata": {
        "id": "gSArgPwnKtDi"
      },
      "execution_count": null,
      "outputs": []
    }
  ],
  "metadata": {
    "accelerator": "GPU",
    "colab": {
      "collapsed_sections": [],
      "name": "P7_02_02_New methode.ipynb",
      "provenance": [],
      "toc_visible": true,
      "mount_file_id": "1dHFZ3U6iNMvFBdEaLopegnLN9o3IsOI8",
      "authorship_tag": "ABX9TyOv4+65SBFLVha5nZR4UBXx",
      "include_colab_link": true
    },
    "kernelspec": {
      "display_name": "Python 3",
      "name": "python3"
    },
    "language_info": {
      "name": "python"
    }
  },
  "nbformat": 4,
  "nbformat_minor": 0
}