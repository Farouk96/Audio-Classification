{
  "cells": [
    {
      "cell_type": "markdown",
      "metadata": {
        "id": "view-in-github",
        "colab_type": "text"
      },
      "source": [
        "<a href=\"https://colab.research.google.com/github/Farouk96/Audio-Classification/blob/master/New_P7.ipynb\" target=\"_parent\"><img src=\"https://colab.research.google.com/assets/colab-badge.svg\" alt=\"Open In Colab\"/></a>"
      ]
    },
    {
      "cell_type": "code",
      "execution_count": 3,
      "metadata": {
        "id": "rUCIsvvMLtWi"
      },
      "outputs": [],
      "source": [
        "#!git clone https://github.com/Farouk96/Audio-Classification.git"
      ]
    },
    {
      "cell_type": "code",
      "execution_count": 4,
      "metadata": {
        "id": "x1Qeo69IL3-3"
      },
      "outputs": [],
      "source": [
        "import torch\n",
        "import torchvision\n",
        "import torch.nn as nn\n",
        "import numpy as np\n",
        "import json\n",
        "import utils\n",
        "import validate\n",
        "import argparse\n",
        "import densenet\n",
        "import resnet\n",
        "import inception\n",
        "import time\n",
        "import datasetaug\n",
        "import datasetnormal\n",
        "\n",
        "from tqdm import tqdm\n",
        "#from tensorboardX import SummaryWriter"
      ]
    },
    {
      "cell_type": "code",
      "execution_count": 5,
      "metadata": {
        "colab": {
          "base_uri": "https://localhost:8080/"
        },
        "id": "gs6DQDC3WNhJ",
        "outputId": "64aaec14-d05d-484d-d563-54ad4b220ab2"
      },
      "outputs": [
        {
          "output_type": "stream",
          "name": "stdout",
          "text": [
            "Collecting tensorboardX\n",
            "  Downloading tensorboardX-2.5-py2.py3-none-any.whl (125 kB)\n",
            "\u001b[?25l\r\u001b[K     |██▋                             | 10 kB 23.9 MB/s eta 0:00:01\r\u001b[K     |█████▎                          | 20 kB 8.6 MB/s eta 0:00:01\r\u001b[K     |███████▉                        | 30 kB 7.4 MB/s eta 0:00:01\r\u001b[K     |██████████▌                     | 40 kB 3.5 MB/s eta 0:00:01\r\u001b[K     |█████████████                   | 51 kB 3.6 MB/s eta 0:00:01\r\u001b[K     |███████████████▊                | 61 kB 4.3 MB/s eta 0:00:01\r\u001b[K     |██████████████████▎             | 71 kB 4.5 MB/s eta 0:00:01\r\u001b[K     |█████████████████████           | 81 kB 4.7 MB/s eta 0:00:01\r\u001b[K     |███████████████████████▌        | 92 kB 5.2 MB/s eta 0:00:01\r\u001b[K     |██████████████████████████▏     | 102 kB 4.2 MB/s eta 0:00:01\r\u001b[K     |████████████████████████████▊   | 112 kB 4.2 MB/s eta 0:00:01\r\u001b[K     |███████████████████████████████▍| 122 kB 4.2 MB/s eta 0:00:01\r\u001b[K     |████████████████████████████████| 125 kB 4.2 MB/s \n",
            "\u001b[?25hRequirement already satisfied: protobuf>=3.8.0 in /usr/local/lib/python3.7/dist-packages (from tensorboardX) (3.17.3)\n",
            "Requirement already satisfied: six in /usr/local/lib/python3.7/dist-packages (from tensorboardX) (1.15.0)\n",
            "Requirement already satisfied: numpy in /usr/local/lib/python3.7/dist-packages (from tensorboardX) (1.21.5)\n",
            "Installing collected packages: tensorboardX\n",
            "Successfully installed tensorboardX-2.5\n"
          ]
        }
      ],
      "source": [
        "!pip install tensorboardX"
      ]
    },
    {
      "cell_type": "code",
      "execution_count": 6,
      "metadata": {
        "id": "E4N9pVpYWYAS"
      },
      "outputs": [],
      "source": [
        "from tensorboardX import SummaryWriter"
      ]
    },
    {
      "cell_type": "code",
      "execution_count": null,
      "metadata": {
        "colab": {
          "base_uri": "https://localhost:8080/"
        },
        "id": "ajYZ3puQhLsv",
        "outputId": "ccadf534-4308-4087-a9d8-1b86e6ce1bc6"
      },
      "outputs": [
        {
          "output_type": "stream",
          "name": "stdout",
          "text": [
            "Finished audio {'name': '/content/drive/MyDrive/P07_ dog_cate_voice_classification/data/ cat_dogs/train/cat/cat_101.wav', 'class_idx': 0}\n",
            "Finished audio {'name': '/content/drive/MyDrive/P07_ dog_cate_voice_classification/data/ cat_dogs/train/cat/cat_107.wav', 'class_idx': 0}\n",
            "Finished audio {'name': '/content/drive/MyDrive/P07_ dog_cate_voice_classification/data/ cat_dogs/train/cat/cat_105.wav', 'class_idx': 0}\n",
            "Finished audio {'name': '/content/drive/MyDrive/P07_ dog_cate_voice_classification/data/ cat_dogs/train/cat/cat_141.wav', 'class_idx': 0}\n",
            "Finished audio {'name': '/content/drive/MyDrive/P07_ dog_cate_voice_classification/data/ cat_dogs/train/cat/cat_121.wav', 'class_idx': 0}\n",
            "Finished audio {'name': '/content/drive/MyDrive/P07_ dog_cate_voice_classification/data/ cat_dogs/train/cat/cat_122.wav', 'class_idx': 0}\n",
            "Finished audio {'name': '/content/drive/MyDrive/P07_ dog_cate_voice_classification/data/ cat_dogs/train/cat/cat_134.wav', 'class_idx': 0}\n",
            "Finished audio {'name': '/content/drive/MyDrive/P07_ dog_cate_voice_classification/data/ cat_dogs/train/cat/cat_100.wav', 'class_idx': 0}\n",
            "Finished audio {'name': '/content/drive/MyDrive/P07_ dog_cate_voice_classification/data/ cat_dogs/train/cat/cat_138.wav', 'class_idx': 0}\n",
            "Finished audio {'name': '/content/drive/MyDrive/P07_ dog_cate_voice_classification/data/ cat_dogs/train/cat/cat_142.wav', 'class_idx': 0}\n",
            "Finished audio {'name': '/content/drive/MyDrive/P07_ dog_cate_voice_classification/data/ cat_dogs/train/cat/cat_124.wav', 'class_idx': 0}\n",
            "Finished audio {'name': '/content/drive/MyDrive/P07_ dog_cate_voice_classification/data/ cat_dogs/train/cat/cat_113.wav', 'class_idx': 0}\n",
            "Finished audio {'name': '/content/drive/MyDrive/P07_ dog_cate_voice_classification/data/ cat_dogs/train/cat/cat_102.wav', 'class_idx': 0}\n",
            "Finished audio {'name': '/content/drive/MyDrive/P07_ dog_cate_voice_classification/data/ cat_dogs/train/cat/cat_146.wav', 'class_idx': 0}\n",
            "Finished audio {'name': '/content/drive/MyDrive/P07_ dog_cate_voice_classification/data/ cat_dogs/train/cat/cat_114.wav', 'class_idx': 0}\n",
            "Finished audio {'name': '/content/drive/MyDrive/P07_ dog_cate_voice_classification/data/ cat_dogs/train/cat/cat_119.wav', 'class_idx': 0}\n",
            "Finished audio {'name': '/content/drive/MyDrive/P07_ dog_cate_voice_classification/data/ cat_dogs/train/cat/cat_132.wav', 'class_idx': 0}\n",
            "Finished audio {'name': '/content/drive/MyDrive/P07_ dog_cate_voice_classification/data/ cat_dogs/train/cat/cat_103.wav', 'class_idx': 0}\n",
            "Finished audio {'name': '/content/drive/MyDrive/P07_ dog_cate_voice_classification/data/ cat_dogs/train/cat/cat_125.wav', 'class_idx': 0}\n",
            "Finished audio {'name': '/content/drive/MyDrive/P07_ dog_cate_voice_classification/data/ cat_dogs/train/cat/cat_117.wav', 'class_idx': 0}\n",
            "Finished audio {'name': '/content/drive/MyDrive/P07_ dog_cate_voice_classification/data/ cat_dogs/train/cat/cat_136.wav', 'class_idx': 0}\n",
            "Finished audio {'name': '/content/drive/MyDrive/P07_ dog_cate_voice_classification/data/ cat_dogs/train/cat/cat_128.wav', 'class_idx': 0}\n",
            "Finished audio {'name': '/content/drive/MyDrive/P07_ dog_cate_voice_classification/data/ cat_dogs/train/cat/cat_106.wav', 'class_idx': 0}\n",
            "Finished audio {'name': '/content/drive/MyDrive/P07_ dog_cate_voice_classification/data/ cat_dogs/train/cat/cat_140.wav', 'class_idx': 0}\n",
            "Finished audio {'name': '/content/drive/MyDrive/P07_ dog_cate_voice_classification/data/ cat_dogs/train/cat/cat_116.wav', 'class_idx': 0}\n",
            "Finished audio {'name': '/content/drive/MyDrive/P07_ dog_cate_voice_classification/data/ cat_dogs/train/cat/cat_118.wav', 'class_idx': 0}\n",
            "Finished audio {'name': '/content/drive/MyDrive/P07_ dog_cate_voice_classification/data/ cat_dogs/train/cat/cat_123.wav', 'class_idx': 0}\n",
            "Finished audio {'name': '/content/drive/MyDrive/P07_ dog_cate_voice_classification/data/ cat_dogs/train/cat/cat_108.wav', 'class_idx': 0}\n",
            "Finished audio {'name': '/content/drive/MyDrive/P07_ dog_cate_voice_classification/data/ cat_dogs/train/cat/cat_131.wav', 'class_idx': 0}\n",
            "Finished audio {'name': '/content/drive/MyDrive/P07_ dog_cate_voice_classification/data/ cat_dogs/train/cat/cat_109.wav', 'class_idx': 0}\n",
            "Finished audio {'name': '/content/drive/MyDrive/P07_ dog_cate_voice_classification/data/ cat_dogs/train/cat/cat_127.wav', 'class_idx': 0}\n",
            "Finished audio {'name': '/content/drive/MyDrive/P07_ dog_cate_voice_classification/data/ cat_dogs/train/cat/cat_147.wav', 'class_idx': 0}\n",
            "Finished audio {'name': '/content/drive/MyDrive/P07_ dog_cate_voice_classification/data/ cat_dogs/train/cat/cat_139.wav', 'class_idx': 0}\n",
            "Finished audio {'name': '/content/drive/MyDrive/P07_ dog_cate_voice_classification/data/ cat_dogs/train/cat/cat_120.wav', 'class_idx': 0}\n",
            "Finished audio {'name': '/content/drive/MyDrive/P07_ dog_cate_voice_classification/data/ cat_dogs/train/cat/cat_154.wav', 'class_idx': 0}\n",
            "Finished audio {'name': '/content/drive/MyDrive/P07_ dog_cate_voice_classification/data/ cat_dogs/train/cat/cat_163.wav', 'class_idx': 0}\n",
            "Finished audio {'name': '/content/drive/MyDrive/P07_ dog_cate_voice_classification/data/ cat_dogs/train/cat/cat_69.wav', 'class_idx': 0}\n",
            "Finished audio {'name': '/content/drive/MyDrive/P07_ dog_cate_voice_classification/data/ cat_dogs/train/cat/cat_72.wav', 'class_idx': 0}\n",
            "Finished audio {'name': '/content/drive/MyDrive/P07_ dog_cate_voice_classification/data/ cat_dogs/train/cat/cat_150.wav', 'class_idx': 0}\n",
            "Finished audio {'name': '/content/drive/MyDrive/P07_ dog_cate_voice_classification/data/ cat_dogs/train/cat/cat_161.wav', 'class_idx': 0}\n",
            "Finished audio {'name': '/content/drive/MyDrive/P07_ dog_cate_voice_classification/data/ cat_dogs/train/cat/cat_160.wav', 'class_idx': 0}\n",
            "Finished audio {'name': '/content/drive/MyDrive/P07_ dog_cate_voice_classification/data/ cat_dogs/train/cat/cat_157.wav', 'class_idx': 0}\n",
            "Finished audio {'name': '/content/drive/MyDrive/P07_ dog_cate_voice_classification/data/ cat_dogs/train/cat/cat_54.wav', 'class_idx': 0}\n",
            "Finished audio {'name': '/content/drive/MyDrive/P07_ dog_cate_voice_classification/data/ cat_dogs/train/cat/cat_78.wav', 'class_idx': 0}\n",
            "Finished audio {'name': '/content/drive/MyDrive/P07_ dog_cate_voice_classification/data/ cat_dogs/train/cat/cat_65.wav', 'class_idx': 0}\n",
            "Finished audio {'name': '/content/drive/MyDrive/P07_ dog_cate_voice_classification/data/ cat_dogs/train/cat/cat_166.wav', 'class_idx': 0}\n",
            "Finished audio {'name': '/content/drive/MyDrive/P07_ dog_cate_voice_classification/data/ cat_dogs/train/cat/cat_162.wav', 'class_idx': 0}\n",
            "Finished audio {'name': '/content/drive/MyDrive/P07_ dog_cate_voice_classification/data/ cat_dogs/train/cat/cat_77.wav', 'class_idx': 0}\n",
            "Finished audio {'name': '/content/drive/MyDrive/P07_ dog_cate_voice_classification/data/ cat_dogs/train/cat/cat_60.wav', 'class_idx': 0}\n",
            "Finished audio {'name': '/content/drive/MyDrive/P07_ dog_cate_voice_classification/data/ cat_dogs/train/cat/cat_156.wav', 'class_idx': 0}\n",
            "Finished audio {'name': '/content/drive/MyDrive/P07_ dog_cate_voice_classification/data/ cat_dogs/train/cat/cat_153.wav', 'class_idx': 0}\n",
            "Finished audio {'name': '/content/drive/MyDrive/P07_ dog_cate_voice_classification/data/ cat_dogs/train/cat/cat_151.wav', 'class_idx': 0}\n",
            "Finished audio {'name': '/content/drive/MyDrive/P07_ dog_cate_voice_classification/data/ cat_dogs/train/cat/cat_50.wav', 'class_idx': 0}\n",
            "Finished audio {'name': '/content/drive/MyDrive/P07_ dog_cate_voice_classification/data/ cat_dogs/train/cat/cat_74.wav', 'class_idx': 0}\n",
            "Finished audio {'name': '/content/drive/MyDrive/P07_ dog_cate_voice_classification/data/ cat_dogs/train/cat/cat_70.wav', 'class_idx': 0}\n",
            "Finished audio {'name': '/content/drive/MyDrive/P07_ dog_cate_voice_classification/data/ cat_dogs/train/cat/cat_64.wav', 'class_idx': 0}\n",
            "Finished audio {'name': '/content/drive/MyDrive/P07_ dog_cate_voice_classification/data/ cat_dogs/train/cat/cat_159.wav', 'class_idx': 0}\n",
            "Finished audio {'name': '/content/drive/MyDrive/P07_ dog_cate_voice_classification/data/ cat_dogs/train/cat/cat_71.wav', 'class_idx': 0}\n",
            "Finished audio {'name': '/content/drive/MyDrive/P07_ dog_cate_voice_classification/data/ cat_dogs/train/cat/cat_73.wav', 'class_idx': 0}\n",
            "Finished audio {'name': '/content/drive/MyDrive/P07_ dog_cate_voice_classification/data/ cat_dogs/train/cat/cat_68.wav', 'class_idx': 0}\n",
            "Finished audio {'name': '/content/drive/MyDrive/P07_ dog_cate_voice_classification/data/ cat_dogs/train/cat/cat_165.wav', 'class_idx': 0}\n",
            "Finished audio {'name': '/content/drive/MyDrive/P07_ dog_cate_voice_classification/data/ cat_dogs/train/cat/cat_167.wav', 'class_idx': 0}\n",
            "Finished audio {'name': '/content/drive/MyDrive/P07_ dog_cate_voice_classification/data/ cat_dogs/train/cat/cat_155.wav', 'class_idx': 0}\n",
            "Finished audio {'name': '/content/drive/MyDrive/P07_ dog_cate_voice_classification/data/ cat_dogs/train/cat/cat_164.wav', 'class_idx': 0}\n",
            "Finished audio {'name': '/content/drive/MyDrive/P07_ dog_cate_voice_classification/data/ cat_dogs/train/cat/cat_53.wav', 'class_idx': 0}\n",
            "Finished audio {'name': '/content/drive/MyDrive/P07_ dog_cate_voice_classification/data/ cat_dogs/train/cat/cat_63.wav', 'class_idx': 0}\n",
            "Finished audio {'name': '/content/drive/MyDrive/P07_ dog_cate_voice_classification/data/ cat_dogs/train/cat/cat_52.wav', 'class_idx': 0}\n",
            "Finished audio {'name': '/content/drive/MyDrive/P07_ dog_cate_voice_classification/data/ cat_dogs/train/cat/cat_149.wav', 'class_idx': 0}\n",
            "Finished audio {'name': '/content/drive/MyDrive/P07_ dog_cate_voice_classification/data/ cat_dogs/train/dog/dog_barking_6.wav', 'class_idx': 1}\n",
            "Finished audio {'name': '/content/drive/MyDrive/P07_ dog_cate_voice_classification/data/ cat_dogs/train/dog/dog_barking_32.wav', 'class_idx': 1}\n",
            "Finished audio {'name': '/content/drive/MyDrive/P07_ dog_cate_voice_classification/data/ cat_dogs/train/dog/dog_barking_47.wav', 'class_idx': 1}\n",
            "Finished audio {'name': '/content/drive/MyDrive/P07_ dog_cate_voice_classification/data/ cat_dogs/train/dog/dog_barking_88.wav', 'class_idx': 1}\n",
            "Finished audio {'name': '/content/drive/MyDrive/P07_ dog_cate_voice_classification/data/ cat_dogs/train/dog/dog_barking_110.wav', 'class_idx': 1}\n",
            "Finished audio {'name': '/content/drive/MyDrive/P07_ dog_cate_voice_classification/data/ cat_dogs/train/dog/dog_barking_58.wav', 'class_idx': 1}\n",
            "Finished audio {'name': '/content/drive/MyDrive/P07_ dog_cate_voice_classification/data/ cat_dogs/train/dog/dog_barking_28.wav', 'class_idx': 1}\n",
            "Finished audio {'name': '/content/drive/MyDrive/P07_ dog_cate_voice_classification/data/ cat_dogs/train/dog/dog_barking_29.wav', 'class_idx': 1}\n",
            "Finished audio {'name': '/content/drive/MyDrive/P07_ dog_cate_voice_classification/data/ cat_dogs/train/dog/dog_barking_21.wav', 'class_idx': 1}\n",
            "Finished audio {'name': '/content/drive/MyDrive/P07_ dog_cate_voice_classification/data/ cat_dogs/train/dog/dog_barking_101.wav', 'class_idx': 1}\n",
            "Finished audio {'name': '/content/drive/MyDrive/P07_ dog_cate_voice_classification/data/ cat_dogs/train/dog/dog_barking_56.wav', 'class_idx': 1}\n",
            "Finished audio {'name': '/content/drive/MyDrive/P07_ dog_cate_voice_classification/data/ cat_dogs/train/dog/dog_barking_25.wav', 'class_idx': 1}\n",
            "Finished audio {'name': '/content/drive/MyDrive/P07_ dog_cate_voice_classification/data/ cat_dogs/train/dog/dog_barking_79.wav', 'class_idx': 1}\n",
            "Finished audio {'name': '/content/drive/MyDrive/P07_ dog_cate_voice_classification/data/ cat_dogs/train/dog/dog_barking_36.wav', 'class_idx': 1}\n",
            "Finished audio {'name': '/content/drive/MyDrive/P07_ dog_cate_voice_classification/data/ cat_dogs/train/dog/dog_barking_41.wav', 'class_idx': 1}\n",
            "Finished audio {'name': '/content/drive/MyDrive/P07_ dog_cate_voice_classification/data/ cat_dogs/train/dog/dog_barking_67.wav', 'class_idx': 1}\n",
            "Finished audio {'name': '/content/drive/MyDrive/P07_ dog_cate_voice_classification/data/ cat_dogs/train/dog/dog_barking_11.wav', 'class_idx': 1}\n",
            "Finished audio {'name': '/content/drive/MyDrive/P07_ dog_cate_voice_classification/data/ cat_dogs/train/dog/dog_barking_52.wav', 'class_idx': 1}\n",
            "Finished audio {'name': '/content/drive/MyDrive/P07_ dog_cate_voice_classification/data/ cat_dogs/train/dog/dog_barking_86.wav', 'class_idx': 1}\n",
            "Finished audio {'name': '/content/drive/MyDrive/P07_ dog_cate_voice_classification/data/ cat_dogs/train/dog/dog_barking_72.wav', 'class_idx': 1}\n",
            "Finished audio {'name': '/content/drive/MyDrive/P07_ dog_cate_voice_classification/data/ cat_dogs/train/dog/dog_barking_65.wav', 'class_idx': 1}\n",
            "Finished audio {'name': '/content/drive/MyDrive/P07_ dog_cate_voice_classification/data/ cat_dogs/train/dog/dog_barking_55.wav', 'class_idx': 1}\n",
            "Finished audio {'name': '/content/drive/MyDrive/P07_ dog_cate_voice_classification/data/ cat_dogs/train/dog/dog_barking_87.wav', 'class_idx': 1}\n",
            "Finished audio {'name': '/content/drive/MyDrive/P07_ dog_cate_voice_classification/data/ cat_dogs/train/dog/dog_barking_85.wav', 'class_idx': 1}\n",
            "Finished audio {'name': '/content/drive/MyDrive/P07_ dog_cate_voice_classification/data/ cat_dogs/train/dog/dog_barking_2.wav', 'class_idx': 1}\n",
            "Finished audio {'name': '/content/drive/MyDrive/P07_ dog_cate_voice_classification/data/ cat_dogs/train/dog/dog_barking_97.wav', 'class_idx': 1}\n",
            "Finished audio {'name': '/content/drive/MyDrive/P07_ dog_cate_voice_classification/data/ cat_dogs/train/dog/dog_barking_51.wav', 'class_idx': 1}\n",
            "Finished audio {'name': '/content/drive/MyDrive/P07_ dog_cate_voice_classification/data/ cat_dogs/train/dog/dog_barking_37.wav', 'class_idx': 1}\n",
            "Finished audio {'name': '/content/drive/MyDrive/P07_ dog_cate_voice_classification/data/ cat_dogs/train/dog/dog_barking_20.wav', 'class_idx': 1}\n",
            "Finished audio {'name': '/content/drive/MyDrive/P07_ dog_cate_voice_classification/data/ cat_dogs/train/dog/dog_barking_63.wav', 'class_idx': 1}\n",
            "Finished audio {'name': '/content/drive/MyDrive/P07_ dog_cate_voice_classification/data/ cat_dogs/train/dog/dog_barking_103.wav', 'class_idx': 1}\n",
            "Finished audio {'name': '/content/drive/MyDrive/P07_ dog_cate_voice_classification/data/ cat_dogs/train/dog/dog_barking_53.wav', 'class_idx': 1}\n",
            "Finished audio {'name': '/content/drive/MyDrive/P07_ dog_cate_voice_classification/data/ cat_dogs/train/dog/dog_barking_81.wav', 'class_idx': 1}\n",
            "Finished audio {'name': '/content/drive/MyDrive/P07_ dog_cate_voice_classification/data/ cat_dogs/train/dog/dog_barking_95.wav', 'class_idx': 1}\n",
            "Finished audio {'name': '/content/drive/MyDrive/P07_ dog_cate_voice_classification/data/ cat_dogs/train/dog/dog_barking_105.wav', 'class_idx': 1}\n",
            "Finished audio {'name': '/content/drive/MyDrive/P07_ dog_cate_voice_classification/data/ cat_dogs/train/dog/dog_barking_5.wav', 'class_idx': 1}\n",
            "Finished audio {'name': '/content/drive/MyDrive/P07_ dog_cate_voice_classification/data/ cat_dogs/train/dog/dog_barking_70.wav', 'class_idx': 1}\n",
            "Finished audio {'name': '/content/drive/MyDrive/P07_ dog_cate_voice_classification/data/ cat_dogs/train/dog/dog_barking_31.wav', 'class_idx': 1}\n",
            "Finished audio {'name': '/content/drive/MyDrive/P07_ dog_cate_voice_classification/data/ cat_dogs/train/dog/dog_barking_93.wav', 'class_idx': 1}\n",
            "Finished audio {'name': '/content/drive/MyDrive/P07_ dog_cate_voice_classification/data/ cat_dogs/train/dog/dog_barking_23.wav', 'class_idx': 1}\n",
            "Finished audio {'name': '/content/drive/MyDrive/P07_ dog_cate_voice_classification/data/ cat_dogs/train/dog/dog_barking_76.wav', 'class_idx': 1}\n",
            "Finished audio {'name': '/content/drive/MyDrive/P07_ dog_cate_voice_classification/data/ cat_dogs/train/dog/dog_barking_71.wav', 'class_idx': 1}\n",
            "Finished audio {'name': '/content/drive/MyDrive/P07_ dog_cate_voice_classification/data/ cat_dogs/train/dog/dog_barking_0.wav', 'class_idx': 1}\n",
            "Finished audio {'name': '/content/drive/MyDrive/P07_ dog_cate_voice_classification/data/ cat_dogs/train/dog/dog_barking_38.wav', 'class_idx': 1}\n",
            "Finished audio {'name': '/content/drive/MyDrive/P07_ dog_cate_voice_classification/data/ cat_dogs/train/dog/dog_barking_35.wav', 'class_idx': 1}\n",
            "Finished audio {'name': '/content/drive/MyDrive/P07_ dog_cate_voice_classification/data/ cat_dogs/train/dog/dog_barking_16.wav', 'class_idx': 1}\n",
            "Finished audio {'name': '/content/drive/MyDrive/P07_ dog_cate_voice_classification/data/ cat_dogs/train/dog/dog_barking_14.wav', 'class_idx': 1}\n",
            "Finished audio {'name': '/content/drive/MyDrive/P07_ dog_cate_voice_classification/data/ cat_dogs/train/dog/dog_barking_74.wav', 'class_idx': 1}\n",
            "Finished audio {'name': '/content/drive/MyDrive/P07_ dog_cate_voice_classification/data/ cat_dogs/train/dog/dog_barking_80.wav', 'class_idx': 1}\n",
            "Finished audio {'name': '/content/drive/MyDrive/P07_ dog_cate_voice_classification/data/ cat_dogs/train/dog/dog_barking_92.wav', 'class_idx': 1}\n",
            "Finished audio {'name': '/content/drive/MyDrive/P07_ dog_cate_voice_classification/data/ cat_dogs/train/dog/dog_barking_57.wav', 'class_idx': 1}\n",
            "Finished audio {'name': '/content/drive/MyDrive/P07_ dog_cate_voice_classification/data/ cat_dogs/train/dog/dog_barking_104.wav', 'class_idx': 1}\n",
            "Finished audio {'name': '/content/drive/MyDrive/P07_ dog_cate_voice_classification/data/ cat_dogs/train/dog/dog_barking_4.wav', 'class_idx': 1}\n",
            "Finished audio {'name': '/content/drive/MyDrive/P07_ dog_cate_voice_classification/data/ cat_dogs/train/dog/dog_barking_68.wav', 'class_idx': 1}\n",
            "Finished audio {'name': '/content/drive/MyDrive/P07_ dog_cate_voice_classification/data/ cat_dogs/train/dog/dog_barking_106.wav', 'class_idx': 1}\n",
            "Finished audio {'name': '/content/drive/MyDrive/P07_ dog_cate_voice_classification/data/ cat_dogs/train/dog/dog_barking_50.wav', 'class_idx': 1}\n",
            "Finished audio {'name': '/content/drive/MyDrive/P07_ dog_cate_voice_classification/data/ cat_dogs/train/dog/dog_barking_96.wav', 'class_idx': 1}\n",
            "Finished audio {'name': '/content/drive/MyDrive/P07_ dog_cate_voice_classification/data/ cat_dogs/train/dog/dog_barking_83.wav', 'class_idx': 1}\n",
            "Finished audio {'name': '/content/drive/MyDrive/P07_ dog_cate_voice_classification/data/ cat_dogs/train/dog/dog_barking_40.wav', 'class_idx': 1}\n",
            "Finished audio {'name': '/content/drive/MyDrive/P07_ dog_cate_voice_classification/data/ cat_dogs/train/dog/dog_barking_61.wav', 'class_idx': 1}\n",
            "Finished audio {'name': '/content/drive/MyDrive/P07_ dog_cate_voice_classification/data/ cat_dogs/train/dog/dog_barking_17.wav', 'class_idx': 1}\n",
            "Finished audio {'name': '/content/drive/MyDrive/P07_ dog_cate_voice_classification/data/ cat_dogs/train/dog/dog_barking_60.wav', 'class_idx': 1}\n",
            "Finished audio {'name': '/content/drive/MyDrive/P07_ dog_cate_voice_classification/data/ cat_dogs/train/dog/dog_barking_13.wav', 'class_idx': 1}\n",
            "Finished audio {'name': '/content/drive/MyDrive/P07_ dog_cate_voice_classification/data/ cat_dogs/train/dog/dog_barking_111.wav', 'class_idx': 1}\n",
            "Finished audio {'name': '/content/drive/MyDrive/P07_ dog_cate_voice_classification/data/ cat_dogs/train/dog/dog_barking_22.wav', 'class_idx': 1}\n",
            "Finished audio {'name': '/content/drive/MyDrive/P07_ dog_cate_voice_classification/data/ cat_dogs/train/dog/dog_barking_42.wav', 'class_idx': 1}\n",
            "Finished audio {'name': '/content/drive/MyDrive/P07_ dog_cate_voice_classification/data/ cat_dogs/train/dog/dog_barking_77.wav', 'class_idx': 1}\n",
            "Finished audio {'name': '/content/drive/MyDrive/P07_ dog_cate_voice_classification/data/ cat_dogs/train/dog/dog_barking_75.wav', 'class_idx': 1}\n",
            "Finished audio {'name': '/content/drive/MyDrive/P07_ dog_cate_voice_classification/data/ cat_dogs/train/cat/cat_51.wav', 'class_idx': 0}\n",
            "Finished audio {'name': '/content/drive/MyDrive/P07_ dog_cate_voice_classification/data/ cat_dogs/train/cat/cat_62.wav', 'class_idx': 0}\n",
            "Finished audio {'name': '/content/drive/MyDrive/P07_ dog_cate_voice_classification/data/ cat_dogs/train/cat/cat_95.wav', 'class_idx': 0}\n",
            "Finished audio {'name': '/content/drive/MyDrive/P07_ dog_cate_voice_classification/data/ cat_dogs/train/cat/cat_80.wav', 'class_idx': 0}\n",
            "Finished audio {'name': '/content/drive/MyDrive/P07_ dog_cate_voice_classification/data/ cat_dogs/train/cat/cat_96.wav', 'class_idx': 0}\n",
            "Finished audio {'name': '/content/drive/MyDrive/P07_ dog_cate_voice_classification/data/ cat_dogs/train/cat/cat_99.wav', 'class_idx': 0}\n",
            "Finished audio {'name': '/content/drive/MyDrive/P07_ dog_cate_voice_classification/data/ cat_dogs/train/cat/cat_94.wav', 'class_idx': 0}\n",
            "Finished audio {'name': '/content/drive/MyDrive/P07_ dog_cate_voice_classification/data/ cat_dogs/train/cat/cat_91.wav', 'class_idx': 0}\n",
            "Finished audio {'name': '/content/drive/MyDrive/P07_ dog_cate_voice_classification/data/ cat_dogs/train/cat/cat_87.wav', 'class_idx': 0}\n",
            "Finished audio {'name': '/content/drive/MyDrive/P07_ dog_cate_voice_classification/data/ cat_dogs/train/cat/cat_81.wav', 'class_idx': 0}\n",
            "Finished audio {'name': '/content/drive/MyDrive/P07_ dog_cate_voice_classification/data/ cat_dogs/train/cat/cat_97.wav', 'class_idx': 0}\n",
            "Finished audio {'name': '/content/drive/MyDrive/P07_ dog_cate_voice_classification/data/ cat_dogs/train/cat/cat_93.wav', 'class_idx': 0}\n",
            "Finished audio {'name': '/content/drive/MyDrive/P07_ dog_cate_voice_classification/data/ cat_dogs/train/cat/cat_83.wav', 'class_idx': 0}\n",
            "Finished audio {'name': '/content/drive/MyDrive/P07_ dog_cate_voice_classification/data/ cat_dogs/train/cat/cat_84.wav', 'class_idx': 0}\n",
            "Finished audio {'name': '/content/drive/MyDrive/P07_ dog_cate_voice_classification/data/ cat_dogs/train/cat/cat_92.wav', 'class_idx': 0}\n",
            "Finished audio {'name': '/content/drive/MyDrive/P07_ dog_cate_voice_classification/data/ cat_dogs/train/cat/cat_98.wav', 'class_idx': 0}\n",
            "Finished audio {'name': '/content/drive/MyDrive/P07_ dog_cate_voice_classification/data/ cat_dogs/train/cat/cat_89.wav', 'class_idx': 0}\n",
            "Finished audio {'name': '/content/drive/MyDrive/P07_ dog_cate_voice_classification/data/ cat_dogs/train/dog/dog_barking_107.wav', 'class_idx': 1}\n",
            "Finished audio {'name': '/content/drive/MyDrive/P07_ dog_cate_voice_classification/data/ cat_dogs/train/dog/dog_barking_27.wav', 'class_idx': 1}\n",
            "Finished audio {'name': '/content/drive/MyDrive/P07_ dog_cate_voice_classification/data/ cat_dogs/train/dog/dog_barking_30.wav', 'class_idx': 1}\n",
            "Finished audio {'name': '/content/drive/MyDrive/P07_ dog_cate_voice_classification/data/ cat_dogs/train/dog/dog_barking_10.wav', 'class_idx': 1}\n",
            "Finished audio {'name': '/content/drive/MyDrive/P07_ dog_cate_voice_classification/data/ cat_dogs/train/dog/dog_barking_102.wav', 'class_idx': 1}\n",
            "Finished audio {'name': '/content/drive/MyDrive/P07_ dog_cate_voice_classification/data/ cat_dogs/train/dog/dog_barking_18.wav', 'class_idx': 1}\n",
            "Finished audio {'name': '/content/drive/MyDrive/P07_ dog_cate_voice_classification/data/ cat_dogs/train/dog/dog_barking_26.wav', 'class_idx': 1}\n",
            "Finished audio {'name': '/content/drive/MyDrive/P07_ dog_cate_voice_classification/data/ cat_dogs/train/dog/dog_barking_108.wav', 'class_idx': 1}\n",
            "Finished audio {'name': '/content/drive/MyDrive/P07_ dog_cate_voice_classification/data/ cat_dogs/train/dog/dog_barking_100.wav', 'class_idx': 1}\n",
            "Finished audio {'name': '/content/drive/MyDrive/P07_ dog_cate_voice_classification/data/ cat_dogs/train/dog/dog_barking_39.wav', 'class_idx': 1}\n",
            "Finished audio {'name': '/content/drive/MyDrive/P07_ dog_cate_voice_classification/data/ cat_dogs/train/dog/dog_barking_69.wav', 'class_idx': 1}\n",
            "Finished audio {'name': '/content/drive/MyDrive/P07_ dog_cate_voice_classification/data/ cat_dogs/train/dog/dog_barking_84.wav', 'class_idx': 1}\n",
            "Finished audio {'name': '/content/drive/MyDrive/P07_ dog_cate_voice_classification/data/ cat_dogs/train/dog/dog_barking_33.wav', 'class_idx': 1}\n",
            "Finished audio {'name': '/content/drive/MyDrive/P07_ dog_cate_voice_classification/data/ cat_dogs/train/dog/dog_barking_98.wav', 'class_idx': 1}\n",
            "Finished audio {'name': '/content/drive/MyDrive/P07_ dog_cate_voice_classification/data/ cat_dogs/train/dog/dog_barking_1.wav', 'class_idx': 1}\n",
            "Finished audio {'name': '/content/drive/MyDrive/P07_ dog_cate_voice_classification/data/ cat_dogs/train/dog/dog_barking_109.wav', 'class_idx': 1}\n",
            "Finished audio {'name': '/content/drive/MyDrive/P07_ dog_cate_voice_classification/data/ cat_dogs/train/dog/dog_barking_94.wav', 'class_idx': 1}\n"
          ]
        }
      ],
      "source": [
        "!python /content/preprocessingGTZAN.py   --sampling_rate 22050"
      ]
    },
    {
      "cell_type": "code",
      "execution_count": 8,
      "metadata": {
        "colab": {
          "base_uri": "https://localhost:8080/"
        },
        "id": "lBntWSLAglXa",
        "outputId": "37bc6060-0e6b-4623-8d96-1cc3a1a8a1d1"
      },
      "outputs": [
        {
          "output_type": "stream",
          "name": "stdout",
          "text": [
            "100% 84/84 [01:26<00:00,  1.03s/it, loss=0.676]\n",
            "Epoch 0/20 Loss:0.6756492589289943 Valid Acc:83.33333333333333\n",
            "100% 84/84 [01:27<00:00,  1.04s/it, loss=0.302]\n",
            "Epoch 1/20 Loss:0.30200273712121306 Valid Acc:83.33333333333333\n",
            "100% 84/84 [01:24<00:00,  1.01s/it, loss=0.204]\n",
            "Epoch 2/20 Loss:0.20373235917317548 Valid Acc:80.95238095238095\n",
            "100% 84/84 [01:27<00:00,  1.04s/it, loss=0.188]\n",
            "Epoch 3/20 Loss:0.18784215167120455 Valid Acc:88.0952380952381\n",
            "100% 84/84 [01:26<00:00,  1.02s/it, loss=0.219]\n",
            "Epoch 4/20 Loss:0.2194781554862857 Valid Acc:83.33333333333333\n",
            "100% 84/84 [01:27<00:00,  1.04s/it, loss=0.126]\n",
            "Epoch 5/20 Loss:0.1262490794428491 Valid Acc:83.33333333333333\n",
            "100% 84/84 [01:25<00:00,  1.01s/it, loss=0.130]\n",
            "Epoch 6/20 Loss:0.12954515275556505 Valid Acc:88.0952380952381\n",
            "100% 84/84 [01:23<00:00,  1.01it/s, loss=0.074]\n",
            "Epoch 7/20 Loss:0.0744552226249306 Valid Acc:88.0952380952381\n",
            "100% 84/84 [01:27<00:00,  1.04s/it, loss=0.067]\n",
            "Epoch 8/20 Loss:0.06707235110003412 Valid Acc:85.71428571428571\n",
            "100% 84/84 [01:25<00:00,  1.01s/it, loss=0.057]\n",
            "Epoch 9/20 Loss:0.056818598099718134 Valid Acc:88.0952380952381\n",
            "100% 84/84 [01:26<00:00,  1.02s/it, loss=0.069]\n",
            "Epoch 10/20 Loss:0.06898018350364596 Valid Acc:85.71428571428571\n",
            "100% 84/84 [01:24<00:00,  1.01s/it, loss=0.025]\n",
            "Epoch 11/20 Loss:0.025105210107063784 Valid Acc:85.71428571428571\n",
            "100% 84/84 [01:26<00:00,  1.03s/it, loss=0.014]\n",
            "Epoch 12/20 Loss:0.014362089504304874 Valid Acc:88.0952380952381\n",
            "100% 84/84 [01:28<00:00,  1.05s/it, loss=0.026]\n",
            "Epoch 13/20 Loss:0.026491883743368645 Valid Acc:88.0952380952381\n",
            "100% 84/84 [01:27<00:00,  1.04s/it, loss=0.091]\n",
            "Epoch 14/20 Loss:0.09113544667516613 Valid Acc:83.33333333333333\n",
            "100% 84/84 [01:28<00:00,  1.05s/it, loss=0.037]\n",
            "Epoch 15/20 Loss:0.03746961715764233 Valid Acc:90.47619047619048\n",
            "100% 84/84 [01:26<00:00,  1.03s/it, loss=0.087]\n",
            "Epoch 16/20 Loss:0.08710406732730223 Valid Acc:85.71428571428571\n",
            "100% 84/84 [01:26<00:00,  1.03s/it, loss=0.109]\n",
            "Epoch 17/20 Loss:0.10888336090803412 Valid Acc:88.0952380952381\n",
            "100% 84/84 [01:27<00:00,  1.04s/it, loss=0.054]\n",
            "Epoch 18/20 Loss:0.05401875589173176 Valid Acc:85.71428571428571\n",
            "100% 84/84 [01:28<00:00,  1.06s/it, loss=0.079]\n",
            "Epoch 19/20 Loss:0.07919263982746218 Valid Acc:88.0952380952381\n"
          ]
        }
      ],
      "source": [
        "!python /content/train.py --config_path /content/gtzan_densenet.json"
      ]
    },
    {
      "cell_type": "code",
      "source": [
        "!python /content/train.py --config_path /content/_random_densenet.json"
      ],
      "metadata": {
        "colab": {
          "base_uri": "https://localhost:8080/"
        },
        "id": "QDN-vNge5Wx_",
        "outputId": "8f512d88-45bc-4525-eebd-2c5cdb1e69c2"
      },
      "execution_count": 9,
      "outputs": [
        {
          "output_type": "stream",
          "name": "stdout",
          "text": [
            "100% 84/84 [01:26<00:00,  1.02s/it, loss=0.704]\n",
            "Epoch 0/20 Loss:0.7044380909452835 Valid Acc:80.95238095238095\n",
            "100% 84/84 [01:26<00:00,  1.02s/it, loss=0.290]\n",
            "Epoch 1/20 Loss:0.28969705550532254 Valid Acc:73.80952380952381\n",
            "100% 84/84 [01:26<00:00,  1.03s/it, loss=0.217]\n",
            "Epoch 2/20 Loss:0.2172006827313453 Valid Acc:80.95238095238095\n",
            "100% 84/84 [01:26<00:00,  1.03s/it, loss=0.187]\n",
            "Epoch 3/20 Loss:0.18687050975859165 Valid Acc:73.80952380952381\n",
            "100% 84/84 [01:28<00:00,  1.06s/it, loss=0.180]\n",
            "Epoch 4/20 Loss:0.18001406205197176 Valid Acc:85.71428571428571\n",
            "100% 84/84 [01:24<00:00,  1.01s/it, loss=0.183]\n",
            "Epoch 5/20 Loss:0.1826852174985799 Valid Acc:83.33333333333333\n",
            "100% 84/84 [01:26<00:00,  1.03s/it, loss=0.167]\n",
            "Epoch 6/20 Loss:0.16685955658266766 Valid Acc:80.95238095238095\n",
            "100% 84/84 [01:23<00:00,  1.00it/s, loss=0.118]\n",
            "Epoch 7/20 Loss:0.11784835681984467 Valid Acc:80.95238095238095\n",
            "100% 84/84 [01:21<00:00,  1.03it/s, loss=0.124]\n",
            "Epoch 8/20 Loss:0.12416497349650377 Valid Acc:85.71428571428571\n",
            "100% 84/84 [01:24<00:00,  1.00s/it, loss=0.115]\n",
            "Epoch 9/20 Loss:0.11528169392563757 Valid Acc:80.95238095238095\n",
            "100% 84/84 [01:23<00:00,  1.00it/s, loss=0.089]\n",
            "Epoch 10/20 Loss:0.08875984855971876 Valid Acc:80.95238095238095\n",
            "100% 84/84 [01:26<00:00,  1.03s/it, loss=0.047]\n",
            "Epoch 11/20 Loss:0.04707888048835143 Valid Acc:78.57142857142857\n",
            "100% 84/84 [01:26<00:00,  1.03s/it, loss=0.066]\n",
            "Epoch 12/20 Loss:0.06559858042358731 Valid Acc:83.33333333333333\n",
            "100% 84/84 [01:26<00:00,  1.03s/it, loss=0.073]\n",
            "Epoch 13/20 Loss:0.07305970304116186 Valid Acc:80.95238095238095\n",
            "100% 84/84 [01:26<00:00,  1.03s/it, loss=0.059]\n",
            "Epoch 14/20 Loss:0.05867310636676848 Valid Acc:80.95238095238095\n",
            "100% 84/84 [01:24<00:00,  1.00s/it, loss=0.051]\n",
            "Epoch 15/20 Loss:0.05082835033785419 Valid Acc:80.95238095238095\n",
            "100% 84/84 [01:26<00:00,  1.03s/it, loss=0.046]\n",
            "Epoch 16/20 Loss:0.0459010358172236 Valid Acc:85.71428571428571\n",
            "100% 84/84 [01:26<00:00,  1.03s/it, loss=0.019]\n",
            "Epoch 17/20 Loss:0.018582510873134846 Valid Acc:88.0952380952381\n",
            "100% 84/84 [01:26<00:00,  1.03s/it, loss=0.062]\n",
            "Epoch 18/20 Loss:0.06193073181341225 Valid Acc:83.33333333333333\n",
            "100% 84/84 [01:27<00:00,  1.04s/it, loss=0.040]\n",
            "Epoch 19/20 Loss:0.04019106459860008 Valid Acc:80.95238095238095\n"
          ]
        }
      ]
    },
    {
      "cell_type": "code",
      "source": [
        "!python /content/train.py --config_path /content/random_resnet.json"
      ],
      "metadata": {
        "id": "qlHDRrf75juw"
      },
      "execution_count": null,
      "outputs": []
    },
    {
      "cell_type": "code",
      "source": [
        "!python /content/train.py --config_path /content/Pretrained_resnet.json"
      ],
      "metadata": {
        "colab": {
          "base_uri": "https://localhost:8080/"
        },
        "id": "E4-DusQd59XW",
        "outputId": "36144d3e-a869-459d-dd52-66ff8b64be9d"
      },
      "execution_count": 11,
      "outputs": [
        {
          "output_type": "stream",
          "name": "stdout",
          "text": [
            "Traceback (most recent call last):\n",
            "  File \"/content/train.py\", line 87, in <module>\n",
            "    model = models.resnet.ResNet(params.dataset_name, params.pretrained).to(device)\n",
            "NameError: name 'models' is not defined\n"
          ]
        }
      ]
    },
    {
      "cell_type": "code",
      "source": [
        "!python /content/train.py --config_path /content/random_inception.json"
      ],
      "metadata": {
        "id": "QD7m_57Z815G",
        "colab": {
          "base_uri": "https://localhost:8080/"
        },
        "outputId": "49b45a11-b095-4106-df85-8557a88856f0"
      },
      "execution_count": 12,
      "outputs": [
        {
          "output_type": "stream",
          "name": "stdout",
          "text": [
            "Traceback (most recent call last):\n",
            "  File \"/content/train.py\", line 89, in <module>\n",
            "    model = models.inception.Inception(params.dataset_name, params.pretrained).to(device) \n",
            "NameError: name 'models' is not defined\n"
          ]
        }
      ]
    },
    {
      "cell_type": "code",
      "source": [
        "!python /content/train.py --config_path  /content/Pretrained_inception.json"
      ],
      "metadata": {
        "colab": {
          "base_uri": "https://localhost:8080/"
        },
        "id": "jBPQ9owb82Ou",
        "outputId": "63d7939b-6f8f-4e02-de81-268e3a2f28a2"
      },
      "execution_count": 13,
      "outputs": [
        {
          "metadata": {
            "tags": null
          },
          "name": "stdout",
          "output_type": "stream",
          "text": [
            "Traceback (most recent call last):\n",
            "  File \"/content/train.py\", line 89, in <module>\n",
            "    model = models.inception.Inception(params.dataset_name, params.pretrained).to(device) \n",
            "NameError: name 'models' is not defined\n"
          ]
        }
      ]
    }
  ],
  "metadata": {
    "colab": {
      "name": "New_P7.ipynb",
      "provenance": [],
      "collapsed_sections": [],
      "mount_file_id": "1dHFZ3U6iNMvFBdEaLopegnLN9o3IsOI8",
      "authorship_tag": "ABX9TyOHNn6LrpeUh2ADt7lyDM6E",
      "include_colab_link": true
    },
    "kernelspec": {
      "display_name": "Python 3",
      "name": "python3"
    },
    "language_info": {
      "name": "python"
    },
    "accelerator": "GPU"
  },
  "nbformat": 4,
  "nbformat_minor": 0
}